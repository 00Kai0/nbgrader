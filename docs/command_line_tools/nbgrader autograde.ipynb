{
 "metadata": {
  "name": "",
  "signature": "sha256:4e90e5ef5368133fc2f29c2b6f94c22d23ee6a12c8abf7aee48b1bbbd6eb90e7"
 },
 "nbformat": 3,
 "nbformat_minor": 0,
 "worksheets": [
  {
   "cells": [
    {
     "cell_type": "markdown",
     "metadata": {},
     "source": [
      "# `nbgrader autograde`"
     ]
    },
    {
     "cell_type": "code",
     "collapsed": false,
     "input": [
      "!nbgrader autograde --help-all"
     ],
     "language": "python",
     "metadata": {},
     "outputs": [
      {
       "output_type": "stream",
       "stream": "stdout",
       "text": [
        "Autograde a notebook by running it\n",
        "\n",
        "Options\n",
        "-------\n",
        "\n",
        "Arguments that take values are actually convenience aliases to full\n",
        "Configurables, whose aliases are listed on the help line. For more information\n",
        "on full configurables, see '--help-all'.\n",
        "\n",
        "--debug\n",
        "    set log level to logging.DEBUG (maximize logging output)\n",
        "--init\n",
        "    Initialize profile with default config files.  This is equivalent\n",
        "    to running `ipython profile create <profile>` prior to startup.\n",
        "--quiet\n",
        "    set log level to logging.CRITICAL (minimize logging output)\n",
        "--stdout\n",
        "    Write notebook output to stdout instead of files.\n",
        "Traceback (most recent call last):\n",
        "  File \"/usr/local/bin/nbgrader\", line 6, in <module>\n",
        "    exec(compile(open(__file__).read(), __file__, 'exec'))\n",
        "  File \"/Users/jhamrick/project/tools/nbgrader/scripts/nbgrader\", line 4, in <module>\n",
        "    main()\n",
        "  File \"/Users/jhamrick/project/tools/nbgrader/nbgrader/apps/nbgraderapp.py\", line 61, in main\n",
        "    NBGraderApp.launch_instance()\n",
        "  File \"/Users/jhamrick/project/tools/ipython/IPython/config/application.py\", line 558, in launch_instance\n",
        "    app.initialize(argv)\n",
        "  File \"<string>\", line 2, in initialize\n",
        "  File \"/Users/jhamrick/project/tools/ipython/IPython/config/application.py\", line 74, in catch_config_error\n",
        "    return method(app, *args, **kwargs)\n",
        "  File \"/Users/jhamrick/project/tools/nbgrader/nbgrader/apps/nbgraderapp.py\", line 53, in initialize\n",
        "    super(NBGraderApp,self).initialize(argv)\n",
        "  File \"<string>\", line 2, in initialize\n",
        "  File \"/Users/jhamrick/project/tools/ipython/IPython/config/application.py\", line 74, in catch_config_error\n",
        "    return method(app, *args, **kwargs)\n",
        "  File \"/Users/jhamrick/project/tools/ipython/IPython/core/application.py\", line 378, in initialize\n",
        "    self.parse_command_line(argv)\n",
        "  File \"<string>\", line 2, in parse_command_line\n",
        "  File \"/Users/jhamrick/project/tools/ipython/IPython/config/application.py\", line 74, in catch_config_error\n",
        "    return method(app, *args, **kwargs)\n",
        "  File \"/Users/jhamrick/project/tools/ipython/IPython/config/application.py\", line 470, in parse_command_line\n",
        "    return self.initialize_subcommand(subc, subargv)\n",
        "  File \"<string>\", line 2, in initialize_subcommand\n",
        "  File \"/Users/jhamrick/project/tools/ipython/IPython/config/application.py\", line 74, in catch_config_error\n",
        "    return method(app, *args, **kwargs)\n",
        "  File \"/Users/jhamrick/project/tools/ipython/IPython/config/application.py\", line 408, in initialize_subcommand\n",
        "    self.subapp.initialize(argv)\n",
        "  File \"<string>\", line 2, in initialize\n",
        "  File \"/Users/jhamrick/project/tools/ipython/IPython/config/application.py\", line 74, in catch_config_error\n",
        "    return method(app, *args, **kwargs)\n",
        "  File \"/Users/jhamrick/project/tools/nbgrader/nbgrader/apps/customnbconvertapp.py\", line 41, in initialize\n",
        "    super(CustomNbConvertApp,self).initialize(argv)\n",
        "  File \"<string>\", line 2, in initialize\n",
        "  File \"/Users/jhamrick/project/tools/ipython/IPython/config/application.py\", line 74, in catch_config_error\n",
        "    return method(app, *args, **kwargs)\n",
        "  File \"/Users/jhamrick/project/tools/ipython/IPython/nbconvert/nbconvertapp.py\", line 191, in initialize\n",
        "    super(NbConvertApp, self).initialize(argv)\n",
        "  File \"<string>\", line 2, in initialize\n",
        "  File \"/Users/jhamrick/project/tools/ipython/IPython/config/application.py\", line 74, in catch_config_error\n",
        "    return method(app, *args, **kwargs)\n",
        "  File \"/Users/jhamrick/project/tools/ipython/IPython/core/application.py\", line 378, in initialize\n",
        "    self.parse_command_line(argv)\n",
        "  File \"<string>\", line 2, in parse_command_line\n",
        "  File \"/Users/jhamrick/project/tools/ipython/IPython/config/application.py\", line 74, in catch_config_error\n",
        "    return method(app, *args, **kwargs)\n",
        "  File \"/Users/jhamrick/project/tools/ipython/IPython/config/application.py\", line 482, in parse_command_line\n",
        "    self.print_help('--help-all' in interpreted_argv)\n",
        "  File \"/Users/jhamrick/project/tools/ipython/IPython/config/application.py\", line 340, in print_help\n",
        "    self.print_options()\n",
        "  File \"/Users/jhamrick/project/tools/ipython/IPython/config/application.py\", line 311, in print_options\n",
        "    self.print_alias_help()\n",
        "  File \"/Users/jhamrick/project/tools/ipython/IPython/config/application.py\", line 275, in print_alias_help\n",
        "    cls = classdict[classname]\n",
        "KeyError: 'FindStudentID'\n"
       ]
      }
     ],
     "prompt_number": 1
    }
   ],
   "metadata": {}
  }
 ]
}