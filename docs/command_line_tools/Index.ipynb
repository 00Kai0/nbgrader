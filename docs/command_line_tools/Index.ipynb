{
 "cells": [
  {
   "cell_type": "markdown",
   "metadata": {},
   "source": [
    "# Command line tools for `nbgrader`"
   ]
  },
  {
   "cell_type": "markdown",
   "metadata": {},
   "source": [
    "nbgrader provides several command line tools to help you release and grade assignments:\n",
    "\n",
    "1. [`nbgrader assign`](nbgrader assign.ipynb)\n",
    "2. [`nbgrader autograde`](nbgrader autograde.ipynb)\n",
    "3. [`nbgrader formgrade`](nbgrader formgrade.ipynb)"
   ]
  }
 ],
 "metadata": {
  "kernelspec": {
   "display_name": "IPython (Python 3)",
   "name": "python3"
  },
  "language_info": {
   "codemirror_mode": {
    "name": "ipython",
    "version": 3
   },
   "mimetype": "text/x-python",
   "name": "python",
   "pygments_lexer": "ipython3"
  },
  "signature": "sha256:87169c7c1b751d442a6a2cda3472bb9f15021a72e3ac75dec8b406d892e18363"
 },
 "nbformat": 4,
 "nbformat_minor": 0
}