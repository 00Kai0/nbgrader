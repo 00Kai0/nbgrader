{
 "metadata": {
  "name": "",
  "signature": "sha256:3594cc79b66184c49d8c6825f3c196f4dae91db5badb7b4265a91aba5b28d7fd"
 },
 "nbformat": 3,
 "nbformat_minor": 0,
 "worksheets": [
  {
   "cells": [
    {
     "cell_type": "markdown",
     "metadata": {},
     "source": [
      "# Command line tools for `nbgrader`"
     ]
    },
    {
     "cell_type": "markdown",
     "metadata": {},
     "source": [
      "nbgrader provides several command line tools to help you release and grade assignments:\n",
      "\n",
      "1. [`nbgrader assign`](nbgrader assign.ipynb)\n",
      "2. [`nbgrader autograde`](nbgrader autograde.ipynb)\n",
      "3. [`nbgrader formgrade`](nbgrader formgrade.ipynb)"
     ]
    }
   ],
   "metadata": {}
  }
 ]
}