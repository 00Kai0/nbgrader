{
 "metadata": {
  "name": "",
  "signature": "sha256:c3d79d465117f0f2efec94057c344ab58c6742e657a38c286ceb76d9a223a554"
 },
 "nbformat": 3,
 "nbformat_minor": 0,
 "worksheets": [
  {
   "cells": [
    {
     "cell_type": "markdown",
     "metadata": {},
     "source": [
      "# `nbgrader formgrade`"
     ]
    },
    {
     "cell_type": "code",
     "collapsed": false,
     "input": [
      "!nbgrader formgrade --help-all"
     ],
     "language": "python",
     "metadata": {},
     "outputs": [
      {
       "output_type": "stream",
       "stream": "stdout",
       "text": [
        "Grade a notebook using an HTML form\r\n",
        "\r\n",
        "Options\r\n",
        "-------\r\n",
        "\r\n",
        "Arguments that take values are actually convenience aliases to full\r\n",
        "Configurables, whose aliases are listed on the help line. For more information\r\n",
        "on full configurables, see '--help-all'.\r\n",
        "\r\n",
        "--init\r\n",
        "    Initialize profile with default config files.  This is equivalent\r\n",
        "    to running `ipython profile create <profile>` prior to startup.\r\n",
        "--execute\r\n",
        "    Execute the notebook prior to export.\r\n",
        "--stdout\r\n",
        "    Write notebook output to stdout instead of files.\r\n",
        "--debug\r\n",
        "    set log level to logging.DEBUG (maximize logging output)\r\n",
        "--serve\r\n",
        "    Run the form grading server\r\n",
        "--quiet\r\n",
        "    set log level to logging.CRITICAL (minimize logging output)\r\n",
        "Traceback (most recent call last):\r\n",
        "  File \"/usr/local/bin/nbgrader\", line 6, in <module>\r\n",
        "    exec(compile(open(__file__).read(), __file__, 'exec'))\r\n",
        "  File \"/Users/jhamrick/project/tools/nbgrader/scripts/nbgrader\", line 4, in <module>\r\n",
        "    main()\r\n",
        "  File \"/Users/jhamrick/project/tools/nbgrader/nbgrader/apps/nbgraderapp.py\", line 61, in main\r\n",
        "    NBGraderApp.launch_instance()\r\n",
        "  File \"/Users/jhamrick/project/tools/ipython/IPython/config/application.py\", line 563, in launch_instance\r\n",
        "    app.initialize(argv)\r\n",
        "  File \"<string>\", line 2, in initialize\r\n",
        "  File \"/Users/jhamrick/project/tools/ipython/IPython/config/application.py\", line 74, in catch_config_error\r\n",
        "    return method(app, *args, **kwargs)\r\n",
        "  File \"/Users/jhamrick/project/tools/nbgrader/nbgrader/apps/nbgraderapp.py\", line 53, in initialize\r\n",
        "    super(NBGraderApp,self).initialize(argv)\r\n",
        "  File \"<string>\", line 2, in initialize\r\n",
        "  File \"/Users/jhamrick/project/tools/ipython/IPython/config/application.py\", line 74, in catch_config_error\r\n",
        "    return method(app, *args, **kwargs)\r\n",
        "  File \"/Users/jhamrick/project/tools/ipython/IPython/core/application.py\", line 368, in initialize\r\n",
        "    self.parse_command_line(argv)\r\n",
        "  File \"<string>\", line 2, in parse_command_line\r\n",
        "  File \"/Users/jhamrick/project/tools/ipython/IPython/config/application.py\", line 74, in catch_config_error\r\n",
        "    return method(app, *args, **kwargs)\r\n",
        "  File \"/Users/jhamrick/project/tools/ipython/IPython/config/application.py\", line 470, in parse_command_line\r\n",
        "    return self.initialize_subcommand(subc, subargv)\r\n",
        "  File \"<string>\", line 2, in initialize_subcommand\r\n",
        "  File \"/Users/jhamrick/project/tools/ipython/IPython/config/application.py\", line 74, in catch_config_error\r\n",
        "    return method(app, *args, **kwargs)\r\n",
        "  File \"/Users/jhamrick/project/tools/ipython/IPython/config/application.py\", line 408, in initialize_subcommand\r\n",
        "    self.subapp.initialize(argv)\r\n",
        "  File \"<string>\", line 2, in initialize\r\n",
        "  File \"/Users/jhamrick/project/tools/ipython/IPython/config/application.py\", line 74, in catch_config_error\r\n",
        "    return method(app, *args, **kwargs)\r\n",
        "  File \"/Users/jhamrick/project/tools/nbgrader/nbgrader/apps/customnbconvertapp.py\", line 42, in initialize\r\n",
        "    super(CustomNbConvertApp,self).initialize(argv)\r\n",
        "  File \"<string>\", line 2, in initialize\r\n",
        "  File \"/Users/jhamrick/project/tools/ipython/IPython/config/application.py\", line 74, in catch_config_error\r\n",
        "    return method(app, *args, **kwargs)\r\n",
        "  File \"/Users/jhamrick/project/tools/ipython/IPython/nbconvert/nbconvertapp.py\", line 196, in initialize\r\n",
        "    super(NbConvertApp, self).initialize(argv)\r\n",
        "  File \"<string>\", line 2, in initialize\r\n",
        "  File \"/Users/jhamrick/project/tools/ipython/IPython/config/application.py\", line 74, in catch_config_error\r\n",
        "    return method(app, *args, **kwargs)\r\n",
        "  File \"/Users/jhamrick/project/tools/ipython/IPython/core/application.py\", line 368, in initialize\r\n",
        "    self.parse_command_line(argv)\r\n",
        "  File \"<string>\", line 2, in parse_command_line\r\n",
        "  File \"/Users/jhamrick/project/tools/ipython/IPython/config/application.py\", line 74, in catch_config_error\r\n",
        "    return method(app, *args, **kwargs)\r\n",
        "  File \"/Users/jhamrick/project/tools/ipython/IPython/config/application.py\", line 482, in parse_command_line\r\n",
        "    self.print_help('--help-all' in interpreted_argv)\r\n",
        "  File \"/Users/jhamrick/project/tools/ipython/IPython/config/application.py\", line 340, in print_help\r\n",
        "    self.print_options()\r\n",
        "  File \"/Users/jhamrick/project/tools/ipython/IPython/config/application.py\", line 311, in print_options\r\n",
        "    self.print_alias_help()\r\n",
        "  File \"/Users/jhamrick/project/tools/ipython/IPython/config/application.py\", line 275, in print_alias_help\r\n",
        "    cls = classdict[classname]\r\n",
        "KeyError: 'FindStudentID'\r\n"
       ]
      }
     ],
     "prompt_number": 1
    }
   ],
   "metadata": {}
  }
 ]
}