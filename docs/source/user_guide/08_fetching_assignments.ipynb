{
 "cells": [
  {
   "cell_type": "markdown",
   "metadata": {},
   "source": [
    "# Fetching assignments"
   ]
  },
  {
   "cell_type": "raw",
   "metadata": {},
   "source": [
    ".. seealso::\n",
    "\n",
    "    :doc:`/command_line_tools/nbgrader-fetch`\n",
    "        Command line options for ``nbgrader fetch``\n",
    "\n",
    "    :doc:`/command_line_tools/nbgrader-list`\n",
    "        Command line options for ``nbgrader list``\n",
    "\n",
    "    :doc:`/config_options`\n",
    "        Details on ``nbgrader_config.py``"
   ]
  },
  {
   "cell_type": "markdown",
   "metadata": {},
   "source": [
    "From the student's perspective, they can list what assignments have been released, and then fetch a copy of the assignment to work on. First, we'll create a temporary directory to represent the student's home directory:"
   ]
  },
  {
   "cell_type": "code",
   "execution_count": 1,
   "metadata": {
    "collapsed": false
   },
   "outputs": [],
   "source": [
    "%%bash\n",
    "\n",
    "# remove the fake student home directory if it exists, for demo purposes\n",
    "rm -rf /tmp/student_home\n",
    "\n",
    "# create the fake student home directory and switch to it\n",
    "mkdir /tmp/student_home"
   ]
  },
  {
   "cell_type": "markdown",
   "metadata": {},
   "source": [
    "If you are not using the default exchange directory (as is the case here), you will additionally need to provide your students with a configuration file that sets the appropriate directory for them:"
   ]
  },
  {
   "cell_type": "code",
   "execution_count": 2,
   "metadata": {
    "collapsed": false
   },
   "outputs": [
    {
     "name": "stdout",
     "output_type": "stream",
     "text": [
      "Writing /tmp/student_home/nbgrader_config.py\n"
     ]
    }
   ],
   "source": [
    "%%file /tmp/student_home/nbgrader_config.py\n",
    "\n",
    "c = get_config()\n",
    "c.TransferApp.exchange_directory = '/tmp/exchange'\n",
    "c.NbGrader.course_id = \"example_course\""
   ]
  },
  {
   "cell_type": "markdown",
   "metadata": {},
   "source": [
    "## From the command line"
   ]
  },
  {
   "cell_type": "markdown",
   "metadata": {},
   "source": [
    "From the student's perspective, they can see what assignments have been released using `nbgrader list`, and passing the name of the class:"
   ]
  },
  {
   "cell_type": "code",
   "execution_count": 3,
   "metadata": {
    "collapsed": false,
    "scrolled": true
   },
   "outputs": [
    {
     "name": "stderr",
     "output_type": "stream",
     "text": [
      "[ListApp | INFO] Released assignments:\n",
      "[ListApp | INFO] example_course Problem Set 1\n"
     ]
    }
   ],
   "source": [
    "%%bash\n",
    "export HOME=/tmp/student_home && cd $HOME\n",
    "\n",
    "nbgrader list"
   ]
  },
  {
   "cell_type": "markdown",
   "metadata": {},
   "source": [
    "They can then fetch an assignment for that class using `nbgrader fetch` and passing the name of the class and the name of the assignment:"
   ]
  },
  {
   "cell_type": "code",
   "execution_count": 4,
   "metadata": {
    "collapsed": false
   },
   "outputs": [
    {
     "name": "stderr",
     "output_type": "stream",
     "text": [
      "[FetchApp | INFO] Source: /tmp/exchange/example_course/outbound/Problem Set 1\n",
      "[FetchApp | INFO] Destination: /private/tmp/student_home/Problem Set 1\n",
      "[FetchApp | INFO] Fetched as: example_course Problem Set 1\n"
     ]
    }
   ],
   "source": [
    "%%bash\n",
    "export HOME=/tmp/student_home && cd $HOME\n",
    "\n",
    "nbgrader fetch \"Problem Set 1\""
   ]
  },
  {
   "cell_type": "markdown",
   "metadata": {},
   "source": [
    "Note that running `nbgrader fetch` copies the assignment files from the exchange directory to the local directory, and therefore can be used from any directory:"
   ]
  },
  {
   "cell_type": "code",
   "execution_count": 5,
   "metadata": {
    "collapsed": false
   },
   "outputs": [
    {
     "name": "stdout",
     "output_type": "stream",
     "text": [
      "total 40\n",
      "-rw-r--r--  1 jhamrick  wheel  8082 Mar  3 14:31 Problem 1.ipynb\n",
      "-rw-r--r--  1 jhamrick  wheel  2517 Mar  3 14:31 Problem 2.ipynb\n",
      "-rw-r--r--  1 jhamrick  wheel  5733 Mar  3 14:31 jupyter.png\n"
     ]
    }
   ],
   "source": [
    "%%bash\n",
    "\n",
    "ls -l \"/tmp/student_home/Problem Set 1\""
   ]
  },
  {
   "cell_type": "markdown",
   "metadata": {},
   "source": [
    "Additionally, the `nbgrader fetch` (as well as `nbgrader submit`) command also does not rely on having access to the nbgrader database -- the database is only used by instructors."
   ]
  },
  {
   "cell_type": "markdown",
   "metadata": {},
   "source": [
    "## From the notebook dashboard"
   ]
  },
  {
   "cell_type": "raw",
   "metadata": {},
   "source": [
    "Alternatively, students can fetch assignments using the assignment list notebook server extension. You must have installed the extension by following the instructions `here <https://github.com/jupyter/nbgrader>`__, after which you should see an \"Assignments\" tab in dashboard:"
   ]
  },
  {
   "cell_type": "markdown",
   "metadata": {},
   "source": [
    "![](images/assignment_list_released.png)"
   ]
  },
  {
   "cell_type": "markdown",
   "metadata": {},
   "source": [
    "The image above shows that there has been one assignment released (\"ps0\") for the class \"cogsci131\". To get this assignment, students can click the \"Fetch\" button (analogous to running `nbgrader fetch ps0 --course cogsci131`. **Note: this assumes nbgrader is always run from the root of the notebook server, which on JupyterHub is most likely the root of the user's home directory.**\n",
    "\n",
    "After the assignment is fetched, it will appear in the list of \"Downloaded assignments\":\n",
    "\n",
    "![](images/assignment_list_downloaded.png)"
   ]
  },
  {
   "cell_type": "markdown",
   "metadata": {},
   "source": [
    "Students can click on the name of the assignment to expand it and see all the notebooks in the assignment:\n",
    "\n",
    "![](images/assignment_list_downloaded_expanded.png)\n",
    "\n",
    "Clicking on a particular notebook will open it in a new tab in the browser."
   ]
  }
 ],
 "metadata": {},
 "nbformat": 4,
 "nbformat_minor": 0
}