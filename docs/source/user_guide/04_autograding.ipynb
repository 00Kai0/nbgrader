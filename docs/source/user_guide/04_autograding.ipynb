{
 "cells": [
  {
   "cell_type": "markdown",
   "metadata": {},
   "source": [
    "# Autograde assignments"
   ]
  },
  {
   "cell_type": "raw",
   "metadata": {},
   "source": [
    ".. seealso::\n",
    "\n",
    "    :doc:`/command_line_tools/nbgrader-autograde`\n",
    "        Command line options for ``nbgrader autograde``\n",
    "        \n",
    "    :doc:`01a_filestructure`\n",
    "        Details about how the directory hierarchy is structured\n",
    "\n",
    "    :doc:`/config_options`\n",
    "        Details on ``nbgrader_config.py``"
   ]
  },
  {
   "cell_type": "raw",
   "metadata": {},
   "source": [
    "After assignments have been submitted by students, you will want to save them into a ``submitted`` directory. As described in :doc:`01a_filestructure`, you need to organize your files in a particular way. For autograding assignments, you should have the submitted versions of students' assignments organized as follows:"
   ]
  },
  {
   "cell_type": "markdown",
   "metadata": {},
   "source": [
    "```\n",
    "submitted/{student_id}/{assignment_id}/{notebook_id}.ipynb\n",
    "```\n",
    "\n",
    "After running `nbgrader autograde`, the autograded version of the notebooks will be:\n",
    "\n",
    "```\n",
    "autograded/{student_id}/{assignment_id}/{notebook_id}.ipynb\n",
    "```"
   ]
  },
  {
   "cell_type": "markdown",
   "metadata": {},
   "source": [
    "## Workflow example: Instructor autograding assignments"
   ]
  },
  {
   "cell_type": "markdown",
   "metadata": {},
   "source": [
    "In the following example, we have an assignment with two notebooks. There are two submissions of the assignment:\n",
    "\n",
    "Submission 1:\n",
    "\n",
    "* [submitted/Bitdiddle/Problem Set 1/Problem 1.ipynb](submitted/Bitdiddle/Problem Set 1/Problem 1.ipynb)\n",
    "* [submitted/Bitdiddle/Problem Set 1/Problem 2.ipynb](submitted/Bitdiddle/Problem Set 1/Problem 2.ipynb)\n",
    "\n",
    "Submission 2:\n",
    "\n",
    "* [submitted/Hacker/Problem Set 1/Problem 1.ipynb](submitted/Hacker/Problem Set 1/Problem 1.ipynb)\n",
    "* [submitted/Hacker/Problem Set 1/Problem 2.ipynb](submitted/Hacker/Problem Set 1/Problem 2.ipynb)"
   ]
  },
  {
   "cell_type": "markdown",
   "metadata": {},
   "source": [
    "Before we can actually start grading, we need to actually specify who the students are. We can do this through the `nbgrader_config.py` file, where we also specify the list of assignments:"
   ]
  },
  {
   "cell_type": "code",
   "execution_count": 1,
   "metadata": {
    "collapsed": false
   },
   "outputs": [
    {
     "name": "stdout",
     "output_type": "stream",
     "text": [
      "Overwriting nbgrader_config.py\n"
     ]
    }
   ],
   "source": [
    "%%file nbgrader_config.py\n",
    "\n",
    "c = get_config()\n",
    "c.NbGrader.db_assignments = [dict(name=\"Problem Set 1\")]\n",
    "c.NbGrader.db_students = [\n",
    "    dict(id=\"Bitdiddle\", first_name=\"Ben\", last_name=\"Bitdiddle\"),\n",
    "    dict(id=\"Hacker\", first_name=\"Alyssa\", last_name=\"Hacker\"),\n",
    "    dict(id=\"Reasoner\", first_name=\"Louis\", last_name=\"Reasoner\")\n",
    "]"
   ]
  },
  {
   "cell_type": "markdown",
   "metadata": {},
   "source": [
    "Once the config file has been set up with the students, we can run the autograder (and as with the other nbgrader commands for instructors, this must be run from the root of the course directory):"
   ]
  },
  {
   "cell_type": "code",
   "execution_count": 2,
   "metadata": {
    "collapsed": false
   },
   "outputs": [
    {
     "name": "stderr",
     "output_type": "stream",
     "text": [
      "[AutogradeApp | INFO] Copying /Users/jhamrick/project/tools/nbgrader/docs/source/user_guide/submitted/Bitdiddle/Problem Set 1/jupyter.png -> /Users/jhamrick/project/tools/nbgrader/docs/source/user_guide/autograded/Bitdiddle/Problem Set 1/jupyter.png\n",
      "[AutogradeApp | INFO] Copying /Users/jhamrick/project/tools/nbgrader/docs/source/user_guide/submitted/Bitdiddle/Problem Set 1/timestamp.txt -> /Users/jhamrick/project/tools/nbgrader/docs/source/user_guide/autograded/Bitdiddle/Problem Set 1/timestamp.txt\n",
      "[AutogradeApp | INFO] Creating/updating student with ID 'Bitdiddle': {'last_name': 'Bitdiddle', 'first_name': 'Ben'}\n",
      "[AutogradeApp | INFO] SubmittedAssignment<Problem Set 1 for Bitdiddle> submitted at 2015-02-02 14:58:23.948203\n",
      "[AutogradeApp | INFO] Overwriting files with master versions from the source directory\n",
      "[AutogradeApp | INFO] Copying /Users/jhamrick/project/tools/nbgrader/docs/source/user_guide/source/./Problem Set 1/jupyter.png -> /Users/jhamrick/project/tools/nbgrader/docs/source/user_guide/autograded/Bitdiddle/Problem Set 1/jupyter.png\n",
      "[AutogradeApp | INFO] Sanitizing /Users/jhamrick/project/tools/nbgrader/docs/source/user_guide/submitted/Bitdiddle/Problem Set 1/Problem 1.ipynb\n",
      "[AutogradeApp | INFO] Converting notebook /Users/jhamrick/project/tools/nbgrader/docs/source/user_guide/submitted/Bitdiddle/Problem Set 1/Problem 1.ipynb to notebook\n",
      "[AutogradeApp | WARNING] Attribute 'checksum' for cell correct_squares has changed! (should be: 8e029652317e6c6a37a72710dc8d2429, got: 226c4a10e053c37fdb3a14a105c53fbb)\n",
      "[AutogradeApp | WARNING] Attribute 'checksum' for cell squares_invalid_input has changed! (should be: c6ff383fa27ce1c2eb97789816c93069, got: 123394e73f33a622ec057e2eae51a54a)\n",
      "[AutogradeApp | INFO] Writing 8228 bytes to /Users/jhamrick/project/tools/nbgrader/docs/source/user_guide/autograded/Bitdiddle/Problem Set 1/Problem 1.ipynb\n",
      "[AutogradeApp | INFO] Autograding /Users/jhamrick/project/tools/nbgrader/docs/source/user_guide/autograded/Bitdiddle/Problem Set 1/Problem 1.ipynb\n",
      "[AutogradeApp | INFO] Converting notebook /Users/jhamrick/project/tools/nbgrader/docs/source/user_guide/autograded/Bitdiddle/Problem Set 1/Problem 1.ipynb to notebook\n",
      "[AutogradeApp | INFO] Executing notebook with kernel: python\n",
      "[AutogradeApp | INFO] Writing 21478 bytes to /Users/jhamrick/project/tools/nbgrader/docs/source/user_guide/autograded/Bitdiddle/Problem Set 1/Problem 1.ipynb\n",
      "[AutogradeApp | INFO] Sanitizing /Users/jhamrick/project/tools/nbgrader/docs/source/user_guide/submitted/Bitdiddle/Problem Set 1/Problem 2.ipynb\n",
      "[AutogradeApp | INFO] Converting notebook /Users/jhamrick/project/tools/nbgrader/docs/source/user_guide/submitted/Bitdiddle/Problem Set 1/Problem 2.ipynb to notebook\n",
      "[AutogradeApp | INFO] Writing 2556 bytes to /Users/jhamrick/project/tools/nbgrader/docs/source/user_guide/autograded/Bitdiddle/Problem Set 1/Problem 2.ipynb\n",
      "[AutogradeApp | INFO] Autograding /Users/jhamrick/project/tools/nbgrader/docs/source/user_guide/autograded/Bitdiddle/Problem Set 1/Problem 2.ipynb\n",
      "[AutogradeApp | INFO] Converting notebook /Users/jhamrick/project/tools/nbgrader/docs/source/user_guide/autograded/Bitdiddle/Problem Set 1/Problem 2.ipynb to notebook\n",
      "[AutogradeApp | INFO] Executing notebook with kernel: python\n",
      "[AutogradeApp | INFO] Writing 2553 bytes to /Users/jhamrick/project/tools/nbgrader/docs/source/user_guide/autograded/Bitdiddle/Problem Set 1/Problem 2.ipynb\n",
      "[AutogradeApp | INFO] Setting destination file permissions to 444\n",
      "[AutogradeApp | INFO] Copying /Users/jhamrick/project/tools/nbgrader/docs/source/user_guide/submitted/Hacker/Problem Set 1/jupyter.png -> /Users/jhamrick/project/tools/nbgrader/docs/source/user_guide/autograded/Hacker/Problem Set 1/jupyter.png\n",
      "[AutogradeApp | INFO] Copying /Users/jhamrick/project/tools/nbgrader/docs/source/user_guide/submitted/Hacker/Problem Set 1/timestamp.txt -> /Users/jhamrick/project/tools/nbgrader/docs/source/user_guide/autograded/Hacker/Problem Set 1/timestamp.txt\n",
      "[AutogradeApp | INFO] Creating/updating student with ID 'Hacker': {'last_name': 'Hacker', 'first_name': 'Alyssa'}\n",
      "[AutogradeApp | INFO] SubmittedAssignment<Problem Set 1 for Hacker> submitted at 2015-02-01 09:28:58.749302\n",
      "[AutogradeApp | INFO] Overwriting files with master versions from the source directory\n",
      "[AutogradeApp | INFO] Copying /Users/jhamrick/project/tools/nbgrader/docs/source/user_guide/source/./Problem Set 1/jupyter.png -> /Users/jhamrick/project/tools/nbgrader/docs/source/user_guide/autograded/Hacker/Problem Set 1/jupyter.png\n",
      "[AutogradeApp | INFO] Sanitizing /Users/jhamrick/project/tools/nbgrader/docs/source/user_guide/submitted/Hacker/Problem Set 1/Problem 1.ipynb\n",
      "[AutogradeApp | INFO] Converting notebook /Users/jhamrick/project/tools/nbgrader/docs/source/user_guide/submitted/Hacker/Problem Set 1/Problem 1.ipynb to notebook\n",
      "[AutogradeApp | INFO] Writing 8965 bytes to /Users/jhamrick/project/tools/nbgrader/docs/source/user_guide/autograded/Hacker/Problem Set 1/Problem 1.ipynb\n",
      "[AutogradeApp | INFO] Autograding /Users/jhamrick/project/tools/nbgrader/docs/source/user_guide/autograded/Hacker/Problem Set 1/Problem 1.ipynb\n",
      "[AutogradeApp | INFO] Converting notebook /Users/jhamrick/project/tools/nbgrader/docs/source/user_guide/autograded/Hacker/Problem Set 1/Problem 1.ipynb to notebook\n",
      "[AutogradeApp | INFO] Executing notebook with kernel: python\n",
      "[AutogradeApp | INFO] Writing 9595 bytes to /Users/jhamrick/project/tools/nbgrader/docs/source/user_guide/autograded/Hacker/Problem Set 1/Problem 1.ipynb\n",
      "[AutogradeApp | INFO] Sanitizing /Users/jhamrick/project/tools/nbgrader/docs/source/user_guide/submitted/Hacker/Problem Set 1/Problem 2.ipynb\n",
      "[AutogradeApp | INFO] Converting notebook /Users/jhamrick/project/tools/nbgrader/docs/source/user_guide/submitted/Hacker/Problem Set 1/Problem 2.ipynb to notebook\n",
      "[AutogradeApp | INFO] Writing 2686 bytes to /Users/jhamrick/project/tools/nbgrader/docs/source/user_guide/autograded/Hacker/Problem Set 1/Problem 2.ipynb\n",
      "[AutogradeApp | INFO] Autograding /Users/jhamrick/project/tools/nbgrader/docs/source/user_guide/autograded/Hacker/Problem Set 1/Problem 2.ipynb\n",
      "[AutogradeApp | INFO] Converting notebook /Users/jhamrick/project/tools/nbgrader/docs/source/user_guide/autograded/Hacker/Problem Set 1/Problem 2.ipynb to notebook\n",
      "[AutogradeApp | INFO] Executing notebook with kernel: python\n",
      "[AutogradeApp | INFO] Writing 2683 bytes to /Users/jhamrick/project/tools/nbgrader/docs/source/user_guide/autograded/Hacker/Problem Set 1/Problem 2.ipynb\n",
      "[AutogradeApp | INFO] Setting destination file permissions to 444\n"
     ]
    }
   ],
   "source": [
    "%%bash\n",
    "\n",
    "nbgrader autograde \"Problem Set 1\""
   ]
  },
  {
   "cell_type": "markdown",
   "metadata": {},
   "source": [
    "When grading the submission for `Bitdiddle`, you'll see some warnings that look like \"Checksum for grade cell correct_squares has changed!\". What's happening here is that nbgrader has recorded what the *original* contents of the grade cell `correct_squares` (when `nbgrader assign` was run), and is checking the submitted version against this original version. It has found that the submitted version changed (perhaps this student tried to cheat by commenting out the failing tests), and has therefore overwritten the submitted version of the tests with the original version of the tests.\n",
    "\n",
    "You may also notice that there is a note saying \"Problem Set 1 for Bitdiddle is 86303.948203 seconds late\". What is happening here is that nbgrader is detecting a file in Bitdiddle's submission called `timestamp.txt`, reading in that timestamp, and saving it into the database. From there, it can compare the timestamp to the duedate of the problem set, and compute whether the submission is at all late.\n",
    "\n",
    "Once the autograding is complete, there will be new directories for the autograded versions of the submissions:\n",
    "\n",
    "Autograded submission 1:\n",
    "\n",
    "* [autograded/Bitdiddle/Problem Set 1/Problem 1.ipynb](autograded/Bitdiddle/Problem Set 1/Problem 1.ipynb)\n",
    "* [autograded/Bitdiddle/Problem Set 1/Problem 2.ipynb](autograded/Bitdiddle/Problem Set 1/Problem 2.ipynb)\n",
    "\n",
    "Autograded submission 2:\n",
    "\n",
    "* [autograded/Hacker/Problem Set 1/Problem 1.ipynb](autograded/Hacker/Problem Set 1/Problem 1.ipynb)\n",
    "* [autograded/Hacker/Problem Set 1/Problem 2.ipynb](autograded/Hacker/Problem Set 1/Problem 2.ipynb)"
   ]
  }
 ],
 "metadata": {},
 "nbformat": 4,
 "nbformat_minor": 0
}