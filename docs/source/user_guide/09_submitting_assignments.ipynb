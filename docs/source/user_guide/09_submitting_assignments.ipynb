{
 "cells": [
  {
   "cell_type": "markdown",
   "metadata": {},
   "source": [
    "# Submitting assignments"
   ]
  },
  {
   "cell_type": "raw",
   "metadata": {},
   "source": [
    ".. seealso::\n",
    "\n",
    "    :doc:`/command_line_tools/nbgrader-submit`\n",
    "        Command line options for ``nbgrader fetch``\n",
    "\n",
    "    :doc:`/command_line_tools/nbgrader-list`\n",
    "        Command line options for ``nbgrader list``"
   ]
  },
  {
   "cell_type": "markdown",
   "metadata": {},
   "source": [
    "After working on an assignment, the student can submit their version for grading using `nbgrader submit` and passing the name of the assignment and the name of the class:"
   ]
  },
  {
   "cell_type": "code",
   "execution_count": null,
   "metadata": {
    "collapsed": false
   },
   "outputs": [],
   "source": [
    "%%bash\n",
    "export HOME=/tmp/student_home && cd $HOME\n",
    "\n",
    "nbgrader submit \"Problem Set 1\""
   ]
  },
  {
   "cell_type": "markdown",
   "metadata": {},
   "source": [
    "Students can see what assignments they have submitted using `nbgrader list --inbound`:"
   ]
  },
  {
   "cell_type": "code",
   "execution_count": null,
   "metadata": {
    "collapsed": false,
    "scrolled": true
   },
   "outputs": [],
   "source": [
    "%%bash\n",
    "export HOME=/tmp/student_home && cd $HOME\n",
    "\n",
    "nbgrader list --inbound"
   ]
  },
  {
   "cell_type": "markdown",
   "metadata": {},
   "source": [
    "Importantly, students can run `nbgrader submit` as many times as they want, and all submitted copies of the assignment will be preserved:"
   ]
  },
  {
   "cell_type": "code",
   "execution_count": null,
   "metadata": {
    "collapsed": false
   },
   "outputs": [],
   "source": [
    "%%bash\n",
    "export HOME=/tmp/student_home && cd $HOME\n",
    "\n",
    "nbgrader submit \"Problem Set 1\""
   ]
  },
  {
   "cell_type": "markdown",
   "metadata": {},
   "source": [
    "We can see all versions that have been submitted by again running `nbgrader list --inbound`:"
   ]
  },
  {
   "cell_type": "code",
   "execution_count": null,
   "metadata": {
    "collapsed": false,
    "scrolled": true
   },
   "outputs": [],
   "source": [
    "%%bash\n",
    "export HOME=/tmp/student_home && cd $HOME\n",
    "\n",
    "nbgrader list --inbound"
   ]
  }
 ],
 "metadata": {},
 "nbformat": 4,
 "nbformat_minor": 0
}
