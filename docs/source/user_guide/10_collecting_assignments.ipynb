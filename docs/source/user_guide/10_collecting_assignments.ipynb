{
 "cells": [
  {
   "cell_type": "markdown",
   "metadata": {},
   "source": [
    "# Collecting assignments"
   ]
  },
  {
   "cell_type": "raw",
   "metadata": {},
   "source": [
    ".. seealso::\n",
    "\n",
    "    :doc:`/command_line_tools/nbgrader-collect`\n",
    "        Command line options for ``nbgrader fetch``\n",
    "\n",
    "    :doc:`/command_line_tools/nbgrader-list`\n",
    "        Command line options for ``nbgrader list``\n",
    "\n",
    "    :doc:`01_philosophy`\n",
    "        More details on how the nbgrader hierarchy is structured.\n",
    "\n",
    "    :doc:`/config_options`\n",
    "        Details on ``nbgrader_config.py``"
   ]
  },
  {
   "cell_type": "markdown",
   "metadata": {},
   "source": [
    "First, as a reminder, here is what the instructor's `nbgrader_config.py` file looks like:"
   ]
  },
  {
   "cell_type": "code",
   "execution_count": 1,
   "metadata": {
    "collapsed": false
   },
   "outputs": [
    {
     "name": "stdout",
     "output_type": "stream",
     "text": [
      "\n",
      "c = get_config()\n",
      "\n",
      "c.NbGrader.course_id = \"example_course\"\n",
      "c.TransferApp.exchange_directory = \"/tmp/exchange\""
     ]
    }
   ],
   "source": [
    "%%bash\n",
    "\n",
    "cat nbgrader_config.py"
   ]
  },
  {
   "cell_type": "markdown",
   "metadata": {},
   "source": [
    "After students have submitted their assignments, the instructor can view what has been submitted with `nbgrader list --inbound`:"
   ]
  },
  {
   "cell_type": "code",
   "execution_count": 2,
   "metadata": {
    "collapsed": false
   },
   "outputs": [
    {
     "name": "stderr",
     "output_type": "stream",
     "text": [
      "[ListApp | INFO] Submitted assignments:\n",
      "[ListApp | INFO] example_course jhamrick Problem Set 1 2016-03-03 20:32:15 UTC\n",
      "[ListApp | INFO] example_course jhamrick Problem Set 1 2016-03-03 20:32:17 UTC\n"
     ]
    }
   ],
   "source": [
    "%%bash\n",
    "\n",
    "nbgrader list --inbound"
   ]
  },
  {
   "cell_type": "markdown",
   "metadata": {},
   "source": [
    "The instructor can then collect all submitted assignments with `nbgrader collect` and passing the name of the assignment (and as with the other nbgrader commands for instructors, this must be run from the root of the course directory):"
   ]
  },
  {
   "cell_type": "code",
   "execution_count": 3,
   "metadata": {
    "collapsed": false
   },
   "outputs": [
    {
     "name": "stderr",
     "output_type": "stream",
     "text": [
      "[CollectApp | INFO] Collecting submission: jhamrick Problem Set 1\n"
     ]
    }
   ],
   "source": [
    "%%bash\n",
    "\n",
    "nbgrader collect \"Problem Set 1\""
   ]
  },
  {
   "cell_type": "markdown",
   "metadata": {},
   "source": [
    "This will copy the student submissions to the `submitted` folder in a way that is automatically compatible with `nbgrader autograde`:"
   ]
  },
  {
   "cell_type": "code",
   "execution_count": 4,
   "metadata": {
    "collapsed": false
   },
   "outputs": [
    {
     "name": "stdout",
     "output_type": "stream",
     "text": [
      "total 0\n",
      "drwxr-xr-x  3 jhamrick  staff  102 Dec 15 14:57 Bitdiddle\n",
      "drwxr-xr-x  3 jhamrick  staff  102 Dec 15 14:57 Hacker\n",
      "drwxr-xr-x  3 jhamrick  staff  102 Mar  3 14:32 jhamrick\n"
     ]
    }
   ],
   "source": [
    "%%bash\n",
    "\n",
    "ls -l submitted"
   ]
  },
  {
   "cell_type": "markdown",
   "metadata": {},
   "source": [
    "Note that there should only ever be *one* instructor who runs the `nbgrader release` and `nbgrader collect` commands (and there should probably only be one instructor -- the same instructor -- who runs `nbgrader assign`, `nbgrader autograde` and `nbgrader formgrade` as well). However this does not mean that only one instructor can do the grading, it just means that only one instructor manages the assignment files. Other instructors can still perform grading by accessing the formgrader URL."
   ]
  }
 ],
 "metadata": {},
 "nbformat": 4,
 "nbformat_minor": 0
}