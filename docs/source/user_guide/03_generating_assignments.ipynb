{
 "cells": [
  {
   "cell_type": "markdown",
   "metadata": {},
   "source": [
    "# Releasing an assignment"
   ]
  },
  {
   "cell_type": "raw",
   "metadata": {},
   "source": [
    ".. seealso::\n",
    "\n",
    "    :doc:`/command_line_tools/nbgrader-assign`\n",
    "        Command line options for ``nbgrader assign``\n",
    "        \n",
    "    :doc:`01_philosophy`\n",
    "        Details about how the directory hierarchy is structured\n",
    "\n",
    "    :doc:`/config_options`\n",
    "        Details on ``nbgrader_config.py``"
   ]
  },
  {
   "cell_type": "raw",
   "metadata": {},
   "source": [
    "After an assignment has been created with the assignment toolbar, you will want to create a release version of the assignment for the students.\n",
    "\n",
    "As described in :doc:`01_philosophy`, you need to organize your files in a particular way. For releasing assignments, you should have the master copy of your files saved (by default) in the following source directory structure:"
   ]
  },
  {
   "cell_type": "markdown",
   "metadata": {},
   "source": [
    "```\n",
    "{course_directory}/source/{assignment_id}/{notebook_id}.ipynb\n",
    "```\n",
    "\n",
    "Note: The `student_id` is not included here because the source and release versions of the assignment are the same for all students.\n",
    "\n",
    "After running `nbgrader assign`, the release version of the notebooks will be:\n",
    "\n",
    "```\n",
    "{course_directory}/release/{assignment_id}/{notebook_id}.ipynb\n",
    "```\n",
    "\n",
    "As a reminder, the instructor is responsible for distributing this release version to their students using their institution's existing student communication and document distribution infrastructure."
   ]
  },
  {
   "cell_type": "markdown",
   "metadata": {},
   "source": [
    "## Example: Instructor workflow for generating an assignment release"
   ]
  },
  {
   "cell_type": "markdown",
   "metadata": {},
   "source": [
    "This example walks an instructor through the workflow for generating an assignment and preparing it for release to students:\n",
    "\n",
    "1.  Add problem set to the source folder\n",
    "2.  Set up connection to the database and add the assignment\n",
    "3.  Assign a problem set using nbgrader\n",
    "4.  Inspect the release folder"
   ]
  },
  {
   "cell_type": "markdown",
   "metadata": {},
   "source": [
    "### 1. Add problem set to the source folder\n",
    "\n",
    "To simplify this example, two notebooks of the assignment have already been stored in the `source/Problem Set 1` folder:\n",
    "\n",
    "* [source/Problem Set 1/Problem 1.ipynb](source/Problem Set 1/Problem 1.ipynb)\n",
    "* [source/Problem Set 1/Problem 2.ipynb](source/Problem Set 1/Problem 2.ipynb)"
   ]
  },
  {
   "cell_type": "markdown",
   "metadata": {},
   "source": [
    "### 2. Set up connection to the database and add the assignment\n",
    "Setting up the database is the first workflow step to create a release version of an assignment.\n",
    "\n",
    "A connection to the database is set by passing `Gradebook` the default database url, `sqlite:///gradebook.db` which links to the sqlite database `gradebook.db`. If this database does not already exist, nbgrader will automatically create it. By default, the nbgrader commands (like `nbgrader assign`) will assume that this database is called `gradebook.db` and that it lives in the root of your course directory, though its name and path can be configured in `nbgrader_config.py`.\n",
    "\n",
    "Next, the assignment is added to the database and the assignment's due date is set using `add_assignment`:"
   ]
  },
  {
   "cell_type": "code",
   "execution_count": null,
   "metadata": {
    "collapsed": false,
    "scrolled": true
   },
   "outputs": [],
   "source": [
    "import os\n",
    "\n",
    "# remove an existing database\n",
    "if os.path.exists(\"gradebook.db\"):\n",
    "    os.remove(\"gradebook.db\")\n",
    "\n",
    "# create a connection to the db using the nbgrader API\n",
    "from nbgrader.api import Gradebook\n",
    "gb = Gradebook(\"sqlite:///gradebook.db\")\n",
    "\n",
    "# add the assignment to the database and specify a due date\n",
    "gb.add_assignment(\"Problem Set 1\", duedate=\"2015-02-01 15:00:00.000000 PST\")"
   ]
  },
  {
   "cell_type": "markdown",
   "metadata": {},
   "source": [
    "### 3.  Assign a problem set using nbgrader\n",
    "\n",
    "Now that the gradebook is set up, run `nbgrader assign`. When running `nbgrader assign`, the assignment name (which is \"Problem Set 1\") is passed. We also specify a *header* notebook (`source/header.ipynb`) to preprend at the beginning of each notebook in the assignment. By default, this command should be run from the root of the course directory:"
   ]
  },
  {
   "cell_type": "code",
   "execution_count": null,
   "metadata": {
    "collapsed": false,
    "scrolled": false
   },
   "outputs": [],
   "source": [
    "%%bash\n",
    "\n",
    "nbgrader assign \"Problem Set 1\" --IncludeHeaderFooter.header=source/header.ipynb"
   ]
  },
  {
   "cell_type": "markdown",
   "metadata": {},
   "source": [
    "### 4.  Inspect the release folder\n",
    "Upon completion of `nbgrader assign` in the previous step, there will be a new folder called `release` with the same structure as `source`. The `release` folder contains the actual release version of the assignment files:\n",
    "\n",
    "* [release/Problem Set 1/Problem 1.ipynb](release/Problem Set 1/Problem 1.ipynb)\n",
    "* [release/Problem Set 1/Problem 2.ipynb](release/Problem Set 1/Problem 2.ipynb)"
   ]
  }
 ],
 "metadata": {},
 "nbformat": 4,
 "nbformat_minor": 0
}
