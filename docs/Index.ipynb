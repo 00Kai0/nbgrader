{
 "metadata": {
  "name": "",
  "signature": "sha256:90d45e817b951abdee1b2e0ee48a5d2d3c23c46848e36431ab6410b123c71436"
 },
 "nbformat": 3,
 "nbformat_minor": 0,
 "worksheets": [
  {
   "cells": [
    {
     "cell_type": "markdown",
     "metadata": {},
     "source": [
      "# Documentation for `nbgrader`"
     ]
    },
    {
     "cell_type": "markdown",
     "metadata": {},
     "source": [
      "1. [User guide](user_guide/Index.ipynb)\n",
      "2. [Command line tools](command_line_tools/Index.ipynb)"
     ]
    }
   ],
   "metadata": {}
  }
 ]
}