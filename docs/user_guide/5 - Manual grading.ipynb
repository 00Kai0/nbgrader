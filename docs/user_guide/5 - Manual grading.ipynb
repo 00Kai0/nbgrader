{
 "metadata": {
  "name": "",
  "signature": "sha256:0935464c14f3fe43454d0ac67f92ed2fc88cf003cb26f71bf82a3de9d5123f7b"
 },
 "nbformat": 3,
 "nbformat_minor": 0,
 "worksheets": [
  {
   "cells": [
    {
     "cell_type": "markdown",
     "metadata": {},
     "source": [
      "# Manually grading a student's solution"
     ]
    },
    {
     "cell_type": "markdown",
     "metadata": {},
     "source": [
      "**These instructions are currently incomplete**.\n",
      "\n",
      "Let's say that we have already run the autograder (see [the previous chapter](4 - Autograding.ipynb)), and we have a few autograded notebooks:"
     ]
    },
    {
     "cell_type": "code",
     "collapsed": false,
     "input": [
      "cd grade_example"
     ],
     "language": "python",
     "metadata": {},
     "outputs": [
      {
       "output_type": "stream",
       "stream": "stdout",
       "text": [
        "/Users/jhamrick/project/tools/nbgrader/docs/user_guide/grade_example\n"
       ]
      }
     ],
     "prompt_number": 1
    },
    {
     "cell_type": "code",
     "collapsed": false,
     "input": [
      "ls"
     ],
     "language": "python",
     "metadata": {},
     "outputs": [
      {
       "output_type": "stream",
       "stream": "stdout",
       "text": [
        "StudentNotebookBitdiddle.autograded.ipynb  StudentNotebookHacker.ipynb\r\n",
        "StudentNotebookBitdiddle.ipynb             nbgrader_autograde_config.py\r\n",
        "StudentNotebookHacker.autograded.ipynb     nbgrader_formgrade_config.py\r\n"
       ]
      }
     ],
     "prompt_number": 2
    },
    {
     "cell_type": "markdown",
     "metadata": {},
     "source": [
      "We may want to go and change some of the grades that were automatically assigned, or we may need to manually assign grades to written solutions. To do this, we use `nbgrader formgrade`."
     ]
    },
    {
     "cell_type": "markdown",
     "metadata": {},
     "source": [
      "First, we specify the configuration file for `nbgrader formgrade`:"
     ]
    },
    {
     "cell_type": "code",
     "collapsed": false,
     "input": [
      "!cat nbgrader_formgrade_config.py"
     ],
     "language": "python",
     "metadata": {},
     "outputs": [
      {
       "output_type": "stream",
       "stream": "stdout",
       "text": [
        "c = get_config()\r\n",
        "\r\n",
        "c.FormgradeApp.notebooks = ['StudentNotebook*.autograded.ipynb']\r\n",
        "c.FindStudentID.regexp = \".*/StudentNotebook(?P<student_id>.+).autograded.ipynb\"\r\n"
       ]
      }
     ],
     "prompt_number": 3
    },
    {
     "cell_type": "markdown",
     "metadata": {},
     "source": [
      "This config file says that we should convert the files starting with `StudentNotebook` and ending with `.autograded.ipynb`. We additionally specify a regular expression which tells the grader how to determine the student ID. In this case, the ID is just their last name.\n",
      "\n",
      "Now, to grade the assignments with an HTML form, all we have to do is:"
     ]
    },
    {
     "cell_type": "code",
     "collapsed": false,
     "input": [
      "!nbgrader formgrade"
     ],
     "language": "python",
     "metadata": {},
     "outputs": [
      {
       "output_type": "stream",
       "stream": "stdout",
       "text": [
        "[FormgradeApp] Using existing profile dir: u'/tmp/profile_default'\r\n"
       ]
      },
      {
       "output_type": "stream",
       "stream": "stdout",
       "text": [
        "[NBGraderApp] Using existing profile dir: u'/Users/jhamrick/.ipython/profile_default'\r\n",
        "[FormgradeApp] Converting notebook StudentNotebookBitdiddle.autograded.ipynb to html\r\n"
       ]
      },
      {
       "output_type": "stream",
       "stream": "stdout",
       "text": [
        "[FormgradeApp] Support files will be in StudentNotebookBitdiddle.autograded_files/\r\n",
        "[FormgradeApp] '/Users/jhamrick/project/tools/nbgrader/docs/user_guide/grade_example/StudentNotebookBitdiddle.autograded.ipynb' u'.*/StudentNotebook(?P<student_id>.+).autograded.ipynb'\r\n",
        "[FormgradeApp] Student ID: Bitdiddle\r\n"
       ]
      },
      {
       "output_type": "stream",
       "stream": "stdout",
       "text": [
        "[FormgradeApp] Loaded template formgrade.tpl\r\n"
       ]
      },
      {
       "output_type": "stream",
       "stream": "stdout",
       "text": [
        "[FormgradeApp] Writing 292292 bytes to StudentNotebookBitdiddle.autograded.html\r\n",
        "[FormgradeApp] Converting notebook StudentNotebookHacker.autograded.ipynb to html\r\n",
        "[FormgradeApp] Support files will be in StudentNotebookHacker.autograded_files/\r\n"
       ]
      },
      {
       "output_type": "stream",
       "stream": "stdout",
       "text": [
        "[FormgradeApp] '/Users/jhamrick/project/tools/nbgrader/docs/user_guide/grade_example/StudentNotebookHacker.autograded.ipynb' u'.*/StudentNotebook(?P<student_id>.+).autograded.ipynb'\r\n",
        "[FormgradeApp] Student ID: Hacker\r\n",
        "[FormgradeApp] Writing 263384 bytes to StudentNotebookHacker.autograded.html\r\n"
       ]
      }
     ],
     "prompt_number": 4
    },
    {
     "cell_type": "markdown",
     "metadata": {},
     "source": [
      "If we had instead run it with `nbgrader formgrade --serve`, and then if we were to go to the address that it specifies (by default, `http://localhost:5000`), we would see a screen that looks like this:"
     ]
    }
   ],
   "metadata": {}
  }
 ]
}