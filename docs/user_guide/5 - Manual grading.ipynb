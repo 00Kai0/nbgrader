{
 "metadata": {
  "name": "",
  "signature": "sha256:26f3c0a7ee1e5bb9ba1635634d43a836081440558e4fff14cf6d37ef83b5b1a5"
 },
 "nbformat": 3,
 "nbformat_minor": 0,
 "worksheets": [
  {
   "cells": [
    {
     "cell_type": "markdown",
     "metadata": {},
     "source": [
      "# Manually grading a student's solution"
     ]
    },
    {
     "cell_type": "markdown",
     "metadata": {},
     "source": [
      "**These instructions are currently incomplete**.\n",
      "\n",
      "Let's say that we have already run the autograder (see [the previous chapter](4 - Autograding.ipynb)), and we have a few autograded notebooks:\n",
      "\n",
      "* [Problem 1 Bitdiddle.ipynb](grade_example/autograded/Problem 1 Bitdiddle.ipynb)\n",
      "* [Problem 1 Hacker.ipynb](grade_example/autograded/Problem 1 Hacker.ipynb)\n",
      "* [Problem 2 Bitdiddle.ipynb](grade_example/autograded/Problem 2 Bitdiddle.ipynb)\n",
      "* [Problem 2 Hacker.ipynb](grade_example/autograded/Problem 2 Hacker.ipynb)"
     ]
    },
    {
     "cell_type": "code",
     "collapsed": false,
     "input": [
      "cd grade_example"
     ],
     "language": "python",
     "metadata": {},
     "outputs": [
      {
       "output_type": "stream",
       "stream": "stdout",
       "text": [
        "/Users/jhamrick/project/tools/nbgrader/docs/user_guide/grade_example\n"
       ]
      }
     ],
     "prompt_number": 1
    },
    {
     "cell_type": "code",
     "collapsed": false,
     "input": [
      "ls autograded"
     ],
     "language": "python",
     "metadata": {},
     "outputs": [
      {
       "output_type": "stream",
       "stream": "stdout",
       "text": [
        "Problem 1 Bitdiddle.ipynb  Problem 2 Bitdiddle.ipynb\r\n",
        "Problem 1 Hacker.ipynb     Problem 2 Hacker.ipynb\r\n"
       ]
      }
     ],
     "prompt_number": 2
    },
    {
     "cell_type": "markdown",
     "metadata": {},
     "source": [
      "We may want to go and change some of the grades that were automatically assigned, or we may need to manually assign grades to written solutions. To do this, we use `nbgrader formgrade`."
     ]
    },
    {
     "cell_type": "markdown",
     "metadata": {},
     "source": [
      "First, we specify the configuration file for `nbgrader formgrade`:"
     ]
    },
    {
     "cell_type": "code",
     "collapsed": false,
     "input": [
      "!cat nbgrader_formgrade_config.py"
     ],
     "language": "python",
     "metadata": {},
     "outputs": [
      {
       "output_type": "stream",
       "stream": "stdout",
       "text": [
        "c = get_config()\r\n",
        "\r\n",
        "c.FormgradeApp.base_directory = \"autograded\"\r\n",
        "c.FormgradeApp.db_name = \"example\"\r\n"
       ]
      }
     ],
     "prompt_number": 3
    },
    {
     "cell_type": "markdown",
     "metadata": {},
     "source": [
      "This config file just says that we should serve the notebooks that are in the `autograded` directory.\n",
      "\n",
      "Now, to grade the assignments with an HTML form, all we have to do is:\n",
      "\n",
      "```bash\n",
      "nbgrader formgrade\n",
      "```\n",
      "\n",
      "This will launch a server that will provide you with an interface for hand grading assignments."
     ]
    }
   ],
   "metadata": {}
  }
 ]
}