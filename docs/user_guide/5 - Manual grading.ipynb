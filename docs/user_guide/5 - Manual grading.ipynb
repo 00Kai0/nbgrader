{
 "metadata": {
  "name": "",
  "signature": "sha256:a7a99c952d7a5fe2ac1347e5121570ea76eebd52e4f580eb070d666e45f62305"
 },
 "nbformat": 3,
 "nbformat_minor": 0,
 "worksheets": [
  {
   "cells": [
    {
     "cell_type": "markdown",
     "metadata": {},
     "source": [
      "# Manually grading a student's solution"
     ]
    },
    {
     "cell_type": "markdown",
     "metadata": {},
     "source": [
      "**These instructions are currently incomplete**.\n",
      "\n",
      "Let's say that we have already run the autograder (see [the previous chapter](4 - Autograding.ipynb)), and we have a few autograded notebooks:\n",
      "\n",
      "* [Bitdiddle/Problem 1.ipynb](grade_example/autograded/Bitdiddle/Problem 1.ipynb)\n",
      "* [Bitdiddle/Problem 2.ipynb](grade_example/autograded/Bitdiddle/Problem 2.ipynb)\n",
      "* [Hacker/Problem 1.ipynb](grade_example/autograded/Hacker/Problem 1.ipynb)\n",
      "* [Hacker/Problem 2.ipynb](grade_example/autograded/Hacker/Problem 2.ipynb)"
     ]
    },
    {
     "cell_type": "code",
     "collapsed": false,
     "input": [
      "cd grade_example"
     ],
     "language": "python",
     "metadata": {},
     "outputs": [
      {
       "output_type": "stream",
       "stream": "stdout",
       "text": [
        "/Users/jhamrick/project/tools/nbgrader/docs/user_guide/grade_example\n"
       ]
      }
     ],
     "prompt_number": 1
    },
    {
     "cell_type": "code",
     "collapsed": false,
     "input": [
      "ls -R autograded"
     ],
     "language": "python",
     "metadata": {},
     "outputs": [
      {
       "output_type": "stream",
       "stream": "stdout",
       "text": [
        "\u001b[34mBitdiddle\u001b[m\u001b[m/ \u001b[34mHacker\u001b[m\u001b[m/\r\n",
        "\r\n",
        "autograded/Bitdiddle:\r\n",
        "Problem 1.ipynb  Problem 2.ipynb\r\n",
        "\r\n",
        "autograded/Hacker:\r\n",
        "Problem 1.ipynb  Problem 2.ipynb\r\n"
       ]
      }
     ],
     "prompt_number": 2
    },
    {
     "cell_type": "markdown",
     "metadata": {},
     "source": [
      "We may want to go and change some of the grades that were automatically assigned, or we may need to manually assign grades to written solutions. To do this, we use `nbgrader formgrade`."
     ]
    },
    {
     "cell_type": "markdown",
     "metadata": {},
     "source": [
      "First, we specify the configuration file for `nbgrader formgrade`:"
     ]
    },
    {
     "cell_type": "code",
     "collapsed": false,
     "input": [
      "!cat nbgrader_formgrade_config.py"
     ],
     "language": "python",
     "metadata": {},
     "outputs": [
      {
       "output_type": "stream",
       "stream": "stdout",
       "text": [
        "c = get_config()\r\n",
        "\r\n",
        "c.FormgradeApp.base_directory = \"autograded\"\r\n",
        "c.FormgradeApp.db_name = \"example\"\r\n",
        "c.FormgradeApp.directory_format = \"{student_id}/{notebook_id}.ipynb\"\r\n"
       ]
      }
     ],
     "prompt_number": 3
    },
    {
     "cell_type": "markdown",
     "metadata": {},
     "source": [
      "This config file just says that we should serve the notebooks that are in the `autograded` directory, and that the grades are stored in the \"example\" database.\n",
      "\n",
      "Now, to grade the assignments with an HTML form, all we have to do is:\n",
      "\n",
      "```bash\n",
      "nbgrader formgrade\n",
      "```\n",
      "\n",
      "This will launch a server that will provide you with an interface for hand grading assignments."
     ]
    }
   ],
   "metadata": {}
  }
 ]
}