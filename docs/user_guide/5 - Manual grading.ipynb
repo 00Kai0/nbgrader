{
 "metadata": {
  "name": "",
  "signature": "sha256:cee245339dcda718a6f29a12f37fc9c575bb07fdcfd4b3fda61f3a7845a245d4"
 },
 "nbformat": 3,
 "nbformat_minor": 0,
 "worksheets": [
  {
   "cells": [
    {
     "cell_type": "markdown",
     "metadata": {},
     "source": [
      "# Manually grading a student's solution"
     ]
    },
    {
     "cell_type": "markdown",
     "metadata": {},
     "source": [
      "**These instructions are currently incomplete**.\n",
      "\n",
      "Let's say that we have already run the autograder (see [the previous chapter](4 - Autograding.ipynb)), and we have a few autograded notebooks:\n",
      "\n",
      "* [Problem 1 Bitdiddle.ipynb](grade_example/autograded/Problem 1 Bitdiddle.ipynb)\n",
      "* [Problem 1 Hacker.ipynb](grade_example/autograded/Problem 1 Hacker.ipynb)\n",
      "* [Problem 2 Bitdiddle.ipynb](grade_example/autograded/Problem 2 Bitdiddle.ipynb)\n",
      "* [Problem 2 Hacker.ipynb](grade_example/autograded/Problem 2 Hacker.ipynb)"
     ]
    },
    {
     "cell_type": "code",
     "collapsed": false,
     "input": [
      "cd grade_example"
     ],
     "language": "python",
     "metadata": {},
     "outputs": [
      {
       "output_type": "stream",
       "stream": "stdout",
       "text": [
        "/Users/jhamrick/project/tools/nbgrader/docs/user_guide/grade_example\n"
       ]
      }
     ],
     "prompt_number": 1
    },
    {
     "cell_type": "code",
     "collapsed": false,
     "input": [
      "ls autograded"
     ],
     "language": "python",
     "metadata": {},
     "outputs": [
      {
       "output_type": "stream",
       "stream": "stdout",
       "text": [
        "Problem 1 Bitdiddle.ipynb  Problem 1 Hacker.ipynb     Problem 2 Bitdiddle.ipynb  Problem 2 Hacker.ipynb\r\n"
       ]
      }
     ],
     "prompt_number": 2
    },
    {
     "cell_type": "markdown",
     "metadata": {},
     "source": [
      "We may want to go and change some of the grades that were automatically assigned, or we may need to manually assign grades to written solutions. To do this, we use `nbgrader formgrade`."
     ]
    },
    {
     "cell_type": "markdown",
     "metadata": {},
     "source": [
      "First, we specify the configuration file for `nbgrader formgrade`:"
     ]
    },
    {
     "cell_type": "code",
     "collapsed": false,
     "input": [
      "!cat nbgrader_formgrade_config.py"
     ],
     "language": "python",
     "metadata": {},
     "outputs": [
      {
       "output_type": "stream",
       "stream": "stdout",
       "text": [
        "c = get_config()\r\n",
        "\r\n",
        "c.FormgradeApp.notebooks = ['autograded/*.ipynb']\r\n",
        "c.FindStudentID.regexp = r\".*/autograded/Problem [0-9] (?P<student_id>.+).ipynb\"\r\n",
        "c.ServeFormGrader.base_directory = 'autograded'\r\n"
       ]
      }
     ],
     "prompt_number": 3
    },
    {
     "cell_type": "markdown",
     "metadata": {},
     "source": [
      "This config file says that we should convert the files in the `autograded` directory (the HTML output files will be saved to that same directory as well). We additionally specify a regular expression which tells the grader how to determine the student ID. In this case, the ID is just their last name.\n",
      "\n",
      "Now, to grade the assignments with an HTML form, all we have to do is:"
     ]
    },
    {
     "cell_type": "code",
     "collapsed": false,
     "input": [
      "!nbgrader formgrade"
     ],
     "language": "python",
     "metadata": {},
     "outputs": [
      {
       "output_type": "stream",
       "stream": "stdout",
       "text": [
        "[FormgradeApp] Using existing profile dir: u'/tmp/profile_default'\r\n"
       ]
      },
      {
       "output_type": "stream",
       "stream": "stdout",
       "text": [
        "[NBGraderApp] Using existing profile dir: u'/Users/jhamrick/.ipython/profile_default'\r\n"
       ]
      },
      {
       "output_type": "stream",
       "stream": "stdout",
       "text": [
        "[FormgradeApp] Changing to directory /Users/jhamrick/project/tools/nbgrader/docs/user_guide/grade_example/autograded\r\n",
        "[FormgradeApp] Converting notebook Problem 1 Bitdiddle.ipynb to html\r\n",
        "[FormgradeApp] Support files will be in Problem 1 Bitdiddle_files/\r\n"
       ]
      },
      {
       "output_type": "stream",
       "stream": "stdout",
       "text": [
        "[FormgradeApp] '/Users/jhamrick/project/tools/nbgrader/docs/user_guide/grade_example/autograded/Problem 1 Bitdiddle.ipynb' u'.*/autograded/Problem [0-9] (?P<student_id>.+).ipynb'\r\n",
        "[FormgradeApp] Student ID: Bitdiddle\r\n",
        "[FormgradeApp] Loaded template formgrade.tpl\r\n"
       ]
      },
      {
       "output_type": "stream",
       "stream": "stdout",
       "text": [
        "[FormgradeApp] Writing 290838 bytes to Problem 1 Bitdiddle.html\r\n",
        "[FormgradeApp] Converting notebook Problem 1 Hacker.ipynb to html\r\n",
        "[FormgradeApp] Support files will be in Problem 1 Hacker_files/\r\n"
       ]
      },
      {
       "output_type": "stream",
       "stream": "stdout",
       "text": [
        "[FormgradeApp] '/Users/jhamrick/project/tools/nbgrader/docs/user_guide/grade_example/autograded/Problem 1 Hacker.ipynb' u'.*/autograded/Problem [0-9] (?P<student_id>.+).ipynb'\r\n",
        "[FormgradeApp] Student ID: Hacker\r\n",
        "[FormgradeApp] Writing 261645 bytes to Problem 1 Hacker.html\r\n",
        "[FormgradeApp] Converting notebook Problem 2 Bitdiddle.ipynb to html\r\n",
        "[FormgradeApp] Support files will be in Problem 2 Bitdiddle_files/\r\n"
       ]
      },
      {
       "output_type": "stream",
       "stream": "stdout",
       "text": [
        "[FormgradeApp] '/Users/jhamrick/project/tools/nbgrader/docs/user_guide/grade_example/autograded/Problem 2 Bitdiddle.ipynb' u'.*/autograded/Problem [0-9] (?P<student_id>.+).ipynb'\r\n",
        "[FormgradeApp] Student ID: Bitdiddle\r\n"
       ]
      },
      {
       "output_type": "stream",
       "stream": "stdout",
       "text": [
        "[FormgradeApp] Writing 228640 bytes to Problem 2 Bitdiddle.html\r\n",
        "[FormgradeApp] Converting notebook Problem 2 Hacker.ipynb to html\r\n",
        "[FormgradeApp] Support files will be in Problem 2 Hacker_files/\r\n",
        "[FormgradeApp] '/Users/jhamrick/project/tools/nbgrader/docs/user_guide/grade_example/autograded/Problem 2 Hacker.ipynb' u'.*/autograded/Problem [0-9] (?P<student_id>.+).ipynb'\r\n",
        "[FormgradeApp] Student ID: Hacker\r\n",
        "[FormgradeApp] Writing 228729 bytes to Problem 2 Hacker.html\r\n"
       ]
      }
     ],
     "prompt_number": 4
    },
    {
     "cell_type": "markdown",
     "metadata": {},
     "source": [
      "If we had instead run it with `nbgrader formgrade --serve`, and then if we were to go to the address that it specifies (by default, `http://localhost:5000`), we would see a webapp that allows us to select assignments and grade them or add comments."
     ]
    }
   ],
   "metadata": {}
  }
 ]
}