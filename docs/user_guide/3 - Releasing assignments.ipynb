{
 "metadata": {
  "name": "",
  "signature": "sha256:7c9440bfae5ed203aae5a9c0c3b4234d2e6127203972db83dea3c37aaa7f388d"
 },
 "nbformat": 3,
 "nbformat_minor": 0,
 "worksheets": [
  {
   "cells": [
    {
     "cell_type": "markdown",
     "metadata": {},
     "source": [
      "# Releasing an assignment"
     ]
    },
    {
     "cell_type": "markdown",
     "metadata": {},
     "source": [
      "**These instructions are currently incomplete**.\n",
      "\n",
      "Creating the release version of an assignment consists of creating a\n",
      "student version of a notebook that has solutions omited, based on an already created teacher, or master, version.\n",
      "\n",
      "To create the master/teacher notebook that has exercises, solutions and tests, see the documentation on the [\"Create Assignment\" extension](2 - Developing assignments.ipynb). \n",
      "\n",
      "In the `release_example` directory we have an [example master/teacher notebook](release_example/TeacherNotebook.ipynb), as well as a [header notebook](release_example/header.ipynb) which will be prepended to the teacher notebook in the release version:"
     ]
    },
    {
     "cell_type": "code",
     "collapsed": false,
     "input": [
      "cd release_example"
     ],
     "language": "python",
     "metadata": {},
     "outputs": [
      {
       "output_type": "stream",
       "stream": "stdout",
       "text": [
        "/Users/jhamrick/project/tools/nbgrader/docs/user_guide/release_example\n"
       ]
      }
     ],
     "prompt_number": 1
    },
    {
     "cell_type": "code",
     "collapsed": false,
     "input": [
      "!ls"
     ],
     "language": "python",
     "metadata": {},
     "outputs": [
      {
       "output_type": "stream",
       "stream": "stdout",
       "text": [
        "TeacherNotebook.ipynb     header.ipynb              nbgrader_assign_config.py\r\n"
       ]
      }
     ],
     "prompt_number": 2
    },
    {
     "cell_type": "markdown",
     "metadata": {},
     "source": [
      "Additionally, there is a `nbgrader_assign_config.py` file, which specifies the configuration for `nbgrader`:"
     ]
    },
    {
     "cell_type": "code",
     "collapsed": false,
     "input": [
      "!cat nbgrader_assign_config.py"
     ],
     "language": "python",
     "metadata": {},
     "outputs": [
      {
       "output_type": "stream",
       "stream": "stdout",
       "text": [
        "c = get_config()\r\n",
        "\r\n",
        "c.AssignApp.notebooks = ['TeacherNotebook.ipynb']\r\n",
        "c.AssignApp.output_base = 'StudentNotebook'\r\n",
        "c.IncludeHeaderFooter.header = \"header.ipynb\"\r\n"
       ]
      }
     ],
     "prompt_number": 3
    },
    {
     "cell_type": "markdown",
     "metadata": {},
     "source": [
      "This config file says that we should convert the file `TeacherNotebook.ipynb` and name the output `StudentNotebook.ipynb`. We additionally specify the header file, which will be prepended to the beginning of the assignment. For other options, please see the [`nbgrader assign` documentation](../command_line_tools/nbgrader assign.ipynb).\n",
      "\n",
      "Now, to create the release version, all we have to do is:"
     ]
    },
    {
     "cell_type": "code",
     "collapsed": false,
     "input": [
      "!nbgrader assign"
     ],
     "language": "python",
     "metadata": {},
     "outputs": [
      {
       "output_type": "stream",
       "stream": "stdout",
       "text": [
        "[AssignApp] Using existing profile dir: u'/Users/jhamrick/.ipython/profile_default'\r\n"
       ]
      },
      {
       "output_type": "stream",
       "stream": "stdout",
       "text": [
        "[NBGraderApp] Using existing profile dir: u'/Users/jhamrick/.ipython/profile_default'\r\n",
        "[AssignApp] Converting notebook TeacherNotebook.ipynb to notebook\r\n",
        "[AssignApp] Support files will be in StudentNotebook_files/\r\n"
       ]
      },
      {
       "output_type": "stream",
       "stream": "stdout",
       "text": [
        "[AssignApp] Writing 10607 bytes to StudentNotebook.ipynb\r\n"
       ]
      }
     ],
     "prompt_number": 4
    },
    {
     "cell_type": "markdown",
     "metadata": {},
     "source": [
      "We could have also specified our options on the command line, e.g.:"
     ]
    },
    {
     "cell_type": "code",
     "collapsed": false,
     "input": [
      "!nbgrader assign --output=StudentNotebook --IncludeHeaderFooter.header=header.ipynb TeacherNotebook.ipynb"
     ],
     "language": "python",
     "metadata": {},
     "outputs": [
      {
       "output_type": "stream",
       "stream": "stdout",
       "text": [
        "[AssignApp] Using existing profile dir: u'/Users/jhamrick/.ipython/profile_default'\r\n"
       ]
      },
      {
       "output_type": "stream",
       "stream": "stdout",
       "text": [
        "[NBGraderApp] Using existing profile dir: u'/Users/jhamrick/.ipython/profile_default'\r\n",
        "[AssignApp] Converting notebook TeacherNotebook.ipynb to notebook\r\n",
        "[AssignApp] Support files will be in StudentNotebook_files/\r\n"
       ]
      },
      {
       "output_type": "stream",
       "stream": "stdout",
       "text": [
        "[AssignApp] Writing 10607 bytes to StudentNotebook.ipynb\r\n"
       ]
      }
     ],
     "prompt_number": 5
    },
    {
     "cell_type": "markdown",
     "metadata": {},
     "source": [
      "The resulting [student notebook](release_example/StudentNotebook.ipynb) is now a version that can be distributed to the students. They can fill out the relevant locations of the notebook with their solutions, and eventually turn it back in."
     ]
    }
   ],
   "metadata": {}
  }
 ]
}