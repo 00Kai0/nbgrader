{
 "cells": [
  {
   "cell_type": "markdown",
   "metadata": {},
   "source": [
    "# Releasing an assignment"
   ]
  },
  {
   "cell_type": "markdown",
   "metadata": {},
   "source": [
    "**These instructions are currently incomplete**.\n",
    "\n",
    "Creating the release version of an assignment consists of creating a\n",
    "student version of a notebook that has solutions omited, based on an already created teacher, or master, version.\n",
    "\n",
    "To create the master/teacher notebook that has exercises, solutions and tests, see the documentation on the [\"Create Assignment\" extension](2 - Developing assignments.ipynb). \n",
    "\n",
    "In the `release_example` directory we have an two example master/teacher notebooks:\n",
    "\n",
    "* [Problem 1](release_example/teacher/Problem 1.ipynb)\n",
    "* [Problem 2](release_example/teacher/Problem 2.ipynb)\n",
    "\n",
    "There is also a [header notebook](release_example/header.ipynb) which will be prepended to the teacher notebooks in the release version."
   ]
  },
  {
   "cell_type": "code",
   "execution_count": 1,
   "metadata": {
    "collapsed": false
   },
   "outputs": [
    {
     "name": "stdout",
     "output_type": "stream",
     "text": [
      "/Users/jhamrick/project/tools/nbgrader/docs/user_guide/release_example\n"
     ]
    }
   ],
   "source": [
    "cd release_example"
   ]
  },
  {
   "cell_type": "code",
   "execution_count": 2,
   "metadata": {
    "collapsed": false
   },
   "outputs": [
    {
     "name": "stdout",
     "output_type": "stream",
     "text": [
      "header.ipynb              nbgrader_assign_config.py \u001b[34mteacher\u001b[m\u001b[m\r\n",
      "\r\n",
      "./teacher:\r\n",
      "Problem 1.ipynb Problem 2.ipynb\r\n"
     ]
    }
   ],
   "source": [
    "!ls -R"
   ]
  },
  {
   "cell_type": "markdown",
   "metadata": {},
   "source": [
    "Additionally, there is a `nbgrader_assign_config.py` file, which specifies the configuration for `nbgrader`:"
   ]
  },
  {
   "cell_type": "code",
   "execution_count": 3,
   "metadata": {
    "collapsed": false
   },
   "outputs": [
    {
     "name": "stdout",
     "output_type": "stream",
     "text": [
      "c = get_config()\r\n",
      "\r\n",
      "import os\r\n",
      "cwd = os.getcwd()\r\n",
      "\r\n",
      "c.AssignApp.notebooks = ['teacher/*.ipynb']\r\n",
      "c.AssignApp.output_dir = os.path.join(cwd, 'student')\r\n",
      "c.IncludeHeaderFooter.header = os.path.join(cwd, 'header.ipynb')\r\n"
     ]
    }
   ],
   "source": [
    "!cat nbgrader_assign_config.py"
   ]
  },
  {
   "cell_type": "markdown",
   "metadata": {},
   "source": [
    "This config file says that we should convert all the notebooks in the `teacher` directory, and save them into a new directory called `student`. We additionally specify the header file, which will be prepended to the beginning of the assignment. For other options, please see the [`nbgrader assign` documentation](../command_line_tools/nbgrader assign.ipynb).\n",
    "\n",
    "Now, to create the release version, all we have to do is:"
   ]
  },
  {
   "cell_type": "code",
   "execution_count": 4,
   "metadata": {
    "collapsed": false
   },
   "outputs": [
    {
     "name": "stdout",
     "output_type": "stream",
     "text": [
      "[AssignApp] Using existing profile dir: '/tmp/nbgrader/profile_default'\r\n",
      "[AssignApp] Changing to directory: teacher\r\n",
      "[AssignApp] Converting notebook Problem 1.ipynb to notebook\r\n",
      "[AssignApp] Support files will be in Problem 1_files/\r\n"
     ]
    },
    {
     "name": "stdout",
     "output_type": "stream",
     "text": [
      "[AssignApp] Writing output to directory: student\r\n",
      "[AssignApp] Writing 9499 bytes to /Users/jhamrick/project/tools/nbgrader/docs/user_guide/release_example/student/Problem 1.ipynb\r\n",
      "[AssignApp] Changing to directory: teacher\r\n",
      "[AssignApp] Converting notebook Problem 2.ipynb to notebook\r\n",
      "[AssignApp] Support files will be in Problem 2_files/\r\n",
      "[AssignApp] Writing output to directory: student\r\n",
      "[AssignApp] Writing 2693 bytes to /Users/jhamrick/project/tools/nbgrader/docs/user_guide/release_example/student/Problem 2.ipynb\r\n"
     ]
    }
   ],
   "source": [
    "!nbgrader assign"
   ]
  },
  {
   "cell_type": "markdown",
   "metadata": {},
   "source": [
    "We could have also specified our options on the command line, e.g.:"
   ]
  },
  {
   "cell_type": "code",
   "execution_count": 5,
   "metadata": {
    "collapsed": false
   },
   "outputs": [
    {
     "name": "stdout",
     "output_type": "stream",
     "text": [
      "[AssignApp] Using existing profile dir: u'/tmp/nbgrader/profile_default'\r\n"
     ]
    },
    {
     "name": "stdout",
     "output_type": "stream",
     "text": [
      "[AssignApp] Changing to directory: teacher\r\n",
      "[AssignApp] Converting notebook Problem 1.ipynb to notebook\r\n",
      "[AssignApp] Support files will be in Problem 1_files/\r\n"
     ]
    },
    {
     "name": "stdout",
     "output_type": "stream",
     "text": [
      "[AssignApp] Writing output to directory: student\r\n",
      "[AssignApp] Writing 9499 bytes to ../student/Problem 1.ipynb\r\n",
      "[AssignApp] Changing to directory: teacher\r\n",
      "[AssignApp] Converting notebook Problem 2.ipynb to notebook\r\n",
      "[AssignApp] Support files will be in Problem 2_files/\r\n"
     ]
    },
    {
     "name": "stdout",
     "output_type": "stream",
     "text": [
      "[AssignApp] Writing output to directory: student\r\n",
      "[AssignApp] Writing 2693 bytes to ../student/Problem 2.ipynb\r\n"
     ]
    }
   ],
   "source": [
    "!nbgrader assign --output-dir=../student --header=../header.ipynb teacher/*.ipynb"
   ]
  },
  {
   "cell_type": "markdown",
   "metadata": {},
   "source": [
    "These are the resulting student notebooks:\n",
    "\n",
    "* [Problem 1](release_example/student/Problem 1.ipynb)\n",
    "* [Problem 2](release_example/student/Problem 2.ipynb)\n",
    "\n",
    "They are versions of the assignment that can be distributed to the students, who can fill out the relevant locations of the notebook with their solutions, and eventually turn it back in."
   ]
  }
 ],
 "metadata": {
  "kernelspec": {
   "display_name": "IPython (Python 3)",
   "name": "python3"
  },
  "language_info": {
   "codemirror_mode": {
    "name": "ipython",
    "version": 3
   },
   "file_extension": ".py",
   "mimetype": "text/x-python",
   "name": "python",
   "nbconvert_exporter": "python",
   "pygments_lexer": "ipython3",
   "version": "3.4.2"
  },
  "signature": "sha256:df2e129c8745bf9136263813c1a86575b9249ac0d80f7dc59d1cd4a828a62740"
 },
 "nbformat": 4,
 "nbformat_minor": 0
}
