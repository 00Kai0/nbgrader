{
 "cells": [
  {
   "cell_type": "markdown",
   "metadata": {},
   "source": [
    "# Releasing an assignment"
   ]
  },
  {
   "cell_type": "markdown",
   "metadata": {},
   "source": [
    "**These instructions are currently incomplete**.\n",
    "\n",
    "Creating the release version of an assignment consists of creating a\n",
    "student version of a notebook that has solutions omited, based on an already created teacher, or master, version.\n",
    "\n",
    "To create the master/teacher notebook that has exercises, solutions and tests, see the documentation on the [\"Create Assignment\" extension](2 - Developing assignments.ipynb). \n",
    "\n",
    "In the `release_example` directory we have an two example master/teacher notebooks:\n",
    "\n",
    "* [Problem 1](release_example/teacher/Problem 1.ipynb)\n",
    "* [Problem 2](release_example/teacher/Problem 2.ipynb)\n",
    "\n",
    "There is also a [header notebook](release_example/header.ipynb) which will be prepended to the teacher notebooks in the release version."
   ]
  },
  {
   "cell_type": "code",
   "execution_count": 1,
   "metadata": {
    "collapsed": false
   },
   "outputs": [
    {
     "name": "stdout",
     "output_type": "stream",
     "text": [
      "/Users/jhamrick/project/tools/nbgrader/docs/user_guide/release_example\n"
     ]
    }
   ],
   "source": [
    "cd release_example"
   ]
  },
  {
   "cell_type": "code",
   "execution_count": 2,
   "metadata": {
    "collapsed": false
   },
   "outputs": [
    {
     "name": "stdout",
     "output_type": "stream",
     "text": [
      "header.ipynb              nbgrader_assign_config.py \u001b[34mteacher\u001b[m\u001b[m\r\n",
      "\r\n",
      "./teacher:\r\n",
      "Problem 1.ipynb Problem 2.ipynb\r\n"
     ]
    }
   ],
   "source": [
    "!ls -R"
   ]
  },
  {
   "cell_type": "markdown",
   "metadata": {},
   "source": [
    "Additionally, there is a `nbgrader_assign_config.py` file, which specifies the configuration for `nbgrader`:"
   ]
  },
  {
   "cell_type": "code",
   "execution_count": 3,
   "metadata": {
    "collapsed": false
   },
   "outputs": [
    {
     "name": "stdout",
     "output_type": "stream",
     "text": [
      "c = get_config()\r\n",
      "\r\n",
      "import os\r\n",
      "cwd = os.getcwd()\r\n",
      "\r\n",
      "c.AssignApp.notebooks = ['teacher/*.ipynb']\r\n",
      "c.AssignApp.output_dir = os.path.join(cwd, 'student')\r\n",
      "c.IncludeHeaderFooter.header = os.path.join(cwd, 'header.ipynb')\r\n",
      "\r\n",
      "# These are only used if run with --save-cells\r\n",
      "c.SaveGradeCells.assignment_id = \"Problem Set 1\"\r\n",
      "c.SaveGradeCells.db_url = \"sqlite:////tmp/nbgrader_example.db\"\r\n"
     ]
    }
   ],
   "source": [
    "!cat nbgrader_assign_config.py"
   ]
  },
  {
   "cell_type": "markdown",
   "metadata": {},
   "source": [
    "This config file says that we should convert all the notebooks in the `teacher` directory, and save them into a new directory called `student`. We additionally specify the header file, which will be prepended to the beginning of the assignment. For other options, please see the [`nbgrader assign` documentation](../command_line_tools/nbgrader assign.ipynb).\n",
    "\n",
    "Now, to create the release version, all we have to do is:"
   ]
  },
  {
   "cell_type": "code",
   "execution_count": 4,
   "metadata": {
    "collapsed": false
   },
   "outputs": [
    {
     "name": "stdout",
     "output_type": "stream",
     "text": [
      "[AssignApp] Using existing profile dir: u'/Users/jhamrick/.nbgrader/profile_default'\r\n"
     ]
    },
    {
     "name": "stdout",
     "output_type": "stream",
     "text": [
      "[AssignApp] Changing to directory: teacher\r\n",
      "[AssignApp] Converting notebook Problem 1.ipynb to notebook\r\n",
      "[AssignApp] Support files will be in Problem 1_files/\r\n"
     ]
    },
    {
     "name": "stdout",
     "output_type": "stream",
     "text": [
      "[AssignApp] Writing output to directory: student\r\n",
      "[AssignApp] Writing 9866 bytes to /Users/jhamrick/project/tools/nbgrader/docs/user_guide/release_example/student/Problem 1.ipynb\r\n",
      "[AssignApp] Changing to directory: teacher\r\n",
      "[AssignApp] Converting notebook Problem 2.ipynb to notebook\r\n",
      "[AssignApp] Support files will be in Problem 2_files/\r\n"
     ]
    },
    {
     "name": "stdout",
     "output_type": "stream",
     "text": [
      "[AssignApp] Writing output to directory: student\r\n",
      "[AssignApp] Writing 2689 bytes to /Users/jhamrick/project/tools/nbgrader/docs/user_guide/release_example/student/Problem 2.ipynb\r\n"
     ]
    }
   ],
   "source": [
    "!nbgrader assign"
   ]
  },
  {
   "cell_type": "markdown",
   "metadata": {},
   "source": [
    "We could have also specified our options on the command line, e.g.:"
   ]
  },
  {
   "cell_type": "code",
   "execution_count": 5,
   "metadata": {
    "collapsed": false
   },
   "outputs": [
    {
     "name": "stdout",
     "output_type": "stream",
     "text": [
      "[AssignApp] Using existing profile dir: u'/Users/jhamrick/.nbgrader/profile_default'\r\n",
      "[AssignApp] Changing to directory: teacher\r\n"
     ]
    },
    {
     "name": "stdout",
     "output_type": "stream",
     "text": [
      "[AssignApp] Converting notebook Problem 1.ipynb to notebook\r\n",
      "[AssignApp] Support files will be in Problem 1_files/\r\n"
     ]
    },
    {
     "name": "stdout",
     "output_type": "stream",
     "text": [
      "[AssignApp] Writing output to directory: student\r\n",
      "[AssignApp] Writing 9866 bytes to ../student/Problem 1.ipynb\r\n",
      "[AssignApp] Changing to directory: teacher\r\n",
      "[AssignApp] Converting notebook Problem 2.ipynb to notebook\r\n",
      "[AssignApp] Support files will be in Problem 2_files/\r\n",
      "[AssignApp] Writing output to directory: student\r\n",
      "[AssignApp] Writing 2689 bytes to ../student/Problem 2.ipynb\r\n"
     ]
    }
   ],
   "source": [
    "!nbgrader assign --output-dir=../student --header=../header.ipynb teacher/*.ipynb"
   ]
  },
  {
   "cell_type": "markdown",
   "metadata": {},
   "source": [
    "These are the resulting student notebooks:\n",
    "\n",
    "* [Problem 1](release_example/student/Problem 1.ipynb)\n",
    "* [Problem 2](release_example/student/Problem 2.ipynb)\n",
    "\n",
    "They are versions of the assignment that can be distributed to the students, who can fill out the relevant locations of the notebook with their solutions, and eventually turn it back in."
   ]
  },
  {
   "cell_type": "markdown",
   "metadata": {},
   "source": [
    "## Recording grade cells"
   ]
  },
  {
   "cell_type": "markdown",
   "metadata": {},
   "source": [
    "If you want to record information about grade cells into the database (for example, to then use those grades and point values, rather than the ones in the notebooks students have returned), then you can optionally run `nbgrader assign` with the `--save-cells` flag."
   ]
  },
  {
   "cell_type": "markdown",
   "metadata": {},
   "source": [
    "Before we can run this command, though, we need to actually what the assignment is that we're recording grade cells for. We can do this using the API provided by nbgrader, which provides access to a MongoDB to store information about students and their grades:"
   ]
  },
  {
   "cell_type": "code",
   "execution_count": 6,
   "metadata": {
    "collapsed": true
   },
   "outputs": [],
   "source": [
    "# remove an existing database\n",
    "dbpath = \"/tmp/nbgrader_example.db\"\n",
    "if os.path.exists(dbpath):\n",
    "    os.remove(dbpath)\n",
    "\n",
    "# create a connection to the db using the nbgrader API\n",
    "from nbgrader.api import Gradebook\n",
    "gb = Gradebook(\"sqlite:///\" + dbpath)"
   ]
  },
  {
   "cell_type": "code",
   "execution_count": 7,
   "metadata": {
    "collapsed": false
   },
   "outputs": [
    {
     "data": {
      "text/plain": [
       "Problem Set 1"
      ]
     },
     "execution_count": 7,
     "metadata": {},
     "output_type": "execute_result"
    }
   ],
   "source": [
    "# add the assignment to the database\n",
    "gb.add_assignment(\"Problem Set 1\")"
   ]
  },
  {
   "cell_type": "markdown",
   "metadata": {},
   "source": [
    "Now, we can run our `nbgrader` command:"
   ]
  },
  {
   "cell_type": "code",
   "execution_count": 8,
   "metadata": {
    "collapsed": false
   },
   "outputs": [
    {
     "name": "stdout",
     "output_type": "stream",
     "text": [
      "[AssignApp] Using existing profile dir: u'/Users/jhamrick/.nbgrader/profile_default'\r\n",
      "[AssignApp] Changing to directory: teacher\r\n",
      "[AssignApp] Converting notebook Problem 1.ipynb to notebook\r\n",
      "[AssignApp] Support files will be in Problem 1_files/\r\n"
     ]
    },
    {
     "name": "stdout",
     "output_type": "stream",
     "text": [
      "[AssignApp] Writing output to directory: student\r\n",
      "[AssignApp] Writing 9866 bytes to /Users/jhamrick/project/tools/nbgrader/docs/user_guide/release_example/student/Problem 1.ipynb\r\n",
      "[AssignApp] Changing to directory: teacher\r\n",
      "[AssignApp] Converting notebook Problem 2.ipynb to notebook\r\n",
      "[AssignApp] Support files will be in Problem 2_files/\r\n"
     ]
    },
    {
     "name": "stdout",
     "output_type": "stream",
     "text": [
      "[AssignApp] Writing output to directory: student\r\n",
      "[AssignApp] Writing 2689 bytes to /Users/jhamrick/project/tools/nbgrader/docs/user_guide/release_example/student/Problem 2.ipynb\r\n"
     ]
    }
   ],
   "source": [
    "!nbgrader assign --save-cells"
   ]
  },
  {
   "cell_type": "markdown",
   "metadata": {},
   "source": [
    "After doing this, we should be able to see the grade cells in the database:"
   ]
  },
  {
   "cell_type": "code",
   "execution_count": 9,
   "metadata": {
    "collapsed": false
   },
   "outputs": [
    {
     "name": "stdout",
     "output_type": "stream",
     "text": [
      "There are 8 grade cells in Problem Set 1, Problem 1\n"
     ]
    }
   ],
   "source": [
    "# print out how many \n",
    "gb = Gradebook(\"sqlite:///\" + dbpath)\n",
    "notebook = gb.find_notebook(\"Problem 1\", \"Problem Set 1\")\n",
    "print(\"There are {} grade cells in Problem Set 1, Problem 1\".format(len(notebook.grade_cells)))"
   ]
  }
 ],
 "metadata": {
  "kernelspec": {
   "display_name": "Python 3",
   "language": "python",
   "name": "python3"
  },
  "language_info": {
   "codemirror_mode": {
    "name": "ipython",
    "version": 3
   },
   "file_extension": ".py",
   "mimetype": "text/x-python",
   "name": "python",
   "nbconvert_exporter": "python",
   "pygments_lexer": "ipython3",
   "version": "3.4.2"
  }
 },
 "nbformat": 4,
 "nbformat_minor": 0
}