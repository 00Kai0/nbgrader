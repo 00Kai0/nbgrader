{
 "metadata": {
  "name": "",
  "signature": "sha256:3005685feae9fc1fb6c526eb4653cb0e4bba34a83cff0c620459d19cfcc5d3b1"
 },
 "nbformat": 3,
 "nbformat_minor": 0,
 "worksheets": [
  {
   "cells": [
    {
     "cell_type": "markdown",
     "metadata": {},
     "source": [
      "# Releasing an assignment"
     ]
    },
    {
     "cell_type": "markdown",
     "metadata": {},
     "source": [
      "**These instructions are currently incomplete**.\n",
      "\n",
      "Creating the release version of an assignment consists of creating a\n",
      "student version of a notebook that has solutions omited.\n",
      "\n",
      "1.  Create a notebook that has exercises, solutions and tests.\n",
      "2.  Tag the solution and test cells.\n",
      "3.  Generate the student version of the assignment:\n",
      "\n",
      "    ```bash\n",
      "    nbgrader assign --output=StudentNotebook.ipynb TeacherNotebook.ipynb\n",
      "    ```\n",
      "\n",
      "4.  Distribute the student version of the notebook to the students and\n",
      "    have them use it in doing their work."
     ]
    }
   ],
   "metadata": {}
  }
 ]
}