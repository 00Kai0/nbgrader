{
 "metadata": {
  "kernelspec": {
   "codemirror_mode": {
    "name": "ipython",
    "version": 3
   },
   "display_name": "IPython (Python 3)",
   "language": "python",
   "name": "python3"
  },
  "name": "",
  "signature": "sha256:d00edbff6600a4c819fd93b4ea8e38b3d1caebbb6ce9dd74a34bbdfe997680bf"
 },
 "nbformat": 3,
 "nbformat_minor": 0,
 "worksheets": [
  {
   "cells": [
    {
     "cell_type": "markdown",
     "metadata": {
      "nbgrader": {
       "cell_type": "release"
      }
     },
     "source": [
      "Before you turn this problem in, make sure everything runs as expected. First, **restart the kernel** (in the menubar, select Kernel$\\rightarrow$Restart) and then **run all cells** (in the menubar, select Cell$\\rightarrow$Run All).\n",
      "\n",
      "Make sure you fill in any place that says `YOUR CODE HERE` or \"YOUR ANSWER HERE\", as well as your name and collaborators below:"
     ]
    },
    {
     "cell_type": "code",
     "collapsed": false,
     "input": [
      "NAME = \"\"\n",
      "COLLABORATORS = \"\""
     ],
     "language": "python",
     "metadata": {
      "nbgrader": {
       "cell_type": "release"
      }
     },
     "outputs": [],
     "prompt_number": null
    },
    {
     "cell_type": "markdown",
     "metadata": {
      "nbgrader": {}
     },
     "source": [
      "---"
     ]
    },
    {
     "cell_type": "code",
     "collapsed": false,
     "input": [
      "# import plotting libraries\n",
      "%matplotlib inline\n",
      "import matplotlib.pyplot as plt"
     ],
     "language": "python",
     "metadata": {
      "nbgrader": {}
     },
     "outputs": [],
     "prompt_number": null
    },
    {
     "cell_type": "markdown",
     "metadata": {
      "nbgrader": {}
     },
     "source": [
      "---\n",
      "## Part A"
     ]
    },
    {
     "cell_type": "markdown",
     "metadata": {
      "nbgrader": {}
     },
     "source": [
      "Write a function that returns a list of numbers, such that $x_i=i^2$, for $1\\leq i \\leq n$. Make sure it handles the case where $n<1$ by raising a `ValueError`."
     ]
    },
    {
     "cell_type": "code",
     "collapsed": false,
     "input": [
      "def squares(n):\n",
      "    \"\"\"Compute the squares of numbers from 1 to n, such that the \n",
      "    ith element of the returned list equals i^2.\n",
      "    \n",
      "    \"\"\"\n",
      "    # YOUR CODE HERE\n",
      "    raise NotImplementedError()"
     ],
     "language": "python",
     "metadata": {
      "deletable": false,
      "nbgrader": {
       "solution": true
      }
     },
     "outputs": [],
     "prompt_number": null
    },
    {
     "cell_type": "markdown",
     "metadata": {
      "nbgrader": {}
     },
     "source": [
      "Your function should print `[1, 4, 9, 16, 25, 36, 49, 64, 81, 100]` for $n=10$. Check that it does:"
     ]
    },
    {
     "cell_type": "code",
     "collapsed": false,
     "input": [
      "squares(10)"
     ],
     "language": "python",
     "metadata": {
      "nbgrader": {}
     },
     "outputs": [],
     "prompt_number": null
    },
    {
     "cell_type": "code",
     "collapsed": false,
     "input": [
      "\"\"\"Check that squares returns the correct output for several inputs\"\"\"\n",
      "from nose.tools import assert_equal\n",
      "assert_equal(squares(1), [1])\n",
      "assert_equal(squares(2), [1, 4])\n",
      "assert_equal(squares(10), [1, 4, 9, 16, 25, 36, 49, 64, 81, 100])\n",
      "assert_equal(squares(11), [1, 4, 9, 16, 25, 36, 49, 64, 81, 100, 121])"
     ],
     "language": "python",
     "metadata": {
      "deletable": false,
      "nbgrader": {
       "grade": true,
       "grade_id": "correct_squares",
       "points": "1"
      }
     },
     "outputs": [],
     "prompt_number": null
    },
    {
     "cell_type": "code",
     "collapsed": false,
     "input": [
      "\"\"\"Check that squares raises an error for invalid inputs\"\"\"\n",
      "from nose.tools import assert_raises\n",
      "assert_raises(ValueError, squares, 0)\n",
      "assert_raises(ValueError, squares, -4)"
     ],
     "language": "python",
     "metadata": {
      "deletable": false,
      "nbgrader": {
       "grade": true,
       "grade_id": "squares_invalid_input",
       "points": "1"
      }
     },
     "outputs": [],
     "prompt_number": null
    },
    {
     "cell_type": "markdown",
     "metadata": {
      "nbgrader": {}
     },
     "source": [
      "---\n",
      "\n",
      "## Part B"
     ]
    },
    {
     "cell_type": "markdown",
     "metadata": {
      "nbgrader": {}
     },
     "source": [
      "Using your `squares` function, write a function that computes the sum of the squares of the numbers from 1 to $n$. Your function should call the `squares` function -- it should NOT reimplement its functionality."
     ]
    },
    {
     "cell_type": "code",
     "collapsed": false,
     "input": [
      "def sum_of_squares(n):\n",
      "    \"\"\"Compute the sum of the squares of numbers from 1 to n.\"\"\"\n",
      "    # YOUR CODE HERE\n",
      "    raise NotImplementedError()"
     ],
     "language": "python",
     "metadata": {
      "deletable": false,
      "nbgrader": {
       "solution": true
      }
     },
     "outputs": [],
     "prompt_number": null
    },
    {
     "cell_type": "markdown",
     "metadata": {
      "nbgrader": {}
     },
     "source": [
      "The sum of squares from 1 to 10 should be 385. Verify that this is the answer you get:"
     ]
    },
    {
     "cell_type": "code",
     "collapsed": false,
     "input": [
      "sum_of_squares(10)"
     ],
     "language": "python",
     "metadata": {
      "nbgrader": {}
     },
     "outputs": [],
     "prompt_number": null
    },
    {
     "cell_type": "code",
     "collapsed": false,
     "input": [
      "\"\"\"Check that sum_of_squares returns the correct answer for various inputs.\"\"\"\n",
      "assert_equal(sum_of_squares(1), 1)\n",
      "assert_equal(sum_of_squares(2), 5)\n",
      "assert_equal(sum_of_squares(10), 385)\n",
      "assert_equal(sum_of_squares(11), 506)"
     ],
     "language": "python",
     "metadata": {
      "deletable": false,
      "nbgrader": {
       "grade": true,
       "grade_id": "correct_sum_of_squares",
       "points": "1"
      }
     },
     "outputs": [],
     "prompt_number": null
    },
    {
     "cell_type": "code",
     "collapsed": false,
     "input": [
      "\"\"\"Check that sum_of_squares relies on squares.\"\"\"\n",
      "orig_squares = squares\n",
      "del squares\n",
      "try:\n",
      "    assert_raises(NameError, sum_of_squares, 1)\n",
      "except AssertionError:\n",
      "    raise AssertionError(\"sum_of_squares does not use squares\")\n",
      "finally:\n",
      "    squares = orig_squares"
     ],
     "language": "python",
     "metadata": {
      "deletable": false,
      "nbgrader": {
       "grade": true,
       "grade_id": "sum_of_squares_uses_squares",
       "points": "1"
      }
     },
     "outputs": [],
     "prompt_number": null
    },
    {
     "cell_type": "markdown",
     "metadata": {
      "nbgrader": {}
     },
     "source": [
      "---\n",
      "## Part C"
     ]
    },
    {
     "cell_type": "markdown",
     "metadata": {
      "nbgrader": {}
     },
     "source": [
      "Using LaTeX math notation, write out the equation that is implemented by your `sum_of_squares` function."
     ]
    },
    {
     "cell_type": "markdown",
     "metadata": {
      "deletable": false,
      "nbgrader": {
       "grade": true,
       "grade_id": "sum_of_squares_equation",
       "points": "1",
       "solution": true
      }
     },
     "source": [
      "YOUR ANSWER HERE"
     ]
    },
    {
     "cell_type": "markdown",
     "metadata": {
      "nbgrader": {}
     },
     "source": [
      "---\n",
      "## Part D"
     ]
    },
    {
     "cell_type": "markdown",
     "metadata": {
      "nbgrader": {}
     },
     "source": [
      "Create a plot of the sum of squares for $n=1$ to $n=15$. Make sure to appropriately label the $x$-axis and $y$-axis, and to give the plot a title. Set the $x$-axis limits to be 1 (minimum) and 15 (maximum)."
     ]
    },
    {
     "cell_type": "code",
     "collapsed": false,
     "input": [
      "fig, ax = plt.subplots() # do not delete this line!\n",
      "# YOUR CODE HERE\n",
      "raise NotImplementedError()"
     ],
     "language": "python",
     "metadata": {
      "deletable": false,
      "nbgrader": {
       "solution": true
      }
     },
     "outputs": [],
     "prompt_number": null
    },
    {
     "cell_type": "code",
     "collapsed": false,
     "input": [
      "\"\"\"Check that the axis limits are correct.\"\"\"\n",
      "assert_equal(ax.get_xlim(), (1.0, 15.0))"
     ],
     "language": "python",
     "metadata": {
      "deletable": false,
      "nbgrader": {
       "grade": true,
       "grade_id": "plot_axis_limits",
       "points": "0.1"
      }
     },
     "outputs": [],
     "prompt_number": null
    },
    {
     "cell_type": "code",
     "collapsed": false,
     "input": [
      "\"\"\"Check that the axis labels and title are set.\"\"\"\n",
      "assert ax.get_xlabel() != \"\", \"xlabel not set\"\n",
      "assert ax.get_ylabel() != \"\", \"ylabel not set\"\n",
      "assert ax.get_title() != \"\", \"title not set\""
     ],
     "language": "python",
     "metadata": {
      "deletable": false,
      "nbgrader": {
       "grade": true,
       "grade_id": "plot_labels",
       "points": "0.2"
      }
     },
     "outputs": [],
     "prompt_number": null
    },
    {
     "cell_type": "code",
     "collapsed": false,
     "input": [
      "\"\"\"Check that the correct data was used.\"\"\"\n",
      "lines = ax.get_lines()\n",
      "assert_equal(len(lines), 1)\n",
      "\n",
      "# check the x-axis data\n",
      "xdata = lines[0].get_xdata()\n",
      "xdata_correct = np.arange(1, 16)\n",
      "assert_equal(xdata.shape, xdata_correct.shape)\n",
      "assert (xdata == xdata_correct).all()\n",
      "\n",
      "# check the y-axis data\n",
      "ydata = lines[0].get_ydata()\n",
      "ydata_correct = np.array([sum_of_squares(x) for x in xdata])\n",
      "assert_equal(ydata.shape, ydata_correct.shape)\n",
      "assert (ydata == ydata_correct).all()"
     ],
     "language": "python",
     "metadata": {
      "deletable": false,
      "nbgrader": {
       "grade": true,
       "grade_id": "plot_data",
       "points": "0.2"
      }
     },
     "outputs": [],
     "prompt_number": null
    }
   ],
   "metadata": {}
  }
 ]
}