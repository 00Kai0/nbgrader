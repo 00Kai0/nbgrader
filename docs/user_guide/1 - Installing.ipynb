{
 "cells": [
  {
   "cell_type": "markdown",
   "metadata": {},
   "source": [
    "# Installing"
   ]
  },
  {
   "cell_type": "markdown",
   "metadata": {},
   "source": [
    "To install nbgrader, clone the git repository and then run `python\n",
    "setup.py install` from the root of the repository:"
   ]
  },
  {
   "cell_type": "markdown",
   "metadata": {},
   "source": [
    "```bash\n",
    "git clone https://github.com/jupyter/nbgrader.git\n",
    "cd nbgrader\n",
    "python setup.py install\n",
    "```"
   ]
  },
  {
   "cell_type": "markdown",
   "metadata": {},
   "source": [
    "To additionally install, activate or deactivate the assignment toolbar notebook extension:"
   ]
  },
  {
   "cell_type": "markdown",
   "metadata": {},
   "source": [
    "To get help and see all the options you can pass while installing/activating nbgrader, use:"
   ]
  },
  {
   "cell_type": "markdown",
   "metadata": {},
   "source": [
    "```bash\n",
    "python -m nbgrader --help\n",
    "```"
   ]
  },
  {
   "cell_type": "markdown",
   "metadata": {},
   "source": [
    "You can install and activate nbgrader assignment toolbar extension with:\n",
    "\n",
    "```bash\n",
    "python -m nbgrader --install --activate <profilename>\n",
    "```\n",
    "\n",
    "Where `<profilename>` is the name of the profile you want to use for creating assignments. \n",
    "By default the extension will by symlink, so you shouldn't need to reinstalling it after upgrading nbgrader. \n",
    "use `--no-symlink` to actually copy the file."
   ]
  }
 ],
 "metadata": {},
 "nbformat": 4,
 "nbformat_minor": 0
}
