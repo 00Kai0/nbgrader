{
 "metadata": {
  "name": "",
  "signature": "sha256:823f24e6b4a56bc4e997994b1b7c281a713f5029b4c521a08e975d1ee363e0c7"
 },
 "nbformat": 3,
 "nbformat_minor": 0,
 "worksheets": [
  {
   "cells": [
    {
     "cell_type": "markdown",
     "metadata": {},
     "source": [
      "# Installing"
     ]
    },
    {
     "cell_type": "markdown",
     "metadata": {},
     "source": [
      "To install nbgrader, clone the git repository and then run `python\n",
      "setup.py install` from the root of the repository:"
     ]
    },
    {
     "cell_type": "markdown",
     "metadata": {},
     "source": [
      "```bash\n",
      "git clone https://github.com/jupyter/nbgrader.git\n",
      "cd nbgrader\n",
      "python setup.py install\n",
      "```"
     ]
    },
    {
     "cell_type": "markdown",
     "metadata": {},
     "source": [
      "To additionally install the assignment toolbar notebook extension:"
     ]
    },
    {
     "cell_type": "markdown",
     "metadata": {},
     "source": [
      "```bash\n",
      "cp nbextensions/* $(ipython locate)/nbextensions/\n",
      "```"
     ]
    }
   ],
   "metadata": {}
  }
 ]
}