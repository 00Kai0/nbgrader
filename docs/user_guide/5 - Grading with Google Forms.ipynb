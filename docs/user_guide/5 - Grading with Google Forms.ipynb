{
 "metadata": {
  "name": "",
  "signature": "sha256:2dd862963da1cd799ee68e8529e67c9ec410de9f727907568001e909288ff2b6"
 },
 "nbformat": 3,
 "nbformat_minor": 0,
 "worksheets": [
  {
   "cells": [
    {
     "cell_type": "markdown",
     "metadata": {},
     "source": [
      "# Grade a students solution using an embedded Google Form"
     ]
    },
    {
     "cell_type": "markdown",
     "metadata": {},
     "source": [
      "**These instructions are currently incomplete**.\n",
      "\n",
      "```bash\n",
      "nbgrader formgrade StudentNotebook*.ipynb\n",
      "```"
     ]
    }
   ],
   "metadata": {}
  }
 ]
}