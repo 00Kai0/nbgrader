{
 "metadata": {
  "name": "",
  "signature": "sha256:7d4db946c3a86e5a22bf5ea5f395a7ab24fbbbb5c7f476df8a3b48ab910e514e"
 },
 "nbformat": 3,
 "nbformat_minor": 0,
 "worksheets": [
  {
   "cells": [
    {
     "cell_type": "markdown",
     "metadata": {},
     "source": [
      "# User guide for `nbgrader`"
     ]
    },
    {
     "cell_type": "markdown",
     "metadata": {},
     "source": [
      "1. [Installing nbgrader](1 - Installing.ipynb)\n",
      "2. [Developing assignments with the assignment toolbar](2 - Developing assignments.ipynb)\n",
      "3. [Releasing an assignment](3 - Releasing assignments.ipynb)\n",
      "4. [Autograde a students solution](4 - Autograding.ipynb)\n",
      "5. [Manually grading a solution](5 - Manual grading.ipynb)"
     ]
    }
   ],
   "metadata": {}
  }
 ]
}