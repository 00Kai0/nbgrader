{
 "metadata": {
  "name": "",
  "signature": "sha256:321ff40a457ec6453baf04c9da3ce2ab72ecac000d1214553093a41dd46ba7f0"
 },
 "nbformat": 3,
 "nbformat_minor": 0,
 "worksheets": [
  {
   "cells": [
    {
     "cell_type": "markdown",
     "metadata": {},
     "source": [
      "# User guide for `nbgrader`"
     ]
    },
    {
     "cell_type": "markdown",
     "metadata": {},
     "source": [
      "1. [Installing nbgrader](1 - Installing.ipynb)\n",
      "2. [Developing assignments with the assignment toolbar](2 - Developing assignments.ipynb)\n",
      "3. [Releasing an assignment](3 - Releasing assignments.ipynb)\n",
      "4. [Autograde a students solution](4 - Autograding.ipynb)"
     ]
    }
   ],
   "metadata": {}
  }
 ]
}