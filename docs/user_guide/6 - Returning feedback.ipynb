{
 "cells": [
  {
   "cell_type": "markdown",
   "metadata": {},
   "source": [
    "# Returning feedback to students"
   ]
  },
  {
   "cell_type": "code",
   "execution_count": null,
   "metadata": {
    "collapsed": true
   },
   "outputs": [],
   "source": [
    "import os\n",
    "from nbgrader.utils import run"
   ]
  },
  {
   "cell_type": "code",
   "execution_count": null,
   "metadata": {
    "collapsed": false
   },
   "outputs": [],
   "source": [
    "os.chdir('grade_example')"
   ]
  },
  {
   "cell_type": "code",
   "execution_count": null,
   "metadata": {
    "collapsed": false,
    "scrolled": true
   },
   "outputs": [],
   "source": [
    "run('ls -R autograded')"
   ]
  },
  {
   "cell_type": "markdown",
   "metadata": {},
   "source": [
    "## Generate feedback"
   ]
  },
  {
   "cell_type": "markdown",
   "metadata": {},
   "source": [
    "We will need to run the `nbgrader feedback` command twice (once for each student). Each time we run it, we need to specify:\n",
    "\n",
    "* that we want to generate feedback from the notebooks in the `autograded/$student_id` directory\n",
    "* that we want to copy the results to the `feedback/$student_id` directory\n",
    "* that the student id is `$student_id`\n",
    "* that the assignment is \"Problem Set 1\"\n",
    "* that the database is a sqlite database at `/tmp/nbgrader_example.db`"
   ]
  },
  {
   "cell_type": "code",
   "execution_count": null,
   "metadata": {
    "collapsed": false
   },
   "outputs": [],
   "source": [
    "for student_id in os.listdir('autograded'):\n",
    "    run('nbgrader feedback autograded/{student_id}/*.ipynb '\n",
    "        '--build-dir=feedback/{student_id} '\n",
    "        '--student={student_id} '\n",
    "        '--assignment=\"Problem Set 1\" '\n",
    "        '--db=\"sqlite:////tmp/nbgrader_example.db\"'.format(student_id=student_id))"
   ]
  },
  {
   "cell_type": "markdown",
   "metadata": {},
   "source": [
    "Now if we look at the `feedback` directory, we see:\n",
    "\n",
    "* [Bitdiddle/Problem 1.html](grade_example/feedback/Bitdiddle/Problem 1.html)\n",
    "* [Bitdiddle/Problem 2.html](grade_example/feedback/Bitdiddle/Problem 2.html)\n",
    "* [Hacker/Problem 1.html](grade_example/feedback/Hacker/Problem 1.html)\n",
    "* [Hacker/Problem 2.html](grade_example/feedback/Hacker/Problem 2.html)"
   ]
  },
  {
   "cell_type": "code",
   "execution_count": null,
   "metadata": {
    "collapsed": false
   },
   "outputs": [],
   "source": [
    "run('ls -R feedback')"
   ]
  }
 ],
 "metadata": {},
 "nbformat": 4,
 "nbformat_minor": 0
}
