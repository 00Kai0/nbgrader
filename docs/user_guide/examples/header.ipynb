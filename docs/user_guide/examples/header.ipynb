{
 "metadata": {
  "celltoolbar": "Create Assignment",
  "kernelspec": {
   "codemirror_mode": {
    "name": "ipython",
    "version": 3
   },
   "display_name": "IPython (Python 3)",
   "language": "python",
   "name": "python3"
  },
  "name": "",
  "signature": "sha256:f2e387e05fdcfb6d8be2a42060e7d865670c9857140f3dab0a54e47701593863"
 },
 "nbformat": 3,
 "nbformat_minor": 0,
 "worksheets": [
  {
   "cells": [
    {
     "cell_type": "markdown",
     "metadata": {
      "nbgrader": {
       "cell_type": "release"
      }
     },
     "source": [
      "Before you turn this problem in, make sure everything runs as expected. First, **restart the kernel** (in the menubar, select Kernel$\\rightarrow$Restart) and then **run all cells** (in the menubar, select Cell$\\rightarrow$Run All).\n",
      "\n",
      "Make sure you fill in any place that says `YOUR CODE HERE` or \"YOUR ANSWER HERE\", as well as your name and collaborators below:"
     ]
    },
    {
     "cell_type": "code",
     "collapsed": false,
     "input": [
      "NAME = \"\"\n",
      "COLLABORATORS = \"\""
     ],
     "language": "python",
     "metadata": {
      "nbgrader": {
       "cell_type": "release"
      }
     },
     "outputs": []
    },
    {
     "cell_type": "markdown",
     "metadata": {
      "nbgrader": {}
     },
     "source": [
      "---"
     ]
    }
   ],
   "metadata": {}
  }
 ]
}