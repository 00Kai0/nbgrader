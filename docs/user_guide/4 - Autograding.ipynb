{
 "cells": [
  {
   "cell_type": "markdown",
   "metadata": {},
   "source": [
    "# Autograde a students' solution"
   ]
  },
  {
   "cell_type": "markdown",
   "metadata": {},
   "source": [
    "**These instructions are currently incomplete**.\n",
    "\n",
    "Let's say that students have turned in their notebooks with a special naming convention of `Lastname/Problem N.ipynb`, where `N` is the problem number and `Lastname` is a directory named with the student's last name. In this example, we have a few submitted assignments:\n",
    "\n",
    "* [Bitdiddle/Problem 1.ipynb](grade_example/submitted/Bitdiddle/Problem 1.ipynb)\n",
    "* [Bitdiddle/Problem 2.ipynb](grade_example/submitted/Bitdiddle/Problem 2.ipynb)\n",
    "* [Hacker/Problem 1.ipynb](grade_example/submitted/Hacker/Problem 1.ipynb)\n",
    "* [Hacker/Problem 2.ipynb](grade_example/submitted/Hacker/Problem 2.ipynb)"
   ]
  },
  {
   "cell_type": "code",
   "execution_count": 1,
   "metadata": {
    "collapsed": false
   },
   "outputs": [
    {
     "name": "stdout",
     "output_type": "stream",
     "text": [
      "/Users/jhamrick/project/tools/nbgrader/docs/user_guide/grade_example\n"
     ]
    }
   ],
   "source": [
    "cd grade_example"
   ]
  },
  {
   "cell_type": "code",
   "execution_count": 2,
   "metadata": {
    "collapsed": false
   },
   "outputs": [
    {
     "name": "stdout",
     "output_type": "stream",
     "text": [
      "nbgrader_autograde_config.py  nbgrader_formgrade_config.py  \u001b[34msubmitted\u001b[m\u001b[m/\r\n",
      "\r\n",
      "./submitted:\r\n",
      "\u001b[34mBitdiddle\u001b[m\u001b[m/ \u001b[34mHacker\u001b[m\u001b[m/\r\n",
      "\r\n",
      "./submitted/Bitdiddle:\r\n",
      "Problem 1.ipynb  Problem 2.ipynb\r\n",
      "\r\n",
      "./submitted/Hacker:\r\n",
      "Problem 1.ipynb  Problem 2.ipynb\r\n"
     ]
    }
   ],
   "source": [
    "ls -R"
   ]
  },
  {
   "cell_type": "markdown",
   "metadata": {},
   "source": [
    "## Initialize the database"
   ]
  },
  {
   "cell_type": "markdown",
   "metadata": {},
   "source": [
    "Before we can actually start grading, we need to actually record who the students are. We can do this using the API provided by nbgrader, which provides access to a MongoDB to store information about students and their grades:"
   ]
  },
  {
   "cell_type": "code",
   "execution_count": 3,
   "metadata": {
    "collapsed": true
   },
   "outputs": [],
   "source": [
    "# create a connection to the db using the nbgrader API\n",
    "from nbgrader.api import Gradebook\n",
    "gb = Gradebook(\"sqlite:////tmp/nbgrader_example.db\")"
   ]
  },
  {
   "cell_type": "code",
   "execution_count": 4,
   "metadata": {
    "collapsed": false
   },
   "outputs": [
    {
     "data": {
      "text/plain": [
       "[Bitdiddle, Hacker, Reasoner]"
      ]
     },
     "execution_count": 4,
     "metadata": {},
     "output_type": "execute_result"
    }
   ],
   "source": [
    "# create some students and add them to the database\n",
    "gb.add_student(\"Bitdiddle\", first_name=\"Ben\", last_name=\"Bitdiddle\")\n",
    "gb.add_student(\"Hacker\", first_name=\"Alyssa\", last_name=\"Hacker\")\n",
    "gb.add_student(\"Reasoner\", first_name=\"Louis\", last_name=\"Reasoner\")\n",
    "gb.students"
   ]
  },
  {
   "cell_type": "markdown",
   "metadata": {},
   "source": [
    "Note that the assignment should also already be in the database. An example of how to add it is given in [3 - Releasing assignments.ipynb](3 - Releasing assignments.ipynb#Recording-grade-cells)."
   ]
  },
  {
   "cell_type": "markdown",
   "metadata": {},
   "source": [
    "## Run the autograder"
   ]
  },
  {
   "cell_type": "markdown",
   "metadata": {},
   "source": [
    "Now that we've set up the database, we can grade the assignments.\n",
    "\n",
    "First, we specify the configuration file for `nbgrader autograde`:"
   ]
  },
  {
   "cell_type": "code",
   "execution_count": 5,
   "metadata": {
    "collapsed": false
   },
   "outputs": [
    {
     "name": "stdout",
     "output_type": "stream",
     "text": [
      "c = get_config()\r\n",
      "\r\n",
      "import os\r\n",
      "c.AutogradeApp.notebooks = ['submitted']\r\n",
      "c.AutogradeApp.output_dir = os.path.join(os.getcwd(), 'autograded')\r\n",
      "c.AutogradeApp.recursive = True\r\n",
      "c.FindStudentID.regexp = r\"submitted/(?P<student_id>.+)/.*.ipynb\"\r\n",
      "c.SaveAutoGrades.assignment_id = \"Problem Set 1\"\r\n",
      "c.SaveAutoGrades.db_url = \"sqlite:////tmp/nbgrader_example.db\"\r\n",
      "\r\n",
      "# Only necessary if --overwrite-cells is given\r\n",
      "c.OverwriteGradeCells.assignment_id = \"Problem Set 1\"\r\n",
      "c.OverwriteGradeCells.db_url = \"sqlite:////tmp/nbgrader_example.db\"\r\n"
     ]
    }
   ],
   "source": [
    "!cat nbgrader_autograde_config.py"
   ]
  },
  {
   "cell_type": "markdown",
   "metadata": {},
   "source": [
    "This config file says that we should convert the files in the `submitted` directory, and save the autograded files to a new directory called `autograded`. We will do this *recursively*, so that the autograder will look into the directories with the students' names. We additionally specify a regular expression which tells the grader how to determine the student ID. In this case, the ID is just their last name. Finally, we tell the autograder what assignment these notebooks are a part of, and what database the grades should be saved into.\n",
    "\n",
    "Now, to grade the assignments, all we have to do is:"
   ]
  },
  {
   "cell_type": "code",
   "execution_count": 6,
   "metadata": {
    "collapsed": false
   },
   "outputs": [
    {
     "name": "stdout",
     "output_type": "stream",
     "text": [
      "[AutogradeApp] Using existing profile dir: u'/Users/jhamrick/.nbgrader/profile_default'\r\n",
      "[AutogradeApp] Directory tree prefix: submitted/\r\n",
      "[AutogradeApp] Changing to directory: submitted/Bitdiddle\r\n",
      "[AutogradeApp] Converting notebook Problem 1.ipynb to notebook\r\n",
      "[AutogradeApp] Support files will be in Problem 1_files/\r\n"
     ]
    },
    {
     "name": "stdout",
     "output_type": "stream",
     "text": [
      "[AutogradeApp] Student ID: Bitdiddle\r\n"
     ]
    },
    {
     "name": "stdout",
     "output_type": "stream",
     "text": [
      "[AutogradeApp] Executing notebook with kernel: python3\r\n"
     ]
    },
    {
     "name": "stdout",
     "output_type": "stream",
     "text": [
      "[AutogradeApp] Writing output to directory: autograded/Bitdiddle\r\n",
      "[AutogradeApp] Writing 26743 bytes to /Users/jhamrick/project/tools/nbgrader/docs/user_guide/grade_example/autograded/Bitdiddle/Problem 1.ipynb\r\n",
      "[AutogradeApp] Changing to directory: submitted/Bitdiddle\r\n",
      "[AutogradeApp] Converting notebook Problem 2.ipynb to notebook\r\n",
      "[AutogradeApp] Support files will be in Problem 2_files/\r\n",
      "[AutogradeApp] Student ID: Bitdiddle\r\n"
     ]
    },
    {
     "name": "stdout",
     "output_type": "stream",
     "text": [
      "[AutogradeApp] Executing notebook with kernel: python3\r\n"
     ]
    },
    {
     "name": "stdout",
     "output_type": "stream",
     "text": [
      "[AutogradeApp] Writing output to directory: autograded/Bitdiddle\r\n",
      "[AutogradeApp] Writing 2727 bytes to /Users/jhamrick/project/tools/nbgrader/docs/user_guide/grade_example/autograded/Bitdiddle/Problem 2.ipynb\r\n",
      "[AutogradeApp] Changing to directory: submitted/Hacker\r\n",
      "[AutogradeApp] Converting notebook Problem 1.ipynb to notebook\r\n",
      "[AutogradeApp] Support files will be in Problem 1_files/\r\n",
      "[AutogradeApp] Student ID: Hacker\r\n"
     ]
    },
    {
     "name": "stdout",
     "output_type": "stream",
     "text": [
      "[AutogradeApp] Executing notebook with kernel: python3\r\n"
     ]
    },
    {
     "name": "stdout",
     "output_type": "stream",
     "text": [
      "[AutogradeApp] Writing output to directory: autograded/Hacker\r\n",
      "[AutogradeApp] Writing 24718 bytes to /Users/jhamrick/project/tools/nbgrader/docs/user_guide/grade_example/autograded/Hacker/Problem 1.ipynb\r\n",
      "[AutogradeApp] Changing to directory: submitted/Hacker\r\n",
      "[AutogradeApp] Converting notebook Problem 2.ipynb to notebook\r\n",
      "[AutogradeApp] Support files will be in Problem 2_files/\r\n",
      "[AutogradeApp] Student ID: Hacker\r\n"
     ]
    },
    {
     "name": "stdout",
     "output_type": "stream",
     "text": [
      "[AutogradeApp] Executing notebook with kernel: python3\r\n"
     ]
    },
    {
     "name": "stdout",
     "output_type": "stream",
     "text": [
      "[AutogradeApp] Writing output to directory: autograded/Hacker\r\n"
     ]
    },
    {
     "name": "stdout",
     "output_type": "stream",
     "text": [
      "[AutogradeApp] Writing 2819 bytes to /Users/jhamrick/project/tools/nbgrader/docs/user_guide/grade_example/autograded/Hacker/Problem 2.ipynb\r\n"
     ]
    }
   ],
   "source": [
    "!nbgrader autograde"
   ]
  },
  {
   "cell_type": "markdown",
   "metadata": {},
   "source": [
    "Now if we look at the `autograded` directory, we see:\n",
    "\n",
    "* [Bitdiddle/Problem 1.ipynb](grade_example/autograded/Bitdiddle/Problem 1.ipynb)\n",
    "* [Bitdiddle/Problem 2.ipynb](grade_example/autograded/Bitdiddle/Problem 2.ipynb)\n",
    "* [Hacker/Problem 1.ipynb](grade_example/autograded/Hacker/Problem 1.ipynb)\n",
    "* [Hacker/Problem 2.ipynb](grade_example/autograded/Hacker/Problem 2.ipynb)"
   ]
  },
  {
   "cell_type": "code",
   "execution_count": 7,
   "metadata": {
    "collapsed": false
   },
   "outputs": [
    {
     "name": "stdout",
     "output_type": "stream",
     "text": [
      "\u001b[34mBitdiddle\u001b[m\u001b[m/ \u001b[34mHacker\u001b[m\u001b[m/\r\n",
      "\r\n",
      "autograded/Bitdiddle:\r\n",
      "Problem 1.ipynb  Problem 2.ipynb\r\n",
      "\r\n",
      "autograded/Hacker:\r\n",
      "Problem 1.ipynb  Problem 2.ipynb\r\n"
     ]
    }
   ],
   "source": [
    "ls -R autograded"
   ]
  },
  {
   "cell_type": "markdown",
   "metadata": {},
   "source": [
    "## Replacing grade cells"
   ]
  },
  {
   "cell_type": "markdown",
   "metadata": {},
   "source": [
    "If we [released the assignment with `--save-cells`](3 - Releasing assignments.ipynb#Recording-grade-cells) (i.e., we saved the grade cells into the database, then we can ensure the grade cells are the same as when the assignment was released by passing the `--overwrite-cells` flag to `nbgrader autograde`:"
   ]
  },
  {
   "cell_type": "code",
   "execution_count": 8,
   "metadata": {
    "collapsed": false
   },
   "outputs": [
    {
     "name": "stdout",
     "output_type": "stream",
     "text": [
      "[AutogradeApp] Using existing profile dir: u'/Users/jhamrick/.nbgrader/profile_default'\r\n",
      "[AutogradeApp] Directory tree prefix: submitted/\r\n",
      "[AutogradeApp] Changing to directory: submitted/Bitdiddle\r\n",
      "[AutogradeApp] Converting notebook Problem 1.ipynb to notebook\r\n",
      "[AutogradeApp] Support files will be in Problem 1_files/\r\n"
     ]
    },
    {
     "name": "stdout",
     "output_type": "stream",
     "text": [
      "[AutogradeApp] Student ID: Bitdiddle\r\n",
      "[AutogradeApp] WARNING | Checksum for grade cell correct_squares has changed!\r\n"
     ]
    },
    {
     "name": "stdout",
     "output_type": "stream",
     "text": [
      "[AutogradeApp] WARNING | Checksum for grade cell correct_sum_of_squares has changed!\r\n",
      "[AutogradeApp] WARNING | Checksum for grade cell plot_axis_limits has changed!\r\n",
      "[AutogradeApp] WARNING | Checksum for grade cell plot_data has changed!\r\n"
     ]
    },
    {
     "name": "stdout",
     "output_type": "stream",
     "text": [
      "[AutogradeApp] Executing notebook with kernel: python3\r\n"
     ]
    },
    {
     "name": "stdout",
     "output_type": "stream",
     "text": [
      "[AutogradeApp] Writing output to directory: autograded/Bitdiddle\r\n",
      "[AutogradeApp] Writing 52565 bytes to /Users/jhamrick/project/tools/nbgrader/docs/user_guide/grade_example/autograded/Bitdiddle/Problem 1.ipynb\r\n",
      "[AutogradeApp] Changing to directory: submitted/Bitdiddle\r\n",
      "[AutogradeApp] Converting notebook Problem 2.ipynb to notebook\r\n",
      "[AutogradeApp] Support files will be in Problem 2_files/\r\n",
      "[AutogradeApp] Student ID: Bitdiddle\r\n"
     ]
    },
    {
     "name": "stdout",
     "output_type": "stream",
     "text": [
      "[AutogradeApp] Executing notebook with kernel: python3\r\n"
     ]
    },
    {
     "name": "stdout",
     "output_type": "stream",
     "text": [
      "[AutogradeApp] Writing output to directory: autograded/Bitdiddle\r\n",
      "[AutogradeApp] Writing 2727 bytes to /Users/jhamrick/project/tools/nbgrader/docs/user_guide/grade_example/autograded/Bitdiddle/Problem 2.ipynb\r\n",
      "[AutogradeApp] Changing to directory: submitted/Hacker\r\n",
      "[AutogradeApp] Converting notebook Problem 1.ipynb to notebook\r\n",
      "[AutogradeApp] Support files will be in Problem 1_files/\r\n"
     ]
    },
    {
     "name": "stdout",
     "output_type": "stream",
     "text": [
      "[AutogradeApp] Student ID: Hacker\r\n"
     ]
    },
    {
     "name": "stdout",
     "output_type": "stream",
     "text": [
      "[AutogradeApp] Executing notebook with kernel: python3\r\n"
     ]
    },
    {
     "name": "stdout",
     "output_type": "stream",
     "text": [
      "[AutogradeApp] Writing output to directory: autograded/Hacker\r\n",
      "[AutogradeApp] Writing 24712 bytes to /Users/jhamrick/project/tools/nbgrader/docs/user_guide/grade_example/autograded/Hacker/Problem 1.ipynb\r\n",
      "[AutogradeApp] Changing to directory: submitted/Hacker\r\n",
      "[AutogradeApp] Converting notebook Problem 2.ipynb to notebook\r\n",
      "[AutogradeApp] Support files will be in Problem 2_files/\r\n",
      "[AutogradeApp] Student ID: Hacker\r\n"
     ]
    },
    {
     "name": "stdout",
     "output_type": "stream",
     "text": [
      "[AutogradeApp] Executing notebook with kernel: python3\r\n"
     ]
    },
    {
     "name": "stdout",
     "output_type": "stream",
     "text": [
      "[AutogradeApp] Writing output to directory: autograded/Hacker\r\n",
      "[AutogradeApp] Writing 2819 bytes to /Users/jhamrick/project/tools/nbgrader/docs/user_guide/grade_example/autograded/Hacker/Problem 2.ipynb\r\n"
     ]
    }
   ],
   "source": [
    "!nbgrader autograde --overwrite-cells"
   ]
  },
  {
   "cell_type": "markdown",
   "metadata": {},
   "source": [
    "Notice that for Ben Bitdiddle's submission for `Problem 1`, there are some cells that changed! If we look at his submission, we'll see that he actually commented out some of the test cell code, perhaps in an attempt to \"trick\" the grader. However, because we had saved the checksums and cell source in our database, we were able to overwrite his changes and grade his assignment with the correct tests"
   ]
  }
 ],
 "metadata": {
  "kernelspec": {
   "display_name": "Python 3",
   "language": "python",
   "name": "python3"
  },
  "language_info": {
   "codemirror_mode": {
    "name": "ipython",
    "version": 3
   },
   "file_extension": ".py",
   "mimetype": "text/x-python",
   "name": "python",
   "nbconvert_exporter": "python",
   "pygments_lexer": "ipython3",
   "version": "3.4.2"
  }
 },
 "nbformat": 4,
 "nbformat_minor": 0
}