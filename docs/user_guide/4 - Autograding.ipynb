{
 "metadata": {
  "name": "",
  "signature": "sha256:33b74857e83818b137bc4907f5b3462b4b725c367a829dcf8cd9387dd9ffa2ca"
 },
 "nbformat": 3,
 "nbformat_minor": 0,
 "worksheets": [
  {
   "cells": [
    {
     "cell_type": "markdown",
     "metadata": {},
     "source": [
      "# Autograde a students' solution"
     ]
    },
    {
     "cell_type": "markdown",
     "metadata": {},
     "source": [
      "**These instructions are currently incomplete**.\n",
      "\n",
      "Let's say that students have turned in their notebooks with a special\n",
      "naming convention of `StudentNotebookLastname.ipynb`. If all of the\n",
      "student notebooks are in the current directory, autograde all of them by\n",
      "doing:\n",
      "\n",
      "```bash\n",
      "nbgrader autograde StudentNotebook*.ipynb\n",
      "```"
     ]
    }
   ],
   "metadata": {}
  }
 ]
}