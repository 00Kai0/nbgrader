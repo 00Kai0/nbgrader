{
 "metadata": {
  "language_info": {
   "codemirror_mode": {
    "name": "ipython",
    "version": 2
   },
   "mimetype": "text/x-python",
   "name": "python",
   "pygments_lexer": "ipython2"
  },
  "name": "",
  "signature": "sha256:f356254c8566a6c38055a0f0aa2a01a926c89857538398781576586b78953aa1"
 },
 "nbformat": 3,
 "nbformat_minor": 0,
 "worksheets": [
  {
   "cells": [
    {
     "cell_type": "markdown",
     "metadata": {},
     "source": [
      "# Autograde a students' solution"
     ]
    },
    {
     "cell_type": "markdown",
     "metadata": {},
     "source": [
      "**These instructions are currently incomplete**.\n",
      "\n",
      "Let's say that students have turned in their notebooks with a special naming convention of `Lastname/Problem N.ipynb`, where `N` is the problem number and `Lastname` is a directory named with the student's last name. In this example, we have a few submitted assignments:\n",
      "\n",
      "* [Bitdiddle/Problem 1.ipynb](grade_example/submitted/Bitdiddle/Problem 1.ipynb)\n",
      "* [Bitdiddle/Problem 2.ipynb](grade_example/submitted/Bitdiddle/Problem 2.ipynb)\n",
      "* [Hacker/Problem 1.ipynb](grade_example/submitted/Hacker/Problem 1.ipynb)\n",
      "* [Hacker/Problem 2.ipynb](grade_example/submitted/Hacker/Problem 2.ipynb)"
     ]
    },
    {
     "cell_type": "code",
     "collapsed": false,
     "input": [
      "cd grade_example"
     ],
     "language": "python",
     "metadata": {},
     "outputs": [
      {
       "output_type": "stream",
       "stream": "stdout",
       "text": [
        "/Users/jhamrick/project/tools/nbgrader/docs/user_guide/grade_example\n"
       ]
      }
     ],
     "prompt_number": 1
    },
    {
     "cell_type": "code",
     "collapsed": false,
     "input": [
      "ls -R"
     ],
     "language": "python",
     "metadata": {},
     "outputs": [
      {
       "output_type": "stream",
       "stream": "stdout",
       "text": [
        "nbgrader_autograde_config.py  \u001b[34msubmitted\u001b[m\u001b[m/\r\n",
        "nbgrader_formgrade_config.py\r\n",
        "\r\n",
        "./submitted:\r\n",
        "\u001b[34mBitdiddle\u001b[m\u001b[m/ \u001b[34mHacker\u001b[m\u001b[m/\r\n",
        "\r\n",
        "./submitted/Bitdiddle:\r\n",
        "Problem 1.ipynb  Problem 2.ipynb\r\n",
        "\r\n",
        "./submitted/Hacker:\r\n",
        "Problem 1.ipynb  Problem 2.ipynb\r\n"
       ]
      }
     ],
     "prompt_number": 2
    },
    {
     "cell_type": "markdown",
     "metadata": {},
     "source": [
      "## Initialize the database"
     ]
    },
    {
     "cell_type": "markdown",
     "metadata": {},
     "source": [
      "Before we can actually start grading, we need to actually record who the students are. We can do this using the API provided by nbgrader, which provides access to a MongoDB to store information about students and their grades:"
     ]
    },
    {
     "cell_type": "code",
     "collapsed": true,
     "input": [
      "# create a connection to the MongoDB using the nbgrader API\n",
      "from nbgrader.api import Gradebook, Student, Assignment\n",
      "gb = Gradebook(\"example\")"
     ],
     "language": "python",
     "metadata": {},
     "outputs": [],
     "prompt_number": 3
    },
    {
     "cell_type": "code",
     "collapsed": true,
     "input": [
      "# drop whatever is in the database currently\n",
      "gb.client.drop_database(\"example\")"
     ],
     "language": "python",
     "metadata": {},
     "outputs": [],
     "prompt_number": 4
    },
    {
     "cell_type": "code",
     "collapsed": false,
     "input": [
      "# create some students and add them to the database\n",
      "s1 = Student(student_id=\"Bitdiddle\", first_name=\"Ben\", last_name=\"Bitdiddle\")\n",
      "s2 = Student(student_id=\"Hacker\", first_name=\"Alyssa\", last_name=\"Hacker\")\n",
      "s3 = Student(student_id=\"Reasoner\", first_name=\"Louis\", last_name=\"Reasoner\")\n",
      "gb.add_student(s1)\n",
      "gb.add_student(s2)\n",
      "gb.add_student(s3)\n",
      "gb.students"
     ],
     "language": "python",
     "metadata": {},
     "outputs": [
      {
       "metadata": {},
       "output_type": "pyout",
       "prompt_number": 5,
       "text": [
        "[{\"last_name\": \"Bitdiddle\", \"student_id\": \"Bitdiddle\", \"first_name\": \"Ben\", \"_id\": \"50812839-74cc-4aaf-a588-092c7610370d\", \"email\": null},\n",
        " {\"last_name\": \"Hacker\", \"student_id\": \"Hacker\", \"first_name\": \"Alyssa\", \"_id\": \"3304ed95-5468-48e5-8f0d-146e57c6ecdd\", \"email\": null},\n",
        " {\"last_name\": \"Reasoner\", \"student_id\": \"Reasoner\", \"first_name\": \"Louis\", \"_id\": \"6ba66374-2e5a-4fd5-8fb2-6613cc70a1f8\", \"email\": null}]"
       ]
      }
     ],
     "prompt_number": 5
    },
    {
     "cell_type": "markdown",
     "metadata": {},
     "source": [
      "We also must create a record for the assignment, which will be associated with the autograded notebooks:"
     ]
    },
    {
     "cell_type": "code",
     "collapsed": false,
     "input": [
      "# create the assignment and add it to the database\n",
      "a = Assignment(assignment_id=\"Problem Set 1\", duedate=\"January 1, 2014\")\n",
      "gb.add_assignment(a)\n",
      "gb.assignments"
     ],
     "language": "python",
     "metadata": {},
     "outputs": [
      {
       "metadata": {},
       "output_type": "pyout",
       "prompt_number": 6,
       "text": [
        "[{\"assignment_id\": \"Problem Set 1\", \"_id\": \"114bbc2e-b20c-44d8-b919-714cf4e3622e\", \"duedate\": \"January 1, 2014\"}]"
       ]
      }
     ],
     "prompt_number": 6
    },
    {
     "cell_type": "markdown",
     "metadata": {},
     "source": [
      "## Run the autograder"
     ]
    },
    {
     "cell_type": "markdown",
     "metadata": {},
     "source": [
      "Now that we've set up the database, we can grade the assignments.\n",
      "\n",
      "First, we specify the configuration file for `nbgrader autograde`:"
     ]
    },
    {
     "cell_type": "code",
     "collapsed": false,
     "input": [
      "!cat nbgrader_autograde_config.py"
     ],
     "language": "python",
     "metadata": {},
     "outputs": [
      {
       "output_type": "stream",
       "stream": "stdout",
       "text": [
        "c = get_config()\r\n",
        "\r\n",
        "import os\r\n",
        "c.AutogradeApp.notebooks = ['submitted']\r\n",
        "c.AutogradeApp.output_dir = os.path.join(os.getcwd(), 'autograded')\r\n",
        "c.AutogradeApp.recursive = True\r\n",
        "c.FindStudentID.regexp = r\"submitted/(?P<student_id>.+)/.*.ipynb\"\r\n",
        "c.SaveAutoGrades.assignment_id = \"Problem Set 1\"\r\n",
        "c.SaveAutoGrades.db_name = \"example\"\r\n"
       ]
      }
     ],
     "prompt_number": 7
    },
    {
     "cell_type": "markdown",
     "metadata": {},
     "source": [
      "This config file says that we should convert the files in the `submitted` directory, and save the autograded files to a new directory called `autograded`. We will do this *recursively*, so that the autograder will look into the directories with the students' names. We additionally specify a regular expression which tells the grader how to determine the student ID. In this case, the ID is just their last name. Finally, we tell the autograder what assignment these notebooks are a part of, and what database the grades should be saved into.\n",
      "\n",
      "Now, to grade the assignments, all we have to do is:"
     ]
    },
    {
     "cell_type": "code",
     "collapsed": false,
     "input": [
      "!nbgrader autograde"
     ],
     "language": "python",
     "metadata": {},
     "outputs": [
      {
       "output_type": "stream",
       "stream": "stdout",
       "text": [
        "[AutogradeApp] Using existing profile dir: u'/tmp/nbgrader/profile_default'\r\n",
        "[AutogradeApp] Directory tree prefix: submitted/\r\n",
        "[NBGraderApp] Using existing profile dir: u'/tmp/nbgrader/profile_default'\r\n"
       ]
      },
      {
       "output_type": "stream",
       "stream": "stdout",
       "text": [
        "[AutogradeApp] Changing to directory: submitted/Bitdiddle\r\n",
        "[AutogradeApp] Converting notebook Problem 1.ipynb to notebook\r\n",
        "[AutogradeApp] Support files will be in Problem 1_files/\r\n"
       ]
      },
      {
       "output_type": "stream",
       "stream": "stdout",
       "text": [
        "[AutogradeApp] Student ID: Bitdiddle\r\n",
        "[AutogradeApp] Executing notebook with kernel: python3\r\n"
       ]
      },
      {
       "output_type": "stream",
       "stream": "stdout",
       "text": [
        "[AutogradeApp] Writing output to directory: autograded/Bitdiddle\r\n",
        "[AutogradeApp] Writing 51199 bytes to /Users/jhamrick/project/tools/nbgrader/docs/user_guide/grade_example/autograded/Bitdiddle/Problem 1.ipynb\r\n",
        "[AutogradeApp] Changing to directory: submitted/Bitdiddle\r\n",
        "[AutogradeApp] Converting notebook Problem 2.ipynb to notebook\r\n",
        "[AutogradeApp] Support files will be in Problem 2_files/\r\n",
        "[AutogradeApp] Student ID: Bitdiddle\r\n",
        "[AutogradeApp] Executing notebook with kernel: python\r\n"
       ]
      },
      {
       "output_type": "stream",
       "stream": "stdout",
       "text": [
        "[AutogradeApp] Writing output to directory: autograded/Bitdiddle\r\n",
        "[AutogradeApp] Writing 2781 bytes to /Users/jhamrick/project/tools/nbgrader/docs/user_guide/grade_example/autograded/Bitdiddle/Problem 2.ipynb\r\n",
        "[AutogradeApp] Changing to directory: submitted/Hacker\r\n",
        "[AutogradeApp] Converting notebook Problem 1.ipynb to notebook\r\n",
        "[AutogradeApp] Support files will be in Problem 1_files/\r\n"
       ]
      },
      {
       "output_type": "stream",
       "stream": "stdout",
       "text": [
        "[AutogradeApp] Student ID: Hacker\r\n",
        "[AutogradeApp] Executing notebook with kernel: python3\r\n"
       ]
      },
      {
       "output_type": "stream",
       "stream": "stdout",
       "text": [
        "[AutogradeApp] Writing output to directory: autograded/Hacker\r\n",
        "[AutogradeApp] Writing 23375 bytes to /Users/jhamrick/project/tools/nbgrader/docs/user_guide/grade_example/autograded/Hacker/Problem 1.ipynb\r\n",
        "[AutogradeApp] Changing to directory: submitted/Hacker\r\n",
        "[AutogradeApp] Converting notebook Problem 2.ipynb to notebook\r\n",
        "[AutogradeApp] Support files will be in Problem 2_files/\r\n",
        "[AutogradeApp] Student ID: Hacker\r\n",
        "[AutogradeApp] Executing notebook with kernel: python\r\n"
       ]
      },
      {
       "output_type": "stream",
       "stream": "stdout",
       "text": [
        "[AutogradeApp] Writing output to directory: autograded/Hacker\r\n",
        "[AutogradeApp] Writing 2873 bytes to /Users/jhamrick/project/tools/nbgrader/docs/user_guide/grade_example/autograded/Hacker/Problem 2.ipynb\r\n"
       ]
      }
     ],
     "prompt_number": 8
    },
    {
     "cell_type": "markdown",
     "metadata": {},
     "source": [
      "Now if we look at the `autograded` directory, we see:\n",
      "\n",
      "* [Bitdiddle/Problem 1.ipynb](grade_example/autograded/Bitdiddle/Problem 1.ipynb)\n",
      "* [Bitdiddle/Problem 2.ipynb](grade_example/autograded/Bitdiddle/Problem 2.ipynb)\n",
      "* [Hacker/Problem 1.ipynb](grade_example/autograded/Hacker/Problem 1.ipynb)\n",
      "* [Hacker/Problem 2.ipynb](grade_example/autograded/Hacker/Problem 2.ipynb)"
     ]
    },
    {
     "cell_type": "code",
     "collapsed": false,
     "input": [
      "ls -R autograded"
     ],
     "language": "python",
     "metadata": {},
     "outputs": [
      {
       "output_type": "stream",
       "stream": "stdout",
       "text": [
        "\u001b[34mBitdiddle\u001b[m\u001b[m/ \u001b[34mHacker\u001b[m\u001b[m/\r\n",
        "\r\n",
        "autograded/Bitdiddle:\r\n",
        "Problem 1.ipynb  Problem 2.ipynb\r\n",
        "\r\n",
        "autograded/Hacker:\r\n",
        "Problem 1.ipynb  Problem 2.ipynb\r\n"
       ]
      }
     ],
     "prompt_number": 9
    }
   ],
   "metadata": {}
  }
 ]
}