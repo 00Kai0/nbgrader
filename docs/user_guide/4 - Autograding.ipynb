{
 "metadata": {
  "name": "",
  "signature": "sha256:44bcdec93aed0edc15e59fc6175bb4bf55b8feaf0c5b2b8c7cff57dc3486395a"
 },
 "nbformat": 3,
 "nbformat_minor": 0,
 "worksheets": [
  {
   "cells": [
    {
     "cell_type": "markdown",
     "metadata": {},
     "source": [
      "# Autograde a students' solution"
     ]
    },
    {
     "cell_type": "markdown",
     "metadata": {},
     "source": [
      "**These instructions are currently incomplete**.\n",
      "\n",
      "Let's say that students have turned in their notebooks with a special naming convention of `StudentNotebookLastname.ipynb`. In this example, we have a submitted assignment from [Ben Bitdiddle](grade_example/StudentNotebookBitdiddle.ipynb) and from [Alyssa P. Hacker](grade_example/StudentNotebookHacker.ipynb):"
     ]
    },
    {
     "cell_type": "code",
     "collapsed": false,
     "input": [
      "cd grade_example"
     ],
     "language": "python",
     "metadata": {},
     "outputs": [
      {
       "output_type": "stream",
       "stream": "stdout",
       "text": [
        "/Users/jhamrick/project/tools/nbgrader/docs/user_guide/grade_example\n"
       ]
      }
     ],
     "prompt_number": 1
    },
    {
     "cell_type": "code",
     "collapsed": false,
     "input": [
      "ls"
     ],
     "language": "python",
     "metadata": {},
     "outputs": [
      {
       "output_type": "stream",
       "stream": "stdout",
       "text": [
        "StudentNotebookBitdiddle.ipynb  nbgrader_autograde_config.py\r\n",
        "StudentNotebookHacker.ipynb     nbgrader_formgrade_config.py\r\n"
       ]
      }
     ],
     "prompt_number": 2
    },
    {
     "cell_type": "markdown",
     "metadata": {},
     "source": [
      "Before we can actually start grading, we need to actually record who the students are. We can do this using the API provided by nbgrader, which provides access to a MongoDB to store information about students and their grades:"
     ]
    },
    {
     "cell_type": "code",
     "collapsed": true,
     "input": [
      "# create a connection to the MongoDB using the nbgrader API\n",
      "from nbgrader.api import Gradebook, Student\n",
      "gb = Gradebook()"
     ],
     "language": "python",
     "metadata": {},
     "outputs": [],
     "prompt_number": 3
    },
    {
     "cell_type": "code",
     "collapsed": true,
     "input": [
      "# drop whatever is in the database currently\n",
      "gb.client.drop_database(\"gradebook\")"
     ],
     "language": "python",
     "metadata": {},
     "outputs": [],
     "prompt_number": 4
    },
    {
     "cell_type": "code",
     "collapsed": false,
     "input": [
      "# create some students and add them to the database\n",
      "s1 = Student(student_id=\"Bitdiddle\", first_name=\"Ben\", last_name=\"Bitdiddle\")\n",
      "s2 = Student(student_id=\"Hacker\", first_name=\"Alyssa\", last_name=\"Hacker\")\n",
      "gb.add_student(s1)\n",
      "gb.add_student(s2)\n",
      "gb.students"
     ],
     "language": "python",
     "metadata": {},
     "outputs": [
      {
       "metadata": {},
       "output_type": "pyout",
       "prompt_number": 5,
       "text": [
        "[{\"student_id\": \"Bitdiddle\", \"first_name\": \"Ben\", \"_id\": \"852a9a07-8026-46b5-8aac-0908fad1c2ac\", \"email\": null, \"last_name\": \"Bitdiddle\"},\n",
        " {\"student_id\": \"Hacker\", \"first_name\": \"Alyssa\", \"_id\": \"6124080d-a021-4ccd-8b82-25a8047caa8f\", \"email\": null, \"last_name\": \"Hacker\"}]"
       ]
      }
     ],
     "prompt_number": 5
    },
    {
     "cell_type": "markdown",
     "metadata": {},
     "source": [
      "Now that we've set up the database, we can grade the assignments."
     ]
    },
    {
     "cell_type": "markdown",
     "metadata": {},
     "source": [
      "First, we specify the configuration file for `nbgrader autograde`:"
     ]
    },
    {
     "cell_type": "code",
     "collapsed": false,
     "input": [
      "!cat nbgrader_autograde_config.py"
     ],
     "language": "python",
     "metadata": {},
     "outputs": [
      {
       "output_type": "stream",
       "stream": "stdout",
       "text": [
        "c = get_config()\r\n",
        "\r\n",
        "import glob\r\n",
        "c.AutogradeApp.notebooks = [x for x in glob.glob(\"StudentNotebook*.ipynb\") if not x.endswith(\".autograded.ipynb\")]\r\n",
        "c.Exporter.file_extension = 'autograded.ipynb'\r\n",
        "c.FindStudentID.regexp = r\".*/StudentNotebook(?P<student_id>.+).ipynb\"\r\n"
       ]
      }
     ],
     "prompt_number": 6
    },
    {
     "cell_type": "markdown",
     "metadata": {},
     "source": [
      "This config file says that we should convert the files starting with `StudentNotebook` and save them with a suffix of `autograded.ipynb`. We additionally specify a regular expression which tells the grader how to determine the student ID. In this case, the ID is just their last name.\n",
      "\n",
      "Now, to grade the assignments, all we have to do is:"
     ]
    },
    {
     "cell_type": "code",
     "collapsed": false,
     "input": [
      "!nbgrader autograde"
     ],
     "language": "python",
     "metadata": {},
     "outputs": [
      {
       "output_type": "stream",
       "stream": "stdout",
       "text": [
        "[AutogradeApp] Using existing profile dir: u'/Users/jhamrick/.ipython/profile_default'\r\n"
       ]
      },
      {
       "output_type": "stream",
       "stream": "stdout",
       "text": [
        "[NBGraderApp] Using existing profile dir: u'/Users/jhamrick/.ipython/profile_default'\r\n",
        "[AutogradeApp] Converting notebook StudentNotebookBitdiddle.ipynb to notebook\r\n",
        "[AutogradeApp] Support files will be in StudentNotebookBitdiddle_files/\r\n"
       ]
      },
      {
       "output_type": "stream",
       "stream": "stdout",
       "text": [
        "[AutogradeApp] '/Users/jhamrick/project/tools/nbgrader/docs/user_guide/grade_example/StudentNotebookBitdiddle.ipynb' u'.*/StudentNotebook(?P<student_id>.+).ipynb'\r\n",
        "[AutogradeApp] Student ID: Bitdiddle\r\n"
       ]
      },
      {
       "output_type": "stream",
       "stream": "stdout",
       "text": [
        "[AutogradeApp] Executing notebook with kernel: python3\r\n"
       ]
      },
      {
       "output_type": "stream",
       "stream": "stdout",
       "text": [
        "[AutogradeApp] Writing 52487 bytes to StudentNotebookBitdiddle.autograded.ipynb\r\n",
        "[AutogradeApp] Converting notebook StudentNotebookHacker.ipynb to notebook\r\n",
        "[AutogradeApp] Support files will be in StudentNotebookHacker_files/\r\n"
       ]
      },
      {
       "output_type": "stream",
       "stream": "stdout",
       "text": [
        "[AutogradeApp] '/Users/jhamrick/project/tools/nbgrader/docs/user_guide/grade_example/StudentNotebookHacker.ipynb' u'.*/StudentNotebook(?P<student_id>.+).ipynb'\r\n",
        "[AutogradeApp] Student ID: Hacker\r\n",
        "[AutogradeApp] Executing notebook with kernel: python3\r\n"
       ]
      },
      {
       "output_type": "stream",
       "stream": "stdout",
       "text": [
        "[AutogradeApp] Writing 24783 bytes to StudentNotebookHacker.autograded.ipynb\r\n"
       ]
      }
     ],
     "prompt_number": 7
    },
    {
     "cell_type": "markdown",
     "metadata": {},
     "source": [
      "Now if we look at the directory, we see two new [StudentNotebookBitdiddle.autograded.ipynb](grade_example/StudentNotebookBitdiddle.autograded.ipynb) and [StudentNotebookHacker.autograded.ipynb](grade_example/StudentNotebookHacker.autograded.ipynb) files:"
     ]
    },
    {
     "cell_type": "code",
     "collapsed": false,
     "input": [
      "ls"
     ],
     "language": "python",
     "metadata": {},
     "outputs": [
      {
       "output_type": "stream",
       "stream": "stdout",
       "text": [
        "StudentNotebookBitdiddle.autograded.ipynb  StudentNotebookHacker.ipynb\r\n",
        "StudentNotebookBitdiddle.ipynb             nbgrader_autograde_config.py\r\n",
        "StudentNotebookHacker.autograded.ipynb     nbgrader_formgrade_config.py\r\n"
       ]
      }
     ],
     "prompt_number": 8
    }
   ],
   "metadata": {}
  }
 ]
}