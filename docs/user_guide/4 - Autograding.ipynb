{
 "cells": [
  {
   "cell_type": "markdown",
   "metadata": {},
   "source": [
    "# Autograde a students' solution"
   ]
  },
  {
   "cell_type": "markdown",
   "metadata": {},
   "source": [
    "**These instructions are currently incomplete**.\n",
    "\n",
    "Let's say that students have turned in their notebooks with a special naming convention of `Lastname/Problem N.ipynb`, where `N` is the problem number and `Lastname` is a directory named with the student's last name. In this example, we have a few submitted assignments:\n",
    "\n",
    "* [Bitdiddle/Problem 1.ipynb](grade_example/submitted/Bitdiddle/Problem 1.ipynb)\n",
    "* [Bitdiddle/Problem 2.ipynb](grade_example/submitted/Bitdiddle/Problem 2.ipynb)\n",
    "* [Hacker/Problem 1.ipynb](grade_example/submitted/Hacker/Problem 1.ipynb)\n",
    "* [Hacker/Problem 2.ipynb](grade_example/submitted/Hacker/Problem 2.ipynb)"
   ]
  },
  {
   "cell_type": "code",
   "execution_count": 1,
   "metadata": {
    "collapsed": false
   },
   "outputs": [
    {
     "name": "stdout",
     "output_type": "stream",
     "text": [
      "/Users/jhamrick/project/tools/nbgrader/docs/user_guide/grade_example\n"
     ]
    }
   ],
   "source": [
    "cd grade_example"
   ]
  },
  {
   "cell_type": "code",
   "execution_count": 2,
   "metadata": {
    "collapsed": false
   },
   "outputs": [
    {
     "name": "stdout",
     "output_type": "stream",
     "text": [
      "nbgrader_autograde_config.py  \u001b[34msubmitted\u001b[m\u001b[m/\r\n",
      "nbgrader_formgrade_config.py\r\n",
      "\r\n",
      "./submitted:\r\n",
      "\u001b[34mBitdiddle\u001b[m\u001b[m/ \u001b[34mHacker\u001b[m\u001b[m/\r\n",
      "\r\n",
      "./submitted/Bitdiddle:\r\n",
      "Problem 1.ipynb  Problem 2.ipynb\r\n",
      "\r\n",
      "./submitted/Hacker:\r\n",
      "Problem 1.ipynb  Problem 2.ipynb\r\n"
     ]
    }
   ],
   "source": [
    "ls -R"
   ]
  },
  {
   "cell_type": "markdown",
   "metadata": {},
   "source": [
    "## Initialize the database"
   ]
  },
  {
   "cell_type": "markdown",
   "metadata": {},
   "source": [
    "Before we can actually start grading, we need to actually record who the students are. We can do this using the API provided by nbgrader, which provides access to a MongoDB to store information about students and their grades:"
   ]
  },
  {
   "cell_type": "code",
   "execution_count": 3,
   "metadata": {
    "collapsed": true
   },
   "outputs": [],
   "source": [
    "# create a connection to the MongoDB using the nbgrader API\n",
    "from nbgrader.api import Gradebook, Student, Assignment\n",
    "gb = Gradebook(\"example\")"
   ]
  },
  {
   "cell_type": "code",
   "execution_count": 4,
   "metadata": {
    "collapsed": true
   },
   "outputs": [],
   "source": [
    "# drop whatever is in the database currently\n",
    "gb.client.drop_database(\"example\")"
   ]
  },
  {
   "cell_type": "code",
   "execution_count": 5,
   "metadata": {
    "collapsed": false
   },
   "outputs": [
    {
     "data": {
      "text/plain": [
       "[{\"first_name\": \"Ben\", \"_id\": \"44885f48-7d5c-4571-a949-359ab1c49f2a\", \"last_name\": \"Bitdiddle\", \"email\": null, \"student_id\": \"Bitdiddle\"},\n",
       " {\"first_name\": \"Alyssa\", \"_id\": \"b62d36b5-dd7e-43c0-9584-e36c3e9ad643\", \"last_name\": \"Hacker\", \"email\": null, \"student_id\": \"Hacker\"},\n",
       " {\"first_name\": \"Louis\", \"_id\": \"f32757c9-62b2-43d1-b0f5-48594131112d\", \"last_name\": \"Reasoner\", \"email\": null, \"student_id\": \"Reasoner\"}]"
      ]
     },
     "execution_count": 5,
     "metadata": {},
     "output_type": "execute_result"
    }
   ],
   "source": [
    "# create some students and add them to the database\n",
    "s1 = Student(student_id=\"Bitdiddle\", first_name=\"Ben\", last_name=\"Bitdiddle\")\n",
    "s2 = Student(student_id=\"Hacker\", first_name=\"Alyssa\", last_name=\"Hacker\")\n",
    "s3 = Student(student_id=\"Reasoner\", first_name=\"Louis\", last_name=\"Reasoner\")\n",
    "gb.add_student(s1)\n",
    "gb.add_student(s2)\n",
    "gb.add_student(s3)\n",
    "gb.students"
   ]
  },
  {
   "cell_type": "markdown",
   "metadata": {},
   "source": [
    "We also must create a record for the assignment, which will be associated with the autograded notebooks:"
   ]
  },
  {
   "cell_type": "code",
   "execution_count": 6,
   "metadata": {
    "collapsed": false
   },
   "outputs": [
    {
     "data": {
      "text/plain": [
       "[{\"_id\": \"7f6151eb-7a90-4c74-ad33-d9b37f0fd64c\", \"duedate\": \"January 1, 2014\", \"assignment_id\": \"Problem Set 1\"}]"
      ]
     },
     "execution_count": 6,
     "metadata": {},
     "output_type": "execute_result"
    }
   ],
   "source": [
    "# create the assignment and add it to the database\n",
    "a = Assignment(assignment_id=\"Problem Set 1\", duedate=\"January 1, 2014\")\n",
    "gb.add_assignment(a)\n",
    "gb.assignments"
   ]
  },
  {
   "cell_type": "markdown",
   "metadata": {},
   "source": [
    "## Run the autograder"
   ]
  },
  {
   "cell_type": "markdown",
   "metadata": {},
   "source": [
    "Now that we've set up the database, we can grade the assignments.\n",
    "\n",
    "First, we specify the configuration file for `nbgrader autograde`:"
   ]
  },
  {
   "cell_type": "code",
   "execution_count": 7,
   "metadata": {
    "collapsed": false
   },
   "outputs": [
    {
     "name": "stdout",
     "output_type": "stream",
     "text": [
      "c = get_config()\r\n",
      "\r\n",
      "import os\r\n",
      "c.AutogradeApp.notebooks = ['submitted']\r\n",
      "c.AutogradeApp.output_dir = os.path.join(os.getcwd(), 'autograded')\r\n",
      "c.AutogradeApp.recursive = True\r\n",
      "c.FindStudentID.regexp = r\"submitted/(?P<student_id>.+)/.*.ipynb\"\r\n",
      "c.SaveAutoGrades.assignment_id = \"Problem Set 1\"\r\n",
      "c.SaveAutoGrades.db_name = \"example\"\r\n"
     ]
    }
   ],
   "source": [
    "!cat nbgrader_autograde_config.py"
   ]
  },
  {
   "cell_type": "markdown",
   "metadata": {},
   "source": [
    "This config file says that we should convert the files in the `submitted` directory, and save the autograded files to a new directory called `autograded`. We will do this *recursively*, so that the autograder will look into the directories with the students' names. We additionally specify a regular expression which tells the grader how to determine the student ID. In this case, the ID is just their last name. Finally, we tell the autograder what assignment these notebooks are a part of, and what database the grades should be saved into.\n",
    "\n",
    "Now, to grade the assignments, all we have to do is:"
   ]
  },
  {
   "cell_type": "code",
   "execution_count": 8,
   "metadata": {
    "collapsed": false
   },
   "outputs": [
    {
     "name": "stdout",
     "output_type": "stream",
     "text": [
      "[AutogradeApp] Using existing profile dir: '/tmp/nbgrader/profile_default'\r\n",
      "[AutogradeApp] Directory tree prefix: submitted/\r\n",
      "[AutogradeApp] Changing to directory: submitted/Bitdiddle\r\n",
      "[AutogradeApp] Converting notebook Problem 1.ipynb to notebook\r\n",
      "[AutogradeApp] Support files will be in Problem 1_files/\r\n"
     ]
    },
    {
     "name": "stdout",
     "output_type": "stream",
     "text": [
      "[AutogradeApp] Student ID: Bitdiddle\r\n"
     ]
    },
    {
     "name": "stdout",
     "output_type": "stream",
     "text": [
      "[AutogradeApp] Executing notebook with kernel: python3\r\n"
     ]
    },
    {
     "name": "stdout",
     "output_type": "stream",
     "text": [
      "[AutogradeApp] Writing output to directory: autograded/Bitdiddle\r\n",
      "[AutogradeApp] Writing 51966 bytes to /Users/jhamrick/project/tools/nbgrader/docs/user_guide/grade_example/autograded/Bitdiddle/Problem 1.ipynb\r\n",
      "[AutogradeApp] Changing to directory: submitted/Bitdiddle\r\n",
      "[AutogradeApp] Converting notebook Problem 2.ipynb to notebook\r\n",
      "[AutogradeApp] Support files will be in Problem 2_files/\r\n"
     ]
    },
    {
     "name": "stdout",
     "output_type": "stream",
     "text": [
      "[AutogradeApp] Student ID: Bitdiddle\r\n",
      "[AutogradeApp] Executing notebook with kernel: python3\r\n"
     ]
    },
    {
     "name": "stdout",
     "output_type": "stream",
     "text": [
      "[AutogradeApp] Writing output to directory: autograded/Bitdiddle\r\n",
      "[AutogradeApp] Writing 2721 bytes to /Users/jhamrick/project/tools/nbgrader/docs/user_guide/grade_example/autograded/Bitdiddle/Problem 2.ipynb\r\n",
      "[AutogradeApp] Changing to directory: submitted/Hacker\r\n",
      "[AutogradeApp] Converting notebook Problem 1.ipynb to notebook\r\n",
      "[AutogradeApp] Support files will be in Problem 1_files/\r\n"
     ]
    },
    {
     "name": "stdout",
     "output_type": "stream",
     "text": [
      "[AutogradeApp] Student ID: Hacker\r\n",
      "[AutogradeApp] Executing notebook with kernel: python3\r\n"
     ]
    },
    {
     "name": "stdout",
     "output_type": "stream",
     "text": [
      "[AutogradeApp] Writing output to directory: autograded/Hacker\r\n",
      "[AutogradeApp] Writing 24113 bytes to /Users/jhamrick/project/tools/nbgrader/docs/user_guide/grade_example/autograded/Hacker/Problem 1.ipynb\r\n",
      "[AutogradeApp] Changing to directory: submitted/Hacker\r\n",
      "[AutogradeApp] Converting notebook Problem 2.ipynb to notebook\r\n",
      "[AutogradeApp] Support files will be in Problem 2_files/\r\n",
      "[AutogradeApp] Student ID: Hacker\r\n",
      "[AutogradeApp] Executing notebook with kernel: python3\r\n"
     ]
    },
    {
     "name": "stdout",
     "output_type": "stream",
     "text": [
      "[AutogradeApp] Writing output to directory: autograded/Hacker\r\n",
      "[AutogradeApp] Writing 2813 bytes to /Users/jhamrick/project/tools/nbgrader/docs/user_guide/grade_example/autograded/Hacker/Problem 2.ipynb\r\n"
     ]
    }
   ],
   "source": [
    "!nbgrader autograde"
   ]
  },
  {
   "cell_type": "markdown",
   "metadata": {},
   "source": [
    "Now if we look at the `autograded` directory, we see:\n",
    "\n",
    "* [Bitdiddle/Problem 1.ipynb](grade_example/autograded/Bitdiddle/Problem 1.ipynb)\n",
    "* [Bitdiddle/Problem 2.ipynb](grade_example/autograded/Bitdiddle/Problem 2.ipynb)\n",
    "* [Hacker/Problem 1.ipynb](grade_example/autograded/Hacker/Problem 1.ipynb)\n",
    "* [Hacker/Problem 2.ipynb](grade_example/autograded/Hacker/Problem 2.ipynb)"
   ]
  },
  {
   "cell_type": "code",
   "execution_count": 9,
   "metadata": {
    "collapsed": false
   },
   "outputs": [
    {
     "name": "stdout",
     "output_type": "stream",
     "text": [
      "\u001b[34mBitdiddle\u001b[m\u001b[m/ \u001b[34mHacker\u001b[m\u001b[m/\r\n",
      "\r\n",
      "autograded/Bitdiddle:\r\n",
      "Problem 1.ipynb  Problem 2.ipynb\r\n",
      "\r\n",
      "autograded/Hacker:\r\n",
      "Problem 1.ipynb  Problem 2.ipynb\r\n"
     ]
    }
   ],
   "source": [
    "ls -R autograded"
   ]
  }
 ],
 "metadata": {
  "kernelspec": {
   "display_name": "IPython (Python 3)",
   "name": "python3"
  },
  "language_info": {
   "codemirror_mode": {
    "name": "ipython",
    "version": 3
   },
   "mimetype": "text/x-python",
   "name": "python",
   "pygments_lexer": "ipython3"
  },
  "signature": "sha256:f356254c8566a6c38055a0f0aa2a01a926c89857538398781576586b78953aa1"
 },
 "nbformat": 4,
 "nbformat_minor": 0
}