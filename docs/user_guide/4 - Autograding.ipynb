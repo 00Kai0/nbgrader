{
 "metadata": {
  "name": "",
  "signature": "sha256:ad429d6ac75b213a16ca57c771b9b424c9ffc1ca8da5bca20a706bcd00f51b08"
 },
 "nbformat": 3,
 "nbformat_minor": 0,
 "worksheets": [
  {
   "cells": [
    {
     "cell_type": "markdown",
     "metadata": {},
     "source": [
      "# Autograde a students' solution"
     ]
    },
    {
     "cell_type": "markdown",
     "metadata": {},
     "source": [
      "**These instructions are currently incomplete**.\n",
      "\n",
      "Let's say that students have turned in their notebooks with a special naming convention of `StudentNotebookLastname.ipynb`. In this example, we have one [example submitted assignment](grade_example/StudentNotebookBitdiddle.ipynb) from Ben Bitdiddle:"
     ]
    },
    {
     "cell_type": "code",
     "collapsed": false,
     "input": [
      "cd grade_example"
     ],
     "language": "python",
     "metadata": {},
     "outputs": [
      {
       "output_type": "stream",
       "stream": "stdout",
       "text": [
        "/Users/jhamrick/project/tools/nbgrader/docs/user_guide/grade_example\n"
       ]
      }
     ],
     "prompt_number": 1
    },
    {
     "cell_type": "code",
     "collapsed": false,
     "input": [
      "ls"
     ],
     "language": "python",
     "metadata": {},
     "outputs": [
      {
       "output_type": "stream",
       "stream": "stdout",
       "text": [
        "StudentNotebookBitdiddle.ipynb  nbgrader_autograde_config.py\r\n"
       ]
      }
     ],
     "prompt_number": 2
    },
    {
     "cell_type": "markdown",
     "metadata": {},
     "source": [
      "There is additionally a configuration file for `nbgrader autograde`:"
     ]
    },
    {
     "cell_type": "code",
     "collapsed": false,
     "input": [
      "!cat nbgrader_autograde_config.py"
     ],
     "language": "python",
     "metadata": {},
     "outputs": [
      {
       "output_type": "stream",
       "stream": "stdout",
       "text": [
        "c = get_config()\r\n",
        "\r\n",
        "c.AutogradeApp.notebooks = ['StudentNotebookBitdiddle.ipynb']\r\n",
        "c.AutogradeApp.output_base = 'GradedNotebookBitdiddle'\r\n"
       ]
      }
     ],
     "prompt_number": 3
    },
    {
     "cell_type": "markdown",
     "metadata": {},
     "source": [
      "This config file says that we should convert the file `StudentNotebookBitdiddle.ipynb` and name the output `GradedNotebookBitdiddle.ipynb`. We additionally specify the header file, which will be prepended to the beginning of the assignment. For other options, please see the [`nbgrader autograde` documentation](../command_line_tools/nbgrader autograde.ipynb).\n",
      "\n",
      "Now, to create the release version, all we have to do is:"
     ]
    },
    {
     "cell_type": "code",
     "collapsed": false,
     "input": [
      "!nbgrader autograde"
     ],
     "language": "python",
     "metadata": {},
     "outputs": [
      {
       "output_type": "stream",
       "stream": "stdout",
       "text": [
        "[AutogradeApp] Using existing profile dir: u'/Users/jhamrick/.ipython/profile_default'\r\n"
       ]
      },
      {
       "output_type": "stream",
       "stream": "stdout",
       "text": [
        "[NBGraderApp] Using existing profile dir: u'/Users/jhamrick/.ipython/profile_default'\r\n",
        "[AutogradeApp] Converting notebook StudentNotebookBitdiddle.ipynb to notebook\r\n",
        "[AutogradeApp] Support files will be in GradedNotebookBitdiddle_files/\r\n",
        "[AutogradeApp] '/Users/jhamrick/project/tools/nbgrader/docs/user_guide/grade_example/StudentNotebookBitdiddle.ipynb' u''\r\n",
        "[AutogradeApp] Student ID: \r\n"
       ]
      },
      {
       "output_type": "stream",
       "stream": "stdout",
       "text": [
        "[AutogradeApp] Writing 52361 bytes to GradedNotebookBitdiddle.ipynb\r\n"
       ]
      }
     ],
     "prompt_number": 4
    },
    {
     "cell_type": "markdown",
     "metadata": {},
     "source": [
      "We could have also specified our options on the command line:"
     ]
    },
    {
     "cell_type": "code",
     "collapsed": false,
     "input": [
      "!nbgrader autograde --output=GradedNotebookBitdiddle StudentNotebookBitdiddle.ipynb"
     ],
     "language": "python",
     "metadata": {},
     "outputs": [
      {
       "output_type": "stream",
       "stream": "stdout",
       "text": [
        "[AutogradeApp] Using existing profile dir: u'/Users/jhamrick/.ipython/profile_default'\r\n"
       ]
      },
      {
       "output_type": "stream",
       "stream": "stdout",
       "text": [
        "[NBGraderApp] Using existing profile dir: u'/Users/jhamrick/.ipython/profile_default'\r\n",
        "[AutogradeApp] Converting notebook StudentNotebookBitdiddle.ipynb to notebook\r\n",
        "[AutogradeApp] Support files will be in GradedNotebookBitdiddle_files/\r\n"
       ]
      },
      {
       "output_type": "stream",
       "stream": "stdout",
       "text": [
        "[AutogradeApp] u'/Users/jhamrick/project/tools/nbgrader/docs/user_guide/grade_example/StudentNotebookBitdiddle.ipynb' u''\r\n",
        "[AutogradeApp] Student ID: \r\n"
       ]
      },
      {
       "output_type": "stream",
       "stream": "stdout",
       "text": [
        "[AutogradeApp] Writing 52361 bytes to GradedNotebookBitdiddle.ipynb\r\n"
       ]
      }
     ],
     "prompt_number": 5
    },
    {
     "cell_type": "markdown",
     "metadata": {},
     "source": [
      "The resulting [autograded assignment](grade_example/GradedNotebookBitdiddle.ipynb) shows that some of the grade cells passed, while others did not."
     ]
    }
   ],
   "metadata": {}
  }
 ]
}