{
 "cells": [
  {
   "cell_type": "code",
   "execution_count": null,
   "metadata": {
    "collapsed": true,
    "deletable": false,
    "nbgrader": {
     "checksum": "167a1f82017360cb849c086b86c7a9f9",
     "grade": true,
     "grade_id": "foo",
     "points": 1
    }
   },
   "outputs": [],
   "source": [
    "print(\"Success!\")"
   ]
  },
  {
   "cell_type": "markdown",
   "metadata": {
    "deletable": false,
    "nbgrader": {
     "checksum": "e61571352c3e4ed2c55487c5585e8620",
     "grade": true,
     "grade_id": "bar",
     "points": 2,
     "solution": true
    }
   },
   "source": [
    "An answer that changed"
   ]
  }
 ],
 "metadata": {},
 "nbformat": 4,
 "nbformat_minor": 0
}
