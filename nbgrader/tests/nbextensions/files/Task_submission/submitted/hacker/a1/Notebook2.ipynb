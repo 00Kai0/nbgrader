{
 "cells": [
  {
   "cell_type": "code",
   "execution_count": 1,
   "metadata": {
    "deletable": false,
    "nbgrader": {
     "cell_type": "code",
     "checksum": "3b7d17e0df9a93c400aeb1aca1606365",
     "grade": false,
     "grade_id": "cell-39cee8b588a2b231",
     "locked": false,
     "schema_version": 2,
     "solution": true,
     "task": false
    }
   },
   "outputs": [],
   "source": [
    "def twice(x):\n",
    "    # YOUR CODE HERE\n",
    "    return x+x\n",
    "    raise NotImplementedError()"
   ]
  },
  {
   "cell_type": "code",
   "execution_count": 2,
   "metadata": {
    "deletable": false,
    "editable": false,
    "nbgrader": {
     "cell_type": "code",
     "checksum": "955f09596ea8b499855925e15d12f0c8",
     "grade": true,
     "grade_id": "cell-285e58af6409632f",
     "locked": true,
     "points": 1,
     "schema_version": 2,
     "solution": false,
     "task": false
    }
   },
   "outputs": [],
   "source": [
    "assert twice(9)==18"
   ]
  },
  {
   "cell_type": "markdown",
   "metadata": {
    "deletable": false,
    "editable": false,
    "nbgrader": {
     "cell_type": "markdown",
     "checksum": "c6d69ecc9caefb79d2495193e7979137",
     "grade": false,
     "grade_id": "task1",
     "locked": true,
     "points": 2,
     "schema_version": 2,
     "solution": false,
     "task": true
    }
   },
   "source": [
    "Define a function to calculate three times a number!"
   ]
  },
  {
   "cell_type": "code",
   "execution_count": 3,
   "metadata": {},
   "outputs": [],
   "source": [
    "def thrice(x):\n",
    "    return 3*x"
   ]
  },
  {
   "cell_type": "code",
   "execution_count": null,
   "metadata": {},
   "outputs": [],
   "source": []
  }
 ],
 "metadata": {
  "kernelspec": {
   "display_name": "Python 2",
   "language": "python",
   "name": "python"
  },
  "language_info": {
   "codemirror_mode": {
    "name": "ipython",
    "version": 2
   },
   "file_extension": ".py",
   "mimetype": "text/x-python",
   "name": "python",
   "nbconvert_exporter": "python",
   "pygments_lexer": "ipython2",
   "version": "2.7.15"
  }
 },
 "nbformat": 4,
 "nbformat_minor": 2
}
