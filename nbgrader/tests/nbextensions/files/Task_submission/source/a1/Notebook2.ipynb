{
 "cells": [
  {
   "cell_type": "code",
   "execution_count": 2,
   "metadata": {
    "nbgrader": {
     "grade": false,
     "grade_id": "cell-39cee8b588a2b231",
     "locked": false,
     "schema_version": 2,
     "solution": true,
     "task": false
    }
   },
   "outputs": [],
   "source": [
    "def twice(x):\n",
    "    ### BEGIN SOLUTION ###\n",
    "    return 2*x    \n",
    "    ### END SOLUTION ###"
   ]
  },
  {
   "cell_type": "code",
   "execution_count": 3,
   "metadata": {
    "nbgrader": {
     "grade": true,
     "grade_id": "cell-285e58af6409632f",
     "locked": true,
     "points": 1,
     "schema_version": 2,
     "solution": false,
     "task": false
    }
   },
   "outputs": [],
   "source": [
    "assert twice(9)==18"
   ]
  },
  {
   "cell_type": "markdown",
   "metadata": {
    "nbgrader": {
     "grade": false,
     "grade_id": "task1",
     "locked": true,
     "points": 2,
     "schema_version": 2,
     "solution": false,
     "task": true
    }
   },
   "source": [
    "Define a function to calculate three times a number!"
   ]
  }
 ],
 "metadata": {
  "celltoolbar": "Create Assignment",
  "kernelspec": {
   "display_name": "Python 2",
   "language": "python",
   "name": "python"
  },
  "language_info": {
   "codemirror_mode": {
    "name": "ipython",
    "version": 2
   },
   "file_extension": ".py",
   "mimetype": "text/x-python",
   "name": "python",
   "nbconvert_exporter": "python",
   "pygments_lexer": "ipython2",
   "version": "2.7.15"
  }
 },
 "nbformat": 4,
 "nbformat_minor": 2
}
