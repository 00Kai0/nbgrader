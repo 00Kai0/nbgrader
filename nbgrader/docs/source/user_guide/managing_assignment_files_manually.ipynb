{
 "cells": [
  {
   "cell_type": "markdown",
   "metadata": {},
   "source": [
    "# Managing assignment files manually"
   ]
  },
  {
   "cell_type": "markdown",
   "metadata": {},
   "source": [
    "Distributing assignments to students and collecting them can be a logistical nightmare. If you are relying on distributing the release version of the assignment to the students using your institution's existing learning management system the process of downloading the students submissions from the learning management system and then getting them back into ``nbgrader`` can be simplified by relying on some of nbgrader's built-in functionality."
   ]
  },
  {
   "cell_type": "raw",
   "metadata": {},
   "source": [
    ".. contents:: Table of Contents\n",
    "   :depth: 2"
   ]
  },
  {
   "cell_type": "markdown",
   "metadata": {},
   "source": [
    "## Releasing and fetching assignments"
   ]
  },
  {
   "cell_type": "markdown",
   "metadata": {},
   "source": [
    "After an assignment has been created using `nbgrader assign`, the instructor must actually release that assignment to students. This section of the documentation assumes you are using your institution's existing learning management system for distributing the release version of the assignment. It is also assumed that the students will fetch the assignments from - and submit their assignments to - the learning management system."
   ]
  },
  {
   "cell_type": "raw",
   "metadata": {},
   "source": [
    "If this is not the case and you are using nbgrader in a shared server environment, you can do this with the ``nbgrader release`` command (see :doc:`managing_assignment_files`)"
   ]
  },
  {
   "cell_type": "markdown",
   "metadata": {},
   "source": [
    "## Collecting assignments"
   ]
  },
  {
   "cell_type": "raw",
   "metadata": {},
   "source": [
    ".. seealso::\n",
    "\n",
    "    :doc:`/command_line_tools/nbgrader-zip-collect`\n",
    "        Command line options for ``nbgrader zip_collect``\n",
    "\n",
    "    :doc:`/plugins/zipcollect-plugin`\n",
    "        Plugins for ``nbgrader zip_collect``\n",
    "\n",
    "    :doc:`philosophy`\n",
    "        More details on how the nbgrader hierarchy is structured.\n",
    "\n",
    "    :doc:`/configuration/config_options`\n",
    "        Details on ``nbgrader_config.py``"
   ]
  },
  {
   "cell_type": "raw",
   "metadata": {},
   "source": [
    "Once the students have submitted their assignments and you have downloaded these assignment files from your institution's learning management system, you can get theses files back into ``nbgrader`` by using the ``nbgrader zip_collect`` sub-command.\n",
    "\n",
    "``nbgrader zip_collect`` makes a few assumptions about how the downloaded assignment files are organized. By default, ``nbgrader zip_collect`` assumes that your downloaded assignment files will be organized with the following directory structure:\n",
    "\n",
    "::\n",
    "\n",
    "    {downloaded}/{assignment_id}/{collect_step}/\n",
    "\n",
    "where:\n",
    "\n",
    "* The ``downloaded`` directory is the main directory where your downloaded assignment files are placed.\n",
    "  This location can also be customized (see the :doc:`configuration options </configuration/config_options>`)\n",
    "  so that you can run the nbgrader commands from anywhere on your system, but still have them\n",
    "  operate on the same directory.\n",
    "\n",
    "* ``assignment_id`` corresponds to the unique name of an assignment.\n",
    "\n",
    "* The ``collect_step`` sub-directory is the step in the collect process.\n",
    "\n",
    "\n",
    "The first step in the collect process is to extract files from any archive (zip) files - and copy any non-archive files - found in the following directory:\n",
    "\n",
    "::\n",
    "\n",
    "    {downloaded}/{assignment_id}/{archive_directory}/\n",
    "\n",
    "where:\n",
    "\n",
    "* The ``archive_directory`` contains the actual submission files or archives downloaded from your institution's\n",
    "  learning management system. ``nbgrader zip_collect`` assumes you have already created this directory and placed all\n",
    "  downloaded submission files or archives in this directory."
   ]
  },
  {
   "cell_type": "markdown",
   "metadata": {},
   "source": [
    "For demo purposes we have already created the directories needed by the ``nbgrader zip_collect`` sub-command and placed the downloaded assignment submission files and archive (zip) files in there. For example we have one ``.zip`` file and one ``.ipynb`` file:"
   ]
  },
  {
   "cell_type": "code",
   "execution_count": 1,
   "metadata": {
    "collapsed": false
   },
   "outputs": [
    {
     "name": "stdout",
     "output_type": "stream",
     "text": [
      "total 32\n",
      "-rw-rw-r-- 1 logan logan 18022 Jan 20 16:11 gradebook_xyz101_s1_2016_ps1_2016-02-10-17-30-10.zip\n",
      "-rw-rw-r-- 1 logan logan  8830 Jan 20 16:46 ps1_hacker_attempt_2016-01-30-20-30-10_problem1.ipynb\n"
     ]
    }
   ],
   "source": [
    "%%bash\n",
    "\n",
    "ls -l downloaded/ps1/archive"
   ]
  },
  {
   "cell_type": "raw",
   "metadata": {},
   "source": [
    "``nbgrader zip_collect`` will extract archive - or copy non-archive - files from here are into the following directory:\n",
    "\n",
    "::\n",
    "\n",
    "    {downloaded}/{assignment_id}/{extracted_directory}/\n",
    "\n",
    "\n",
    "The second step in the collect process is to collect and copy files from the ``extracted_directory`` above to the students ``submitted_directory``:\n",
    "\n",
    "::\n",
    "\n",
    "    {submitted_directory}/{student_id}/{assignment_id}/{notebook_id}.ipynb\n"
   ]
  },
  {
   "cell_type": "markdown",
   "metadata": {},
   "source": [
    "But before we can run the ``nbgrader zip_collect`` sub-command we first need to specify a few config options:"
   ]
  },
  {
   "cell_type": "code",
   "execution_count": 2,
   "metadata": {
    "collapsed": false
   },
   "outputs": [
    {
     "name": "stdout",
     "output_type": "stream",
     "text": [
      "Overwriting nbgrader_config.py\n"
     ]
    }
   ],
   "source": [
    "%%file nbgrader_config.py\n",
    "\n",
    "c = get_config()\n",
    "\n",
    "# only set for demo purposes so as to not mess up the other documentation\n",
    "c.ZipCollectApp.submitted_directory = 'submitted_zip'\n",
    "\n",
    "c.ZipCollectApp.strict = True\n",
    "c.ZipCollectApp.auto_update_database = True\n",
    "\n",
    "c.FileNameCollectorPlugin.named_regexp = (\n",
    "    '.*_(?P<student_id>\\w+)_attempt_'\n",
    "    '(?P<timestamp>[0-9\\-]+)_'\n",
    "    '(?P<file_id>\\w+)'\n",
    ")"
   ]
  },
  {
   "cell_type": "markdown",
   "metadata": {},
   "source": [
    "Setting the ``strict`` flag ``True`` skips any submitted notebooks with invalid names.\n",
    "\n",
    "Setting the ``auto_update_database`` flag ``True`` will automatically update the database by adding missing student entries and update existing student entries with updated ``first_name``, ``last_name``, and ``email`` data.\n",
    "\n",
    "By default the ``nbgrader zip_collect`` sub-command uses the ``FileNameCollectorPlugin`` to collect files from the ``extracted_directory``. This is done by sending each filename through to the ``FileNameCollectorPlugin``, which in turn applies a named group regular expression (``named_regexp``) to the filename. The ``FileNameCollectorPlugin`` returns ``None`` if the given file should be skipped or it returns an object that must contain the ``student_id`` and ``file_id`` data, and can optionally contain the ``timestamp``, ``first_name``, ``last_name``, and ``email`` data.\n",
    "\n",
    "Thus if using the default ``FileNameCollectorPlugin`` you must at least supply the ``student_id`` and ``file_id`` named groups. Of course this plugin assumes all extracted files have the same filename structure similar to downloaded notebook:"
   ]
  },
  {
   "cell_type": "code",
   "execution_count": 3,
   "metadata": {
    "collapsed": false
   },
   "outputs": [
    {
     "name": "stdout",
     "output_type": "stream",
     "text": [
      "total 32\n",
      "-rw-rw-r-- 1 logan logan 18022 Jan 20 16:11 gradebook_xyz101_s1_2016_ps1_2016-02-10-17-30-10.zip\n",
      "-rw-rw-r-- 1 logan logan  8830 Jan 20 16:46 ps1_hacker_attempt_2016-01-30-20-30-10_problem1.ipynb\n"
     ]
    }
   ],
   "source": [
    "%%bash\n",
    "\n",
    "ls -l downloaded/ps1/archive"
   ]
  },
  {
   "cell_type": "raw",
   "metadata": {},
   "source": [
    "If you wish to use a custom plugin for the ``ZipCollectApp`` see :doc:`/plugins/zipcollect-plugin` for more information."
   ]
  },
  {
   "cell_type": "markdown",
   "metadata": {},
   "source": [
    "With the ``nbgrader_config.py`` file created we can now run the ``nbgrader zip_collect`` sub-command, for example:"
   ]
  },
  {
   "cell_type": "code",
   "execution_count": 4,
   "metadata": {
    "collapsed": false,
    "scrolled": true
   },
   "outputs": [
    {
     "name": "stderr",
     "output_type": "stream",
     "text": [
      "[ZipCollectApp | INFO] Using file collector: FileNameCollectorPlugin\n",
      "[ZipCollectApp | WARNING] Directory not found. Creating: /media/logan/External/Code_Dev/nbgrader/nbgrader/docs/source/user_guide/downloaded/ps1/extracted\n",
      "[ZipCollectApp | INFO] Extracting file: /media/logan/External/Code_Dev/nbgrader/nbgrader/docs/source/user_guide/downloaded/ps1/archive/gradebook_xyz101_s1_2016_ps1_2016-02-10-17-30-10.zip\n",
      "[ZipCollectApp | INFO] Copying file to: /media/logan/External/Code_Dev/nbgrader/nbgrader/docs/source/user_guide/downloaded/ps1/extracted/ps1_hacker_attempt_2016-01-30-20-30-10_problem1.ipynb\n",
      "[ZipCollectApp | INFO] Start collecting files...\n",
      "[ZipCollectApp | INFO] Processing file: /media/logan/External/Code_Dev/nbgrader/nbgrader/docs/source/user_guide/downloaded/ps1/extracted/ps1_bitdiddle_attempt_2016-01-30-15-30-10_jupyter.png\n",
      "[ZipCollectApp | WARNING] Skipped. No match information provided.\n",
      "[ZipCollectApp | INFO] Processing file: /media/logan/External/Code_Dev/nbgrader/nbgrader/docs/source/user_guide/downloaded/ps1/extracted/ps1_bitdiddle_attempt_2016-01-30-15-30-10_problem1.ipynb\n",
      "[ZipCollectApp | INFO] Updating database for student bitdiddle.\n",
      "[ZipCollectApp | INFO] Processing file: /media/logan/External/Code_Dev/nbgrader/nbgrader/docs/source/user_guide/downloaded/ps1/extracted/ps1_bitdiddle_attempt_2016-01-30-15-30-10_problem2.ipynb\n",
      "[ZipCollectApp | INFO] Updating database for student bitdiddle.\n",
      "[ZipCollectApp | INFO] Processing file: /media/logan/External/Code_Dev/nbgrader/nbgrader/docs/source/user_guide/downloaded/ps1/extracted/ps1_hacker_attempt_2016-01-30-16-30-10_jupyter.png\n",
      "[ZipCollectApp | WARNING] Skipped. No match information provided.\n",
      "[ZipCollectApp | INFO] Processing file: /media/logan/External/Code_Dev/nbgrader/nbgrader/docs/source/user_guide/downloaded/ps1/extracted/ps1_hacker_attempt_2016-01-30-16-30-10_myproblem1.ipynb\n",
      "[ZipCollectApp | WARNING] Skipped. Invalid notebook name.\n",
      "[ZipCollectApp | INFO] Processing file: /media/logan/External/Code_Dev/nbgrader/nbgrader/docs/source/user_guide/downloaded/ps1/extracted/ps1_hacker_attempt_2016-01-30-16-30-10_problem2.ipynb\n",
      "[ZipCollectApp | INFO] Updating database for student hacker.\n",
      "[ZipCollectApp | INFO] Processing file: /media/logan/External/Code_Dev/nbgrader/nbgrader/docs/source/user_guide/downloaded/ps1/extracted/ps1_hacker_attempt_2016-01-30-20-30-10_problem1.ipynb\n",
      "[ZipCollectApp | INFO] Updating database for student hacker.\n",
      "[ZipCollectApp | WARNING] 4 files collected, 3 files skipped\n",
      "[ZipCollectApp | INFO] Start transfering files...\n",
      "[ZipCollectApp | WARNING] Directory not found. Creating: /media/logan/External/Code_Dev/nbgrader/nbgrader/docs/source/user_guide/submitted_zip/bitdiddle/ps1\n",
      "[ZipCollectApp | INFO] Copying from: /media/logan/External/Code_Dev/nbgrader/nbgrader/docs/source/user_guide/downloaded/ps1/extracted/ps1_bitdiddle_attempt_2016-01-30-15-30-10_problem1.ipynb\n",
      "[ZipCollectApp | INFO]   Copying to: /media/logan/External/Code_Dev/nbgrader/nbgrader/docs/source/user_guide/submitted_zip/bitdiddle/ps1/problem1.ipynb\n",
      "[ZipCollectApp | INFO] Copying from: /media/logan/External/Code_Dev/nbgrader/nbgrader/docs/source/user_guide/downloaded/ps1/extracted/ps1_bitdiddle_attempt_2016-01-30-15-30-10_problem2.ipynb\n",
      "[ZipCollectApp | INFO]   Copying to: /media/logan/External/Code_Dev/nbgrader/nbgrader/docs/source/user_guide/submitted_zip/bitdiddle/ps1/problem2.ipynb\n",
      "[ZipCollectApp | INFO] Creating timestamp: /media/logan/External/Code_Dev/nbgrader/nbgrader/docs/source/user_guide/submitted_zip/bitdiddle/ps1/timestamp.txt\n",
      "[ZipCollectApp | WARNING] Directory not found. Creating: /media/logan/External/Code_Dev/nbgrader/nbgrader/docs/source/user_guide/submitted_zip/hacker/ps1\n",
      "[ZipCollectApp | INFO] Copying from: /media/logan/External/Code_Dev/nbgrader/nbgrader/docs/source/user_guide/downloaded/ps1/extracted/ps1_hacker_attempt_2016-01-30-16-30-10_problem2.ipynb\n",
      "[ZipCollectApp | INFO]   Copying to: /media/logan/External/Code_Dev/nbgrader/nbgrader/docs/source/user_guide/submitted_zip/hacker/ps1/problem2.ipynb\n",
      "[ZipCollectApp | INFO] Copying from: /media/logan/External/Code_Dev/nbgrader/nbgrader/docs/source/user_guide/downloaded/ps1/extracted/ps1_hacker_attempt_2016-01-30-20-30-10_problem1.ipynb\n",
      "[ZipCollectApp | INFO]   Copying to: /media/logan/External/Code_Dev/nbgrader/nbgrader/docs/source/user_guide/submitted_zip/hacker/ps1/problem1.ipynb\n",
      "[ZipCollectApp | INFO] Creating timestamp: /media/logan/External/Code_Dev/nbgrader/nbgrader/docs/source/user_guide/submitted_zip/hacker/ps1/timestamp.txt\n"
     ]
    }
   ],
   "source": [
    "%%bash\n",
    "\n",
    "nbgrader zip_collect ps1"
   ]
  },
  {
   "cell_type": "markdown",
   "metadata": {},
   "source": [
    "After running the ``nbgrader zip_collect`` sub-command, the archive (zip) files were extracted - and the non-archive files were copied - to the ``extracted_directory``:"
   ]
  },
  {
   "cell_type": "code",
   "execution_count": 5,
   "metadata": {
    "collapsed": false
   },
   "outputs": [
    {
     "name": "stdout",
     "output_type": "stream",
     "text": [
      "total 56\n",
      "-rw-rw-r-- 1 logan logan 5733 Jan 20 16:47 ps1_bitdiddle_attempt_2016-01-30-15-30-10_jupyter.png\n",
      "-rw-rw-r-- 1 logan logan 7712 Jan 20 16:47 ps1_bitdiddle_attempt_2016-01-30-15-30-10_problem1.ipynb\n",
      "-rw-rw-r-- 1 logan logan 2228 Jan 20 16:47 ps1_bitdiddle_attempt_2016-01-30-15-30-10_problem2.ipynb\n",
      "-rw-rw-r-- 1 logan logan 5733 Jan 20 16:47 ps1_hacker_attempt_2016-01-30-16-30-10_jupyter.png\n",
      "-rw-rw-r-- 1 logan logan 8830 Jan 20 16:47 ps1_hacker_attempt_2016-01-30-16-30-10_myproblem1.ipynb\n",
      "-rw-rw-r-- 1 logan logan 2358 Jan 20 16:47 ps1_hacker_attempt_2016-01-30-16-30-10_problem2.ipynb\n",
      "-rw-rw-r-- 1 logan logan 8830 Jan 20 16:47 ps1_hacker_attempt_2016-01-30-20-30-10_problem1.ipynb\n"
     ]
    }
   ],
   "source": [
    "%%bash\n",
    "\n",
    "ls -l downloaded/ps1/extracted/"
   ]
  },
  {
   "cell_type": "markdown",
   "metadata": {},
   "source": [
    "And these files were then collected and copied into the students ``submitted_directory``:"
   ]
  },
  {
   "cell_type": "code",
   "execution_count": 6,
   "metadata": {
    "collapsed": false
   },
   "outputs": [
    {
     "name": "stdout",
     "output_type": "stream",
     "text": [
      "total 8\n",
      "drwxrwxr-x 3 logan logan 4096 Jan 20 16:47 bitdiddle\n",
      "drwxrwxr-x 3 logan logan 4096 Jan 20 16:47 hacker\n"
     ]
    }
   ],
   "source": [
    "%%bash\n",
    "\n",
    "ls -l submitted_zip"
   ]
  },
  {
   "cell_type": "code",
   "execution_count": 7,
   "metadata": {
    "collapsed": false
   },
   "outputs": [
    {
     "name": "stdout",
     "output_type": "stream",
     "text": [
      "total 20\n",
      "-rw-rw-r-- 1 logan logan 8830 Jan 20 16:47 problem1.ipynb\n",
      "-rw-rw-r-- 1 logan logan 2358 Jan 20 16:47 problem2.ipynb\n",
      "-rw-rw-r-- 1 logan logan   19 Jan 20 16:47 timestamp.txt\n"
     ]
    }
   ],
   "source": [
    "%%bash\n",
    "\n",
    "ls -l submitted_zip/hacker/ps1/"
   ]
  },
  {
   "cell_type": "markdown",
   "metadata": {},
   "source": [
    "Unfortunately, for this demo, the timestamp strings from the filenames do not parse correctly:"
   ]
  },
  {
   "cell_type": "code",
   "execution_count": 8,
   "metadata": {
    "collapsed": false
   },
   "outputs": [
    {
     "name": "stdout",
     "output_type": "stream",
     "text": [
      "2016-01-31 06:00:00"
     ]
    }
   ],
   "source": [
    "%%bash\n",
    "\n",
    "cat submitted_zip/hacker/ps1/timestamp.txt"
   ]
  },
  {
   "cell_type": "markdown",
   "metadata": {},
   "source": [
    "This is an issue with the underlying ``dateutils`` package used by ``nbgrader``. But not to worry, we can easily create a custom collector plugin to correct the timestamp strings when the files are collected:"
   ]
  },
  {
   "cell_type": "code",
   "execution_count": 9,
   "metadata": {
    "collapsed": false
   },
   "outputs": [
    {
     "name": "stdout",
     "output_type": "stream",
     "text": [
      "Writing plugin.py\n"
     ]
    }
   ],
   "source": [
    "%%file plugin.py\n",
    "\n",
    "from nbgrader.plugins import FileNameCollectorPlugin\n",
    "\n",
    "\n",
    "class CustomPlugin(FileNameCollectorPlugin):\n",
    "    def collect(self, submission_file):\n",
    "        info = super(CustomPlugin, self).collect(submission_file)\n",
    "        if info is not None:\n",
    "            info.timestamp = '{}-{}-{} {}:{}:{}'.format(\n",
    "                *tuple(info.timestamp.split('-'))\n",
    "            )\n",
    "        return info"
   ]
  },
  {
   "cell_type": "code",
   "execution_count": 10,
   "metadata": {
    "collapsed": false,
    "scrolled": true
   },
   "outputs": [
    {
     "name": "stderr",
     "output_type": "stream",
     "text": [
      "[ZipCollectApp | INFO] Using file collector: CustomPlugin\n",
      "[ZipCollectApp | WARNING] Clearing existing files in /media/logan/External/Code_Dev/nbgrader/nbgrader/docs/source/user_guide/downloaded/ps1/extracted\n",
      "[ZipCollectApp | INFO] Extracting file: /media/logan/External/Code_Dev/nbgrader/nbgrader/docs/source/user_guide/downloaded/ps1/archive/gradebook_xyz101_s1_2016_ps1_2016-02-10-17-30-10.zip\n",
      "[ZipCollectApp | INFO] Copying file to: /media/logan/External/Code_Dev/nbgrader/nbgrader/docs/source/user_guide/downloaded/ps1/extracted/ps1_hacker_attempt_2016-01-30-20-30-10_problem1.ipynb\n",
      "[ZipCollectApp | INFO] Start collecting files...\n",
      "[ZipCollectApp | INFO] Processing file: /media/logan/External/Code_Dev/nbgrader/nbgrader/docs/source/user_guide/downloaded/ps1/extracted/ps1_bitdiddle_attempt_2016-01-30-15-30-10_jupyter.png\n",
      "[ZipCollectApp | WARNING] Skipped. No match information provided.\n",
      "[ZipCollectApp | INFO] Processing file: /media/logan/External/Code_Dev/nbgrader/nbgrader/docs/source/user_guide/downloaded/ps1/extracted/ps1_bitdiddle_attempt_2016-01-30-15-30-10_problem1.ipynb\n",
      "[ZipCollectApp | INFO] Updating database for student bitdiddle.\n",
      "[ZipCollectApp | INFO] Processing file: /media/logan/External/Code_Dev/nbgrader/nbgrader/docs/source/user_guide/downloaded/ps1/extracted/ps1_bitdiddle_attempt_2016-01-30-15-30-10_problem2.ipynb\n",
      "[ZipCollectApp | INFO] Updating database for student bitdiddle.\n",
      "[ZipCollectApp | INFO] Processing file: /media/logan/External/Code_Dev/nbgrader/nbgrader/docs/source/user_guide/downloaded/ps1/extracted/ps1_hacker_attempt_2016-01-30-16-30-10_jupyter.png\n",
      "[ZipCollectApp | WARNING] Skipped. No match information provided.\n",
      "[ZipCollectApp | INFO] Processing file: /media/logan/External/Code_Dev/nbgrader/nbgrader/docs/source/user_guide/downloaded/ps1/extracted/ps1_hacker_attempt_2016-01-30-16-30-10_myproblem1.ipynb\n",
      "[ZipCollectApp | WARNING] Skipped. Invalid notebook name.\n",
      "[ZipCollectApp | INFO] Processing file: /media/logan/External/Code_Dev/nbgrader/nbgrader/docs/source/user_guide/downloaded/ps1/extracted/ps1_hacker_attempt_2016-01-30-16-30-10_problem2.ipynb\n",
      "[ZipCollectApp | INFO] Updating database for student hacker.\n",
      "[ZipCollectApp | INFO] Processing file: /media/logan/External/Code_Dev/nbgrader/nbgrader/docs/source/user_guide/downloaded/ps1/extracted/ps1_hacker_attempt_2016-01-30-20-30-10_problem1.ipynb\n",
      "[ZipCollectApp | INFO] Updating database for student hacker.\n",
      "[ZipCollectApp | WARNING] 4 files collected, 3 files skipped\n",
      "[ZipCollectApp | INFO] Start transfering files...\n",
      "[ZipCollectApp | WARNING] Clearing existing files in /media/logan/External/Code_Dev/nbgrader/nbgrader/docs/source/user_guide/submitted_zip/bitdiddle/ps1\n",
      "[ZipCollectApp | INFO] Copying from: /media/logan/External/Code_Dev/nbgrader/nbgrader/docs/source/user_guide/downloaded/ps1/extracted/ps1_bitdiddle_attempt_2016-01-30-15-30-10_problem1.ipynb\n",
      "[ZipCollectApp | INFO]   Copying to: /media/logan/External/Code_Dev/nbgrader/nbgrader/docs/source/user_guide/submitted_zip/bitdiddle/ps1/problem1.ipynb\n",
      "[ZipCollectApp | INFO] Copying from: /media/logan/External/Code_Dev/nbgrader/nbgrader/docs/source/user_guide/downloaded/ps1/extracted/ps1_bitdiddle_attempt_2016-01-30-15-30-10_problem2.ipynb\n",
      "[ZipCollectApp | INFO]   Copying to: /media/logan/External/Code_Dev/nbgrader/nbgrader/docs/source/user_guide/submitted_zip/bitdiddle/ps1/problem2.ipynb\n",
      "[ZipCollectApp | INFO] Creating timestamp: /media/logan/External/Code_Dev/nbgrader/nbgrader/docs/source/user_guide/submitted_zip/bitdiddle/ps1/timestamp.txt\n",
      "[ZipCollectApp | WARNING] Clearing existing files in /media/logan/External/Code_Dev/nbgrader/nbgrader/docs/source/user_guide/submitted_zip/hacker/ps1\n",
      "[ZipCollectApp | INFO] Copying from: /media/logan/External/Code_Dev/nbgrader/nbgrader/docs/source/user_guide/downloaded/ps1/extracted/ps1_hacker_attempt_2016-01-30-16-30-10_problem2.ipynb\n",
      "[ZipCollectApp | INFO]   Copying to: /media/logan/External/Code_Dev/nbgrader/nbgrader/docs/source/user_guide/submitted_zip/hacker/ps1/problem2.ipynb\n",
      "[ZipCollectApp | INFO] Copying from: /media/logan/External/Code_Dev/nbgrader/nbgrader/docs/source/user_guide/downloaded/ps1/extracted/ps1_hacker_attempt_2016-01-30-20-30-10_problem1.ipynb\n",
      "[ZipCollectApp | INFO]   Copying to: /media/logan/External/Code_Dev/nbgrader/nbgrader/docs/source/user_guide/submitted_zip/hacker/ps1/problem1.ipynb\n",
      "[ZipCollectApp | INFO] Creating timestamp: /media/logan/External/Code_Dev/nbgrader/nbgrader/docs/source/user_guide/submitted_zip/hacker/ps1/timestamp.txt\n"
     ]
    }
   ],
   "source": [
    "%%bash\n",
    "\n",
    "nbgrader zip_collect --force --collector=plugin.CustomPlugin ps1"
   ]
  },
  {
   "cell_type": "markdown",
   "metadata": {},
   "source": [
    "The ``--force`` flag is used this time to overwrite existing extracted and submitted files. Now if we check the timestamp we see it parsed correctly:"
   ]
  },
  {
   "cell_type": "code",
   "execution_count": 11,
   "metadata": {
    "collapsed": false
   },
   "outputs": [
    {
     "name": "stdout",
     "output_type": "stream",
     "text": [
      "2016-01-30 20:30:10"
     ]
    }
   ],
   "source": [
    "%%bash\n",
    "\n",
    "cat submitted_zip/hacker/ps1/timestamp.txt"
   ]
  },
  {
   "cell_type": "markdown",
   "metadata": {},
   "source": [
    "Note that there should only ever be *one* instructor who runs the ``nbgrader zip_collect`` command (and there should probably only be one instructor -- the same instructor -- who runs `nbgrader assign`, `nbgrader autograde` and `nbgrader formgrade` as well). However this does not mean that only one instructor can do the grading, it just means that only one instructor manages the assignment files. Other instructors can still perform grading by accessing the formgrader URL."
   ]
  },
  {
   "cell_type": "code",
   "execution_count": 12,
   "metadata": {
    "collapsed": true
   },
   "outputs": [],
   "source": []
  }
 ],
 "metadata": {},
 "nbformat": 4,
 "nbformat_minor": 0
}
