{
 "metadata": {
  "celltoolbar": "Create Assignment",
  "kernelspec": {
   "codemirror_mode": {
    "name": "ipython",
    "version": 2
   },
   "display_name": "IPython (Python 2)",
   "language": "python",
   "name": "python2"
  },
  "name": ""
 },
 "nbformat": 3,
 "nbformat_minor": 0,
 "worksheets": [
  {
   "cells": [
    {
     "cell_type": "markdown",
     "metadata": {
      "nbgrader": {
       "cell_type": "release"
      }
     },
     "source": [
      "Release only"
     ]
    },
    {
     "cell_type": "markdown",
     "metadata": {
      "nbgrader": {
       "cell_type": "solution"
      }
     },
     "source": [
      "Solution only"
     ]
    },
    {
     "cell_type": "markdown",
     "metadata": {
      "nbgrader": {
       "cell_type": "skip"
      }
     },
     "source": [
      "Skip"
     ]
    },
    {
     "cell_type": "heading",
     "level": 1,
     "metadata": {
      "nbgrader": {}
     },
     "source": [
      "foo bar"
     ]
    },
    {
     "cell_type": "heading",
     "level": 2,
     "metadata": {
      "nbgrader": {}
     },
     "source": [
      "bar"
     ]
    },
    {
     "cell_type": "heading",
     "level": 3,
     "metadata": {
      "nbgrader": {}
     },
     "source": [
      "baz"
     ]
    },
    {
     "cell_type": "code",
     "collapsed": false,
     "input": [
      "# some code problem"
     ],
     "language": "python",
     "metadata": {
      "nbgrader": {
       "cell_type": "grade",
       "id": "problem1",
       "points": "3"
      }
     },
     "outputs": []
    },
    {
     "cell_type": "markdown",
     "metadata": {
      "nbgrader": {}
     },
     "source": [
      "blah"
     ]
    },
    {
     "cell_type": "code",
     "collapsed": false,
     "input": [
      "# blah blah blah"
     ],
     "language": "python",
     "metadata": {
      "nbgrader": {
       "cell_type": "test",
       "id": "test1_for_problem1",
       "weight": ""
      }
     },
     "outputs": []
    },
    {
     "cell_type": "markdown",
     "metadata": {
      "nbgrader": {
       "cell_type": "test",
       "id": "test2_for_problem1",
       "weight": "2"
      }
     },
     "source": [
      "# blah blah blah blah"
     ]
    },
    {
     "cell_type": "heading",
     "level": 3,
     "metadata": {
      "nbgrader": {}
     },
     "source": [
      "quux"
     ]
    },
    {
     "cell_type": "markdown",
     "metadata": {
      "nbgrader": {
       "cell_type": "grade",
       "id": "problem2",
       "points": ""
      }
     },
     "source": [
      "some written problem"
     ]
    },
    {
     "cell_type": "heading",
     "level": 2,
     "metadata": {
      "nbgrader": {}
     },
     "source": [
      "foo2"
     ]
    }
   ],
   "metadata": {}
  }
 ]
}
